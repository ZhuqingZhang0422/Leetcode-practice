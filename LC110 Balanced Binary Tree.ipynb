{
 "cells": [
  {
   "cell_type": "markdown",
   "metadata": {},
   "source": [
    "### LC110_Balanced Binary Tree\n",
    "Given a binary tree, determine if it is height-balanced.\n",
    "\n",
    "For this problem, a height-balanced binary tree is defined as:\n",
    "\n",
    "a binary tree in which the left and right subtrees of every node differ in height by no more than 1.\n",
    "\n",
    " \n",
    "Example 1:\n",
    "Input: root = [3,9,20,null,null,15,7]\n",
    "Output: true\n",
    "\n",
    "Example 2:\n",
    "Input: root = [1,2,2,3,3,null,null,4,4]\n",
    "Output: false\n",
    "\n",
    "Example 3:\n",
    "Input: root = []\n",
    "Output: true\n",
    " \n",
    "Constraints:\n",
    "The number of nodes in the tree is in the range [0, 5000].\n",
    "-104 <= Node.val <= 104"
   ]
  },
  {
   "cell_type": "code",
   "execution_count": null,
   "metadata": {},
   "outputs": [],
   "source": [
    "# Definition for a binary tree node.\n",
    "# class TreeNode:\n",
    "#     def __init__(self, val=0, left=None, right=None):\n",
    "#         self.val = val\n",
    "#         self.left = left\n",
    "#         self.right = right\n",
    "class Solution:\n",
    "    def isBalanced(self, root: TreeNode) -> bool:\n",
    "        if not root:\n",
    "            return True\n",
    "        return abs(self.height(root.left) - self.height(root.right)) < 2 and \\\n",
    "    self.isBalanced(root.left) and self.isBalanced(root.right)\n",
    "        \n",
    "    def height(self,root):\n",
    "        if not root:\n",
    "            return -1\n",
    "        else:\n",
    "            return 1 + max(self.height(root.right),self.height(root.left))"
   ]
  }
 ],
 "metadata": {
  "kernelspec": {
   "display_name": "Python 3",
   "language": "python",
   "name": "python3"
  },
  "language_info": {
   "codemirror_mode": {
    "name": "ipython",
    "version": 3
   },
   "file_extension": ".py",
   "mimetype": "text/x-python",
   "name": "python",
   "nbconvert_exporter": "python",
   "pygments_lexer": "ipython3",
   "version": "3.7.6"
  }
 },
 "nbformat": 4,
 "nbformat_minor": 4
}
