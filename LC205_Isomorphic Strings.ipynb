{
 "cells": [
  {
   "cell_type": "markdown",
   "metadata": {},
   "source": [
    "### LC205_Isomorphic Strings\n",
    "Given two strings s and t, determine if they are isomorphic.\n",
    "\n",
    "Two strings are isomorphic if the characters in s can be replaced to get t.\n",
    "\n",
    "All occurrences of a character must be replaced with another character while preserving the order of characters. No two characters may map to the same character but a character may map to itself.\n",
    "\n",
    "Example 1:\n",
    "\n",
    "Input: s = \"egg\", t = \"add\"\n",
    "Output: true\n",
    "Example 2:\n",
    "\n",
    "Input: s = \"foo\", t = \"bar\"\n",
    "Output: false\n",
    "Example 3:\n",
    "\n",
    "Input: s = \"paper\", t = \"title\"\n",
    "Output: true"
   ]
  },
  {
   "cell_type": "code",
   "execution_count": 1,
   "metadata": {},
   "outputs": [],
   "source": [
    "class Solution:\n",
    "    def isIsomorphic(self, s: str, t: str) -> bool:\n",
    "        if len(s) != len(t):\n",
    "            return False\n",
    "        \n",
    "        dic_s = {}\n",
    "        dic_t = {}\n",
    "        ind = 0 \n",
    "        for i in range (len(s)):\n",
    "            if s[i] not in dic_s and t[i] not in dic_t:\n",
    "                dic_s [s[i]] = ind\n",
    "                dic_t [t[i]] = ind\n",
    "                ind += 1\n",
    "            elif s[i] in dic_s and t[i] in dic_t:\n",
    "                if dic_s[s[i]] != dic_t[t[i]]:\n",
    "                    return False\n",
    "            else:\n",
    "                return False\n",
    "        return True"
   ]
  },
  {
   "cell_type": "code",
   "execution_count": null,
   "metadata": {},
   "outputs": [],
   "source": []
  }
 ],
 "metadata": {
  "kernelspec": {
   "display_name": "Python 3",
   "language": "python",
   "name": "python3"
  },
  "language_info": {
   "codemirror_mode": {
    "name": "ipython",
    "version": 3
   },
   "file_extension": ".py",
   "mimetype": "text/x-python",
   "name": "python",
   "nbconvert_exporter": "python",
   "pygments_lexer": "ipython3",
   "version": "3.7.6"
  }
 },
 "nbformat": 4,
 "nbformat_minor": 4
}
