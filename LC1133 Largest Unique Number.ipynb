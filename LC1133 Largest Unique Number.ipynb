{
 "cells": [
  {
   "cell_type": "markdown",
   "metadata": {},
   "source": [
    "### LC1133_Largest Unique Number\n",
    "Given an array of integers A, return the largest integer that only occurs once.\n",
    "\n",
    "If no integer occurs once, return -1.\n",
    "\n",
    "Example 1:\n",
    "Input: [5,7,3,9,4,9,8,3,1]\n",
    "Output: 8\n",
    "Explanation: \n",
    "The maximum integer in the array is 9 but it is repeated. The number 8 occurs only once, so it's the answer.\n",
    "\n",
    "Example 2:\n",
    "Input: [9,9,8,8]\n",
    "Output: -1\n",
    "Explanation: \n",
    "There is no number that occurs only once."
   ]
  },
  {
   "cell_type": "code",
   "execution_count": null,
   "metadata": {},
   "outputs": [],
   "source": [
    "class Solution:\n",
    "    def largestUniqueNumber(self, A: List[int]) -> int:\n",
    "        freq = Counter(A)\n",
    "        res = []\n",
    "        for key in freq:\n",
    "            if freq[key] < 2:\n",
    "                res.append(key)\n",
    "        if res == []:\n",
    "            return -1\n",
    "        return max(res)"
   ]
  },
  {
   "cell_type": "code",
   "execution_count": null,
   "metadata": {},
   "outputs": [],
   "source": [
    "class Solution:\n",
    "    def largestUniqueNumber(self, A: List[int]) -> int:\n",
    "        freq = Counter(A)\n",
    "        res = -1\n",
    "        for key in freq:\n",
    "            if freq[key] < 2:\n",
    "                res = max(res,key)\n",
    "        return res"
   ]
  }
 ],
 "metadata": {
  "kernelspec": {
   "display_name": "Python 3",
   "language": "python",
   "name": "python3"
  },
  "language_info": {
   "codemirror_mode": {
    "name": "ipython",
    "version": 3
   },
   "file_extension": ".py",
   "mimetype": "text/x-python",
   "name": "python",
   "nbconvert_exporter": "python",
   "pygments_lexer": "ipython3",
   "version": "3.7.6"
  }
 },
 "nbformat": 4,
 "nbformat_minor": 4
}
