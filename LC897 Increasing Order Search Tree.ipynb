{
 "cells": [
  {
   "cell_type": "markdown",
   "metadata": {},
   "source": [
    "### LC897_Increasing Order Search Tree\n",
    "Given the root of a binary search tree, rearrange the tree in in-order so that the leftmost node in the tree is now the root of the tree, and every node has no left child and only one right child.\n",
    "\n",
    " \n",
    "\n",
    "Example 1:\n",
    "\n",
    "\n",
    "Input: root = [5,3,6,2,4,null,8,1,null,null,null,7,9]\n",
    "Output: [1,null,2,null,3,null,4,null,5,null,6,null,7,null,8,null,9]\n",
    "Example 2:\n",
    "\n",
    "\n",
    "Input: root = [5,1,7]\n",
    "Output: [1,null,5,null,7]\n",
    " \n",
    "\n",
    "Constraints:\n",
    "\n",
    "The number of nodes in the given tree will be in the range [1, 100].\n",
    "0 <= Node.val <= 1000"
   ]
  },
  {
   "cell_type": "code",
   "execution_count": null,
   "metadata": {},
   "outputs": [],
   "source": [
    "# Definition for a binary tree node.\n",
    "# class TreeNode:\n",
    "#     def __init__(self, val=0, left=None, right=None):\n",
    "#         self.val = val\n",
    "#         self.left = left\n",
    "#         self.right = right\n",
    "class Solution:\n",
    "    def increasingBST(self, root: TreeNode) -> TreeNode:\n",
    "        ans = self.cur =  TreeNode(1)\n",
    "        self.inorder(root)\n",
    "        return ans.right\n",
    "    \n",
    "    def inorder(self,node):\n",
    "        if node:\n",
    "            self.inorder(node.left)\n",
    "            node.left = None\n",
    "            self.cur.right = node\n",
    "            self.cur = node\n",
    "            self.inorder(node.right)"
   ]
  }
 ],
 "metadata": {
  "kernelspec": {
   "display_name": "Python 3",
   "language": "python",
   "name": "python3"
  },
  "language_info": {
   "codemirror_mode": {
    "name": "ipython",
    "version": 3
   },
   "file_extension": ".py",
   "mimetype": "text/x-python",
   "name": "python",
   "nbconvert_exporter": "python",
   "pygments_lexer": "ipython3",
   "version": "3.8.5"
  }
 },
 "nbformat": 4,
 "nbformat_minor": 4
}
