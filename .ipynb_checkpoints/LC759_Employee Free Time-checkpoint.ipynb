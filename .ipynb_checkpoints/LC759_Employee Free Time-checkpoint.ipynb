{
 "cells": [
  {
   "cell_type": "markdown",
   "metadata": {},
   "source": [
    "### LC759_Employee Free Time\n",
    "We are given a list schedule of employees, which represents the working time for each employee.\n",
    "\n",
    "Each employee has a list of non-overlapping Intervals, and these intervals are in sorted order.\n",
    "\n",
    "Return the list of finite intervals representing common, positive-length free time for all employees, also in sorted order.\n",
    "\n",
    "(Even though we are representing Intervals in the form [x, y], the objects inside are Intervals, not lists or arrays. For example, schedule[0][0].start = 1, schedule[0][0].end = 2, and schedule[0][0][0] is not defined).  Also, we wouldn't include intervals like [5, 5] in our answer, as they have zero length.\n",
    "\n",
    " \n",
    "\n",
    "Example 1:\n",
    "\n",
    "Input: schedule = [[[1,2],[5,6]],[[1,3]],[[4,10]]]\n",
    "Output: [[3,4]]\n",
    "Explanation: There are a total of three employees, and all common\n",
    "free time intervals would be [-inf, 1], [3, 4], [10, inf].\n",
    "We discard any intervals that contain inf as they aren't finite.\n",
    "Example 2:\n",
    "\n",
    "Input: schedule = [[[1,3],[6,7]],[[2,4]],[[2,5],[9,12]]]\n",
    "Output: [[5,6],[7,9]]\n",
    " \n",
    "\n",
    "Constraints:\n",
    "\n",
    "1 <= schedule.length , schedule[i].length <= 50\n",
    "0 <= schedule[i].start < schedule[i].end <= 10^8"
   ]
  },
  {
   "cell_type": "code",
   "execution_count": null,
   "metadata": {},
   "outputs": [],
   "source": [
    "\"\"\"\n",
    "# Definition for an Interval.\n",
    "class Interval(object):\n",
    "    def __init__(self, start=None, end=None):\n",
    "        self.start = start\n",
    "        self.end = end\n",
    "\"\"\"\n",
    "from heapq import *\n",
    "class Solution(object):\n",
    "    def employeeFreeTime(self, schedule):\n",
    "        \"\"\"\n",
    "        :type schedule: [[Interval]]\n",
    "        :rtype: [Interval]\n",
    "        \"\"\"\n",
    "        def __lt__(self,other):\n",
    "            return self.start < other.start\n",
    "        \n",
    "        Interval.__lt__ = __lt__\n",
    "        res = []\n",
    "        minheap = []\n",
    "        n = len(schedule)\n",
    "        for i in range (n):\n",
    "            heappush(minheap,(schedule[i][0],i,0)) \n",
    "        prev_int = minheap[0][0]\n",
    "        while minheap:\n",
    "            cur = heappop(minheap)\n",
    "            cur_int = cur[0]\n",
    "            if prev_int.end < cur_int.start:\n",
    "                res.append(Interval(prev_int.end,cur_int.start))\n",
    "                prev_int = cur_int\n",
    "            else:\n",
    "                if prev_int.end < cur_int.end:\n",
    "                    prev_int = cur_int\n",
    "            if len(schedule[cur[1]]) > cur[2] + 1:\n",
    "                heappush(minheap,(schedule[cur[1]][cur[2]+1],cur[1],cur[2]+1))\n",
    "        return res\n",
    "            "
   ]
  }
 ],
 "metadata": {
  "kernelspec": {
   "display_name": "Python 3",
   "language": "python",
   "name": "python3"
  },
  "language_info": {
   "codemirror_mode": {
    "name": "ipython",
    "version": 3
   },
   "file_extension": ".py",
   "mimetype": "text/x-python",
   "name": "python",
   "nbconvert_exporter": "python",
   "pygments_lexer": "ipython3",
   "version": "3.7.6"
  }
 },
 "nbformat": 4,
 "nbformat_minor": 4
}
