{
 "cells": [
  {
   "cell_type": "markdown",
   "metadata": {},
   "source": [
    "### LC1578_Minimum Deletion Cost to Avoid Repeating Letters\n",
    "Given a string s and an array of integers cost where cost[i] is the cost of deleting the ith character in s.\n",
    "\n",
    "Return the minimum cost of deletions such that there are no two identical letters next to each other.\n",
    "\n",
    "Notice that you will delete the chosen characters at the same time, in other words, after deleting a character, the costs of deleting other characters will not change.\n",
    "\n",
    "Example 1:\n",
    "\n",
    "Input: s = \"abaac\", cost = [1,2,3,4,5]\n",
    "Output: 3\n",
    "Explanation: Delete the letter \"a\" with cost 3 to get \"abac\" (String without two identical letters next to each other).\n",
    "Example 2:\n",
    "\n",
    "Input: s = \"abc\", cost = [1,2,3]\n",
    "Output: 0\n",
    "Explanation: You don't need to delete any character because there are no identical letters next to each other.\n",
    "Example 3:\n",
    "\n",
    "Input: s = \"aabaa\", cost = [1,2,3,4,1]\n",
    "Output: 2\n",
    "Explanation: Delete the first and the last character, getting the string (\"aba\")."
   ]
  },
  {
   "cell_type": "code",
   "execution_count": null,
   "metadata": {},
   "outputs": [],
   "source": [
    "from heapq import *\n",
    "class Solution(object):\n",
    "    def minCost(self, s, cost):\n",
    "        \"\"\"\n",
    "        :type s: str\n",
    "        :type cost: List[int]\n",
    "        :rtype: int\n",
    "        \"\"\"\n",
    "        res = 0\n",
    "        index = 0\n",
    "        while index < len(s):\n",
    "            temp = []\n",
    "            _left = index\n",
    "            heappush(temp,-cost[_left])\n",
    "            _right = index + 1\n",
    "            delete_cost = 0\n",
    "            while _right < len(s) and s[_left] == s[_right]:\n",
    "                heappush(temp,-cost[_right])\n",
    "                _right +=1\n",
    "            if len(temp) > 1:\n",
    "                delete_cost = -sum(temp) + heappop(temp)\n",
    "                index = _right -1 \n",
    "            res += delete_cost\n",
    "            index +=1\n",
    "        return res"
   ]
  },
  {
   "cell_type": "code",
   "execution_count": null,
   "metadata": {},
   "outputs": [],
   "source": [
    "class Solution(object):\n",
    "    def minCost(self, s, cost):\n",
    "        \"\"\"\n",
    "        :type s: str\n",
    "        :type cost: List[int]\n",
    "        :rtype: int\n",
    "        \"\"\"\n",
    "        res, sums = 0, 0\n",
    "        while i < len(s):\n",
    "            sums = cost_max = cost[i]\n",
    "            while i< len(s)-1 and s[i] == s[i+1]:\n",
    "                cost_max = max(cost_max,cost[i])\n",
    "                sums += cost[i+1]\n",
    "                i +=1\n",
    "            res += sums - cost_max\n",
    "            i +=1\n",
    "        return res"
   ]
  }
 ],
 "metadata": {
  "kernelspec": {
   "display_name": "Python 3",
   "language": "python",
   "name": "python3"
  },
  "language_info": {
   "codemirror_mode": {
    "name": "ipython",
    "version": 3
   },
   "file_extension": ".py",
   "mimetype": "text/x-python",
   "name": "python",
   "nbconvert_exporter": "python",
   "pygments_lexer": "ipython3",
   "version": "3.7.6"
  }
 },
 "nbformat": 4,
 "nbformat_minor": 4
}
