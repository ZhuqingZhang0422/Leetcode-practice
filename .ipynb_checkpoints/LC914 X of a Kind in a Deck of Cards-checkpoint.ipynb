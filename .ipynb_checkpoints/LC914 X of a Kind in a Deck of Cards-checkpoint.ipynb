{
 "cells": [
  {
   "cell_type": "markdown",
   "metadata": {},
   "source": [
    "### LC914_X of a Kind in a Deck of Cards\n",
    "In a deck of cards, each card has an integer written on it.\n",
    "\n",
    "Return true if and only if you can choose X >= 2 such that it is possible to split the entire deck into 1 or more groups of cards, where:\n",
    "\n",
    "Each group has exactly X cards.\n",
    "All the cards in each group have the same integer.\n",
    " \n",
    "\n",
    "Example 1:\n",
    "\n",
    "Input: deck = [1,2,3,4,4,3,2,1]\n",
    "Output: true\n",
    "Explanation: Possible partition [1,1],[2,2],[3,3],[4,4].\n",
    "Example 2:\n",
    "\n",
    "Input: deck = [1,1,1,2,2,2,3,3]\n",
    "Output: false´\n",
    "Explanation: No possible partition.\n",
    "Example 3:\n",
    "\n",
    "Input: deck = [1]\n",
    "Output: false\n",
    "Explanation: No possible partition.\n",
    "Example 4:\n",
    "\n",
    "Input: deck = [1,1]\n",
    "Output: true\n",
    "Explanation: Possible partition [1,1].\n",
    "Example 5:\n",
    "\n",
    "Input: deck = [1,1,2,2,2,2]\n",
    "Output: true\n",
    "Explanation: Possible partition [1,1],[2,2],[2,2]."
   ]
  },
  {
   "cell_type": "code",
   "execution_count": null,
   "metadata": {},
   "outputs": [],
   "source": [
    "class Solution:\n",
    "    def hasGroupsSizeX(self, deck: List[int]) -> bool:\n",
    "        dic = Counter(deck)\n",
    "        res = sorted(list(dic.values()))\n",
    "        deck = []\n",
    "        for i in range (2,res[-1]+1):\n",
    "            deck.append(i)\n",
    "            for num in res:\n",
    "                if num % i != 0:\n",
    "                    deck.pop()\n",
    "                    break\n",
    "        return not (len(deck) == 0)"
   ]
  },
  {
   "cell_type": "code",
   "execution_count": null,
   "metadata": {},
   "outputs": [],
   "source": [
    "class Solution(object):\n",
    "    def hasGroupsSizeX(self, deck):\n",
    "        from fractions import gcd\n",
    "        vals = collections.Counter(deck).values()\n",
    "        return reduce(gcd, vals) >= 2"
   ]
  }
 ],
 "metadata": {
  "kernelspec": {
   "display_name": "Python 3",
   "language": "python",
   "name": "python3"
  },
  "language_info": {
   "codemirror_mode": {
    "name": "ipython",
    "version": 3
   },
   "file_extension": ".py",
   "mimetype": "text/x-python",
   "name": "python",
   "nbconvert_exporter": "python",
   "pygments_lexer": "ipython3",
   "version": "3.7.6"
  }
 },
 "nbformat": 4,
 "nbformat_minor": 4
}
