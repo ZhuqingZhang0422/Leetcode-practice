{
 "cells": [
  {
   "cell_type": "markdown",
   "metadata": {},
   "source": [
    "### LC734_Sentence Similarity\n",
    "We can represent a sentence as an array of words, for example, the sentence \"I am happy with leetcode\" can be represented as arr = [\"I\",\"am\",happy\",\"with\",\"leetcode\"].\n",
    "\n",
    "Given two sentences sentence1 and sentence2 each represented as a string array and given an array of string pairs similarPairs where similarPairs[i] = [xi, yi] indicates that the two words xi and yi are similar.\n",
    "\n",
    "Return true if sentence1 and sentence2 are similar, or false if they are not similar.\n",
    "\n",
    "Two sentences are similar if:\n",
    "\n",
    "They have the same length (i.e. the same number of words)\n",
    "sentence1[i] and sentence2[i] are similar.\n",
    "Notice that a word is always similar to itself, also notice that the similarity relation is not transitive. For example, if the words a and b are similar and the words b and c are similar, a and c are not necessarily similar.\n",
    "\n",
    "Example 1:\n",
    "\n",
    "Input: sentence1 = [\"great\",\"acting\",\"skills\"], sentence2 = [\"fine\",\"drama\",\"talent\"], similarPairs = [[\"great\",\"fine\"],[\"drama\",\"acting\"],[\"skills\",\"talent\"]]\n",
    "Output: true\n",
    "Explanation: The two sentences have the same length and each word i of sentence1 is also similar to the corresponding word in sentence2.\n",
    "Example 2:\n",
    "\n",
    "Input: sentence1 = [\"great\"], sentence2 = [\"great\"], similarPairs = []\n",
    "Output: true\n",
    "Explanation: A word is similar to itself.\n",
    "Example 3:\n",
    "\n",
    "Input: sentence1 = [\"great\"], sentence2 = [\"doubleplus\",\"good\"], similarPairs = [[\"great\",\"doubleplus\"]]\n",
    "Output: false\n",
    "Explanation: As they don't have the same length, we return false."
   ]
  },
  {
   "cell_type": "code",
   "execution_count": null,
   "metadata": {},
   "outputs": [],
   "source": [
    "class Solution:\n",
    "    def areSentencesSimilar(self, sentence1: List[str], sentence2: List[str], similarPairs: List[List[str]]) -> bool:\n",
    "        if len(sentence1) != len(sentence2):\n",
    "            return False\n",
    "        \n",
    "        sim_dic = defaultdict(list)\n",
    "        for p in similarPairs:\n",
    "            sim_dic[p[0]].append(p[1])\n",
    "            sim_dic[p[1]].append(p[0])\n",
    "            \n",
    "        for i in range (len(sentence1)):\n",
    "            if sentence2[i] != sentence1[i] and sentence2[i] not in sim_dic[sentence1[i]]:\n",
    "                return False\n",
    "            \n",
    "        return True"
   ]
  },
  {
   "cell_type": "code",
   "execution_count": null,
   "metadata": {},
   "outputs": [],
   "source": []
  },
  {
   "cell_type": "code",
   "execution_count": null,
   "metadata": {},
   "outputs": [],
   "source": []
  }
 ],
 "metadata": {
  "kernelspec": {
   "display_name": "Python 3",
   "language": "python",
   "name": "python3"
  },
  "language_info": {
   "codemirror_mode": {
    "name": "ipython",
    "version": 3
   },
   "file_extension": ".py",
   "mimetype": "text/x-python",
   "name": "python",
   "nbconvert_exporter": "python",
   "pygments_lexer": "ipython3",
   "version": "3.7.6"
  }
 },
 "nbformat": 4,
 "nbformat_minor": 4
}
