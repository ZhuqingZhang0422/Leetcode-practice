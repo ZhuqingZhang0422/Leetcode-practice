{
 "cells": [
  {
   "cell_type": "markdown",
   "metadata": {},
   "source": [
    "### LC2_Add Two Numbers\n",
    "You are given two non-empty linked lists representing two non-negative integers. The digits are stored in reverse order and each of their nodes contain a single digit. Add the two numbers and return it as a linked list.\n",
    "\n",
    "You may assume the two numbers do not contain any leading zero, except the number 0 itself.\n",
    "\n",
    "Example:\n",
    "\n",
    "Input: (2 -> 4 -> 3) + (5 -> 6 -> 4)\n",
    "Output: 7 -> 0 -> 8\n",
    "Explanation: 342 + 465 = 807."
   ]
  },
  {
   "cell_type": "code",
   "execution_count": null,
   "metadata": {},
   "outputs": [],
   "source": [
    "# Definition for singly-linked list.\n",
    "# class ListNode(object):\n",
    "#     def __init__(self, val=0, next=None):\n",
    "#         self.val = val\n",
    "#         self.next = next\n",
    "class Solution(object):\n",
    "    def addTwoNumbers(self, l1, l2):\n",
    "        \"\"\"\n",
    "        :type l1: ListNode\n",
    "        :type l2: ListNode\n",
    "        :rtype: ListNode\n",
    "        \"\"\"\n",
    "        dismal = 0\n",
    "        head = tail = None\n",
    "        while l1 and l2:\n",
    "            node_sum = l1.val + l2.val + dismal\n",
    "            if node_sum >= 10:\n",
    "                node_val = node_sum % 10\n",
    "                dismal = 1\n",
    "            else: \n",
    "                node_val = node_sum\n",
    "                dismal = 0\n",
    "            if head == None:\n",
    "                head = tail = ListNode(node_val)\n",
    "            else:\n",
    "                tail.next = ListNode(node_val)\n",
    "                tail = tail.next\n",
    "            l1 = l1.next\n",
    "            l2 = l2.next\n",
    " \n",
    "        while l1:\n",
    "            node_sum = l1.val + dismal\n",
    "            if node_sum >= 10:\n",
    "                node_val = node_sum % 10\n",
    "                dismal = 1\n",
    "            else:\n",
    "                node_val = node_sum\n",
    "                dismal = 0\n",
    "            tail.next = ListNode(node_val)\n",
    "            tail = tail.next\n",
    "            l1 = l1.next\n",
    "        while l2:\n",
    "            node_sum = l2.val + dismal\n",
    "            if node_sum >= 10:\n",
    "                node_val = node_sum % 10\n",
    "                dismal = 1\n",
    "            else:\n",
    "                node_val = node_sum\n",
    "                dismal = 0\n",
    "            tail.next = ListNode(node_val)\n",
    "            tail = tail.next\n",
    "            l2 = l2.next\n",
    "        if dismal != 0 and (l1==None and l2 == None):\n",
    "            tail.next = ListNode(1)\n",
    "        return head\n",
    "            "
   ]
  }
 ],
 "metadata": {
  "kernelspec": {
   "display_name": "Python 3",
   "language": "python",
   "name": "python3"
  },
  "language_info": {
   "codemirror_mode": {
    "name": "ipython",
    "version": 3
   },
   "file_extension": ".py",
   "mimetype": "text/x-python",
   "name": "python",
   "nbconvert_exporter": "python",
   "pygments_lexer": "ipython3",
   "version": "3.7.6"
  }
 },
 "nbformat": 4,
 "nbformat_minor": 4
}
