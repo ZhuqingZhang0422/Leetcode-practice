{
 "cells": [
  {
   "cell_type": "markdown",
   "metadata": {},
   "source": [
    "### LC457_Circular Array Loop\n",
    "You are given a circular array nums of positive and negative integers. If a number k at an index is positive, then move forward k steps. Conversely, if it's negative (-k), move backward k steps. Since the array is circular, you may assume that the last element's next element is the first element, and the first element's previous element is the last element.\n",
    "\n",
    "Determine if there is a loop (or a cycle) in nums. A cycle must start and end at the same index and the cycle's length > 1. Furthermore, movements in a cycle must all follow a single direction. In other words, a cycle must not consist of both forward and backward movements.\n",
    "\n",
    " \n",
    "\n",
    "Example 1:\n",
    "\n",
    "Input: [2,-1,1,2,2]\n",
    "Output: true\n",
    "Explanation: There is a cycle, from index 0 -> 2 -> 3 -> 0. The cycle's length is 3.\n",
    "Example 2:\n",
    "\n",
    "Input: [-1,2]\n",
    "Output: false\n",
    "Explanation: The movement from index 1 -> 1 -> 1 ... is not a cycle, because the cycle's length is 1. By definition the cycle's length must be greater than 1.\n",
    "Example 3:\n",
    "\n",
    "Input: [-2,1,-1,-2,-2]\n",
    "Output: false\n",
    "Explanation: The movement from index 1 -> 2 -> 1 -> ... is not a cycle, because movement from index 1 -> 2 is a forward movement, but movement from index 2 -> 1 is a backward movement. All movements in a cycle must follow a single direction."
   ]
  },
  {
   "cell_type": "code",
   "execution_count": null,
   "metadata": {},
   "outputs": [],
   "source": [
    "class Solution(object):\n",
    "    def circularArrayLoop(self, nums):\n",
    "        \"\"\"\n",
    "        :type nums: List[int]\n",
    "        :rtype: bool\n",
    "        \"\"\"\n",
    "        for i in range (len(nums)):\n",
    "            is_forw = nums[i] >= 0\n",
    "            slow, fast = i , i\n",
    "            while True:\n",
    "                slow = self.move(nums,slow,is_forw)\n",
    "                fast = self.move(nums,fast,is_forw)\n",
    "                if fast != -1:\n",
    "                    fast = self.move(nums,fast,is_forw)\n",
    "                if slow == -1 or fast == -1 or slow == fast:\n",
    "                    break\n",
    "            if slow == fast and slow != -1:\n",
    "                return True\n",
    "        return False\n",
    "                    \n",
    "            \n",
    "            \n",
    "    def move(self,nums,i,is_forw):\n",
    "        dirc = nums[i] >= 0\n",
    "        if dirc != is_forw:\n",
    "            return -1\n",
    "        res = (i + nums[i]) % len(nums)\n",
    "        if res == i:\n",
    "            res = -1\n",
    "        return res"
   ]
  }
 ],
 "metadata": {
  "kernelspec": {
   "display_name": "Python 3",
   "language": "python",
   "name": "python3"
  },
  "language_info": {
   "codemirror_mode": {
    "name": "ipython",
    "version": 3
   },
   "file_extension": ".py",
   "mimetype": "text/x-python",
   "name": "python",
   "nbconvert_exporter": "python",
   "pygments_lexer": "ipython3",
   "version": "3.7.6"
  }
 },
 "nbformat": 4,
 "nbformat_minor": 4
}
