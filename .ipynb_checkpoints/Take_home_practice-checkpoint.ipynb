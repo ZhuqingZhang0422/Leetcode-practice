{
 "cells": [
  {
   "cell_type": "markdown",
   "metadata": {},
   "source": [
    "### Coding Question from Jerry.Ai\n",
    "Task: Creat a program that manages disjointed intervals of integers by implementing two functions:\n",
    "•\tAdd (from, to)\n",
    "•\tRemove (from, to)\n",
    "<br>\n",
    "    Example: \n",
    "        Start: []\n",
    "<br>\n",
    "        Call: add(1, 5) => [[1, 5]]\n",
    "<br>\n",
    "        Call: remove(2, 3) => [[1, 2], [3, 5]]\n",
    "<br>\n",
    "        Call: add(6, 8) => [[1, 2], [3, 5], [6, 8]] \n",
    "<br>\n",
    "        Call: remove(4, 7) => [[1, 2], [3, 4], [7, 8]] \n",
    "<br>\n",
    "        Call: add(2, 7) => [[1, 8]] "
   ]
  },
  {
   "cell_type": "code",
   "execution_count": 25,
   "metadata": {},
   "outputs": [
    {
     "name": "stdout",
     "output_type": "stream",
     "text": [
      "[[1, 5]]\n",
      "[[1, 2], [3, 5]]\n",
      "[[1, 2], [3, 5], [6, 8]]\n",
      "[[1, 2], [3, 4], [7, 8]]\n",
      "[[1, 8]]\n"
     ]
    }
   ],
   "source": [
    "from __future__ import print_function\n",
    "\n",
    "class Intervals:\n",
    "    def __init__(self):\n",
    "        self.res = []\n",
    "    \n",
    "    def add(self,fr,to):\n",
    "        '''\n",
    "        ARGUS:\n",
    "            fr: Interval from (start point of interval)\n",
    "            to: Interval to (end point of interval)\n",
    "        '''\n",
    "        intervals = self.res\n",
    "        self.res = []\n",
    "        i = 0\n",
    "        while i < len(intervals) and intervals[i][1] < fr:\n",
    "            self.res.append(intervals[i])\n",
    "            i += 1\n",
    "        while i < len(intervals) and intervals[i][0] <= to:\n",
    "            fr = min(intervals[i][0],fr)\n",
    "            to = max(intervals[i][1],to)\n",
    "            i+= 1\n",
    "        self.res.append([fr,to])\n",
    "        while i<len(intervals):\n",
    "            self.res.append(intervals[i])\n",
    "            i += 1\n",
    "            \n",
    "    def remove(self,fr,to):\n",
    "        intervals = self.res\n",
    "        self.res = []\n",
    "        for start, end in intervals:\n",
    "            if start > to or end < fr:\n",
    "                self.res.append([start,end])\n",
    "            else:\n",
    "                if start < fr:\n",
    "                    self.res.append([start,fr])\n",
    "                if end > to:\n",
    "                    self.res.append([to,end])\n",
    "'''\n",
    "Call: add(1, 5) => [[1, 5]]\n",
    "Call: remove(2, 3) => [[1, 2], [3, 5]]\n",
    "Call: add(6, 8) => [[1, 2], [3, 5], [6, 8]]\n",
    "Call: remove(4, 7) => [[1, 2], [3, 4], [7, 8]]\n",
    "Call: add(2, 7) => [[1, 8]]\n",
    "'''\n",
    "\n",
    "inter = Intervals()\n",
    "inter.add(1,5)\n",
    "print(inter.res)\n",
    "inter.remove(2,3)\n",
    "print(inter.res)\n",
    "inter.add(6,8)\n",
    "print(inter.res)\n",
    "inter.remove(4,7)\n",
    "print(inter.res)\n",
    "inter.add(2,7)\n",
    "print(inter.res)"
   ]
  },
  {
   "cell_type": "code",
   "execution_count": 2,
   "metadata": {},
   "outputs": [
    {
     "name": "stdout",
     "output_type": "stream",
     "text": [
      "Intervals after inserting the new interval: [[1, 3], [4, 7], [8, 12]]\n",
      "Intervals after inserting the new interval: [[1, 3], [4, 12]]\n",
      "Intervals after inserting the new interval: [[1, 4], [5, 7]]\n"
     ]
    }
   ],
   "source": [
    "def insert(intervals, new_interval):\n",
    "  merged = []\n",
    "  i, start, end = 0,0,1\n",
    "  while i<len(intervals) and intervals[i][end]< new_interval[start]:\n",
    "    merged.append(intervals[i])\n",
    "    i += 1\n",
    "  while i<len(intervals) and intervals[i][start] <= new_interval[end]:\n",
    "    new_interval[start] = min(intervals[i][start],new_interval[start])\n",
    "    new_interval[end] = max (intervals[i][end],new_interval[end])\n",
    "    i += 1\n",
    "  merged.append(new_interval)\n",
    "  while i<len(intervals):\n",
    "    merged.append(intervals[i])\n",
    "    i+=1\n",
    "  # TODO: Write your code here\n",
    "  return merged\n",
    "\n",
    "\n",
    "def main():\n",
    "  print(\"Intervals after inserting the new interval: \" + str(insert([[1, 3], [5, 7], [8, 12]], [4, 6])))\n",
    "  print(\"Intervals after inserting the new interval: \" + str(insert([[1, 3], [5, 7], [8, 12]], [4, 10])))\n",
    "  print(\"Intervals after inserting the new interval: \" + str(insert([[2, 3], [5, 7]], [1, 4])))\n",
    "\n",
    "\n",
    "main()"
   ]
  },
  {
   "cell_type": "code",
   "execution_count": 3,
   "metadata": {},
   "outputs": [
    {
     "name": "stdout",
     "output_type": "stream",
     "text": [
      "Intervals after inserting the new interval: [[1, 3], [4, 7], [8, 12]]\n",
      "Intervals after inserting the new interval: [[1, 3], [4, 12]]\n",
      "Intervals after inserting the new interval: [[1, 4], [5, 7]]\n"
     ]
    }
   ],
   "source": [
    "def insert(intervals, new_interval):\n",
    "  merged = []\n",
    "  i, start, end = 0,0,1\n",
    "  while i<len(intervals) and intervals[i][end]< new_interval[start]:\n",
    "    merged.append(intervals[i])\n",
    "    i += 1\n",
    "  while i<len(intervals) and intervals[i][start] <= new_interval[end]:\n",
    "    new_interval[start] = min(intervals[i][start],new_interval[start])\n",
    "    new_interval[end] = max (intervals[i][end],new_interval[end])\n",
    "    i += 1\n",
    "  merged.append(new_interval)\n",
    "  while i<len(intervals):\n",
    "    merged.append(intervals[i])\n",
    "    i+=1\n",
    "  # TODO: Write your code here\n",
    "  return merged\n",
    "\n",
    "\n",
    "def main():\n",
    "  print(\"Intervals after inserting the new interval: \" + str(insert([[1, 3], [5, 7], [8, 12]], [4, 6])))\n",
    "  print(\"Intervals after inserting the new interval: \" + str(insert([[1, 3], [5, 7], [8, 12]], [4, 10])))\n",
    "  print(\"Intervals after inserting the new interval: \" + str(insert([[2, 3], [5, 7]], [1, 4])))\n",
    "\n",
    "\n",
    "main()"
   ]
  },
  {
   "cell_type": "code",
   "execution_count": null,
   "metadata": {},
   "outputs": [],
   "source": [
    "class MinStack:\n",
    "\n",
    "    def __init__(self):\n",
    "        self.stack = []\n",
    "        \n",
    "\n",
    "    def push(self, x: int) -> None:\n",
    "        \n",
    "        # If the stack is empty, then the min value\n",
    "        # must just be the first value we add\n",
    "        if not self.stack:\n",
    "            self.stack.append((x, x))\n",
    "            return\n",
    "\n",
    "        current_min = self.stack[-1][1]\n",
    "        self.stack.append((x, min(x, current_min)))\n",
    "        \n",
    "        \n",
    "    def pop(self) -> None:\n",
    "        self.stack.pop()\n",
    "        \n",
    "\n",
    "    def top(self) -> int:\n",
    "        return self.stack[-1][0]\n",
    "        \n",
    "\n",
    "    def getMin(self) -> int:\n",
    "        return self.stack[-1][1]"
   ]
  }
 ],
 "metadata": {
  "kernelspec": {
   "display_name": "Python 3",
   "language": "python",
   "name": "python3"
  },
  "language_info": {
   "codemirror_mode": {
    "name": "ipython",
    "version": 3
   },
   "file_extension": ".py",
   "mimetype": "text/x-python",
   "name": "python",
   "nbconvert_exporter": "python",
   "pygments_lexer": "ipython3",
   "version": "3.8.5"
  }
 },
 "nbformat": 4,
 "nbformat_minor": 4
}
