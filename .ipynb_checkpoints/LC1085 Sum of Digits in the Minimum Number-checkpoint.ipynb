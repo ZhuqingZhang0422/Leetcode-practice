{
 "cells": [
  {
   "cell_type": "markdown",
   "metadata": {},
   "source": [
    "### LC1085_Sum of Digits in the Minimum Number\n",
    "Given an array A of positive integers, let S be the sum of the digits of the minimal element of A.\n",
    "\n",
    "Return 0 if S is odd, otherwise return 1.\n",
    "\n",
    " \n",
    "\n",
    "Example 1:\n",
    "Input: [34,23,1,24,75,33,54,8]\n",
    "Output: 0\n",
    "Explanation: \n",
    "The minimal element is 1, and the sum of those digits is S = 1 which is odd, so the answer is 0.\n",
    "\n",
    "Example 2:\n",
    "Input: [99,77,33,66,55]\n",
    "Output: 1\n",
    "Explanation: \n",
    "The minimal element is 33, and the sum of those digits is S = 3 + 3 = 6 which is even, so the answer is 1.\n",
    " \n",
    "\n",
    "Constraints:\n",
    "\n",
    "1 <= A.length <= 100\n",
    "1 <= A[i] <= 100\n"
   ]
  },
  {
   "cell_type": "code",
   "execution_count": null,
   "metadata": {},
   "outputs": [],
   "source": [
    "class Solution:\n",
    "    def sumOfDigits(self, A: List[int]) -> int:\n",
    "        m = min(A)\n",
    "        res = 0\n",
    "        for char in str(m):\n",
    "            res += int(char)\n",
    "        if res %2 == 0:\n",
    "            return 1\n",
    "        else:\n",
    "            return 0"
   ]
  }
 ],
 "metadata": {
  "kernelspec": {
   "display_name": "Python 3",
   "language": "python",
   "name": "python3"
  },
  "language_info": {
   "codemirror_mode": {
    "name": "ipython",
    "version": 3
   },
   "file_extension": ".py",
   "mimetype": "text/x-python",
   "name": "python",
   "nbconvert_exporter": "python",
   "pygments_lexer": "ipython3",
   "version": "3.8.5"
  }
 },
 "nbformat": 4,
 "nbformat_minor": 4
}
