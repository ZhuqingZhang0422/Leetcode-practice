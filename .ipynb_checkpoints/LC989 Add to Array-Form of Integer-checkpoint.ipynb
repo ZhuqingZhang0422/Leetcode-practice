{
 "cells": [
  {
   "cell_type": "markdown",
   "metadata": {},
   "source": [
    "### LC989_Add to Array-Form of Integer\n",
    "For a non-negative integer X, the array-form of X is an array of its digits in left to right order.  \n",
    "\n",
    "For example, if X = 1231, then the array form is [1,2,3,1].\n",
    "Given the array-form A of a non-negative integer X, return the array-form of the integer X+K.\n",
    "\n",
    "Example 1:\n",
    "Input: A = [1,2,0,0], K = 34\n",
    "Output: [1,2,3,4]\n",
    "Explanation: 1200 + 34 = 1234\n",
    "\n",
    "Example 2:\n",
    "Input: A = [2,7,4], K = 181\n",
    "Output: [4,5,5]\n",
    "Explanation: 274 + 181 = 455\n",
    "\n",
    "Example 3:\n",
    "Input: A = [2,1,5], K = 806ßß\n",
    "Output: [1,0,2,1]\n",
    "Explanation: 215 + 806 = 1021\n",
    "\n",
    "Example 4:\n",
    "Input: A = [9,9,9,9,9,9,9,9,9,9], K = 1\n",
    "Output: [1,0,0,0,0,0,0,0,0,0,0]\n",
    "Explanation: 9999999999 + 1 = 10000000000"
   ]
  },
  {
   "cell_type": "code",
   "execution_count": null,
   "metadata": {},
   "outputs": [],
   "source": [
    "class Solution:\n",
    "    def addToArrayForm(self, A: List[int], K: int) -> List[int]:\n",
    "        A = [str(x) for x in A]\n",
    "        res = int(''.join(A)) + K\n",
    "        return [int(x) for x in str(res)]"
   ]
  }
 ],
 "metadata": {
  "kernelspec": {
   "display_name": "Python 3",
   "language": "python",
   "name": "python3"
  },
  "language_info": {
   "codemirror_mode": {
    "name": "ipython",
    "version": 3
   },
   "file_extension": ".py",
   "mimetype": "text/x-python",
   "name": "python",
   "nbconvert_exporter": "python",
   "pygments_lexer": "ipython3",
   "version": "3.7.6"
  }
 },
 "nbformat": 4,
 "nbformat_minor": 4
}
