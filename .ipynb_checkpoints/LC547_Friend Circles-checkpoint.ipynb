{
 "cells": [
  {
   "cell_type": "markdown",
   "metadata": {},
   "source": [
    "### LC547_Friend Circles\n",
    "There are N students in a class. Some of them are friends, while some are not. Their friendship is transitive in nature. For example, if A is a direct friend of B, and B is a direct friend of C, then A is an indirect friend of C. And we defined a friend circle is a group of students who are direct or indirect friends.\n",
    "\n",
    "Given a N*N matrix M representing the friend relationship between students in the class. If M[i][j] = 1, then the ith and jth students are direct friends with each other, otherwise not. And you have to output the total number of friend circles among all the students.\n",
    "\n",
    "Example 1:\n",
    "\n",
    "Input: \n",
    "[[1,1,0],\n",
    " [1,1,0],\n",
    " [0,0,1]]\n",
    "Output: 2\n",
    "Explanation:The 0th and 1st students are direct friends, so they are in a friend circle. \n",
    "The 2nd student himself is in a friend circle. So return 2.\n",
    " \n",
    "\n",
    "Example 2:\n",
    "\n",
    "Input: \n",
    "[[1,1,0],\n",
    " [1,1,1],\n",
    " [0,1,1]]\n",
    "Output: 1\n",
    "Explanation:The 0th and 1st students are direct friends, the 1st and 2nd students are direct friends, \n",
    "so the 0th and 2nd students are indirect friends. All of them are in the same friend circle, so return 1.\n"
   ]
  },
  {
   "cell_type": "code",
   "execution_count": null,
   "metadata": {},
   "outputs": [],
   "source": [
    "class Solution:\n",
    "    def findCircleNum(self, M: List[List[int]]) -> int:\n",
    "        visited = [0 for _ in range(len(M))]\n",
    "        count = 0\n",
    "        for student in range(len(M)):\n",
    "            if visited[student] == 1:\n",
    "                continue             \n",
    "            \n",
    "            # do dfs using stack\n",
    "            q = collections.deque([student])\n",
    "            while len(q) > 0:\n",
    "                i = q.popleft()\n",
    "                for j in range(len(M[i])):\n",
    "                    if M[i][j] == 1 and i != j and visited[j] == 0:\n",
    "                        visited[j] = 1      \n",
    "                        q.append(j)\n",
    "            count += 1\n",
    "        return count"
   ]
  }
 ],
 "metadata": {
  "kernelspec": {
   "display_name": "Python 3",
   "language": "python",
   "name": "python3"
  },
  "language_info": {
   "codemirror_mode": {
    "name": "ipython",
    "version": 3
   },
   "file_extension": ".py",
   "mimetype": "text/x-python",
   "name": "python",
   "nbconvert_exporter": "python",
   "pygments_lexer": "ipython3",
   "version": "3.7.6"
  }
 },
 "nbformat": 4,
 "nbformat_minor": 4
}
