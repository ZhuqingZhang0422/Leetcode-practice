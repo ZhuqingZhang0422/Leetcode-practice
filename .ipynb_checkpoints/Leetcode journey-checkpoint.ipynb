{
 "cells": [
  {
   "cell_type": "markdown",
   "metadata": {},
   "source": [
    "# Leetcode practice\n",
    "\n",
    "### Introduction\n",
    "\n",
    "This works gives a summarization of some common leetcode practices, with detailed explaination.\n",
    "\n",
    "Please feel free to visit my leetcode profile page:\n",
    "https://leetcode.com/r-g-whatever/\n"
   ]
  },
  {
   "cell_type": "markdown",
   "metadata": {},
   "source": [
    "## Sliding window problems"
   ]
  },
  {
   "cell_type": "code",
   "execution_count": null,
   "metadata": {},
   "outputs": [],
   "source": []
  },
  {
   "cell_type": "markdown",
   "metadata": {},
   "source": [
    "## Subset problems"
   ]
  },
  {
   "cell_type": "markdown",
   "metadata": {},
   "source": [
    "### Lc 17. Letter Combinations of a Phone Number\n",
    "### Problem\n",
    "Given a string containing digits from 2-9 inclusive, return all possible letter combinations that the number could represent.\n",
    "A mapping of digit to letters (just like on the telephone buttons) is given below. Note that 1 does not map to any letters.\n",
    "### Example:\n",
    "Input: \"23\"\n",
    "Output: [\"ad\", \"ae\", \"af\", \"bd\", \"be\", \"bf\", \"cd\", \"ce\", \"cf\"].\n",
    "### Note:\n",
    "Although the above answer is in lexicographical order, your answer could be in any order you want."
   ]
  },
  {
   "cell_type": "code",
   "execution_count": null,
   "metadata": {},
   "outputs": [],
   "source": [
    "def letterCombinations(self, digits):\n",
    "    \"\"\"\n",
    "    :type digits: str\n",
    "    :rtype: List[str]\n",
    "    \"\"\"\n",
    "    # Create map for each numbers and letters\n",
    "    dic_map = {1:[''],\n",
    "               2:['a','b','c'],\n",
    "               3:['d','e','f'],\n",
    "               4:['g','h','i'],\n",
    "               5:['j','k','l'],\n",
    "               6:['m','n','o'],\n",
    "               7:['p','q','r','s'],\n",
    "               8:['t','u','v'],\n",
    "               9:['w','x','y','z'],\n",
    "               0:[' ']}\n",
    "    \n",
    "    def combine (up_lev,dic_map,digit):\n",
    "    '''\n",
    "    INPUT:  previous level of result\n",
    "            dic_map\n",
    "            next digit of numbers\n",
    "    OUTPUT: populated result\n",
    "    '''\n",
    "        cur_lev = []\n",
    "        for s in up_lev:\n",
    "            for char in dic_map[int(digit)]:\n",
    "                cur_lev.append(s+char)\n",
    "        return cur_lev\n",
    "    \n",
    "    # Pay attention to corner cases\n",
    "    if digits == '':\n",
    "        return []\n",
    "    # Start the initial level with '' to treat the initial condition\n",
    "    res = ['']\n",
    "    for digit in digits:\n",
    "        res = combine(res,dic_map,digit)\n",
    "    return res"
   ]
  },
  {
   "cell_type": "markdown",
   "metadata": {},
   "source": [
    "### Summarization\n",
    "\n",
    "Similar to a subset problem, use the previous level of result to populate new results. Another good method is use back tracing. Should be covered in the other sections\n",
    "    "
   ]
  },
  {
   "cell_type": "code",
   "execution_count": null,
   "metadata": {},
   "outputs": [],
   "source": []
  }
 ],
 "metadata": {
  "kernelspec": {
   "display_name": "Python 3",
   "language": "python",
   "name": "python3"
  },
  "language_info": {
   "codemirror_mode": {
    "name": "ipython",
    "version": 3
   },
   "file_extension": ".py",
   "mimetype": "text/x-python",
   "name": "python",
   "nbconvert_exporter": "python",
   "pygments_lexer": "ipython3",
   "version": "3.7.6"
  }
 },
 "nbformat": 4,
 "nbformat_minor": 4
}
