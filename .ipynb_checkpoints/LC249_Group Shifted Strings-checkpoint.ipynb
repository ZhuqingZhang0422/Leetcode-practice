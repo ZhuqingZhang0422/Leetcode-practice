{
 "cells": [
  {
   "cell_type": "markdown",
   "metadata": {},
   "source": [
    "### LC249_Group Shifted Strings\n",
    "Given a string, we can \"shift\" each of its letter to its successive letter, for example: \"abc\" -> \"bcd\". We can keep \"shifting\" which forms the sequence:\n",
    "\n",
    "\"abc\" -> \"bcd\" -> ... -> \"xyz\"\n",
    "Given a list of non-empty strings which contains only lowercase alphabets, group all strings that belong to the same shifting sequence.\n",
    "\n",
    "Example:\n",
    "Input: [\"abc\", \"bcd\", \"acef\", \"xyz\", \"az\", \"ba\", \"a\", \"z\"],\n",
    "Output: \n",
    "[\n",
    "  [\"abc\",\"bcd\",\"xyz\"],\n",
    "  [\"az\",\"ba\"],\n",
    "  [\"acef\"],\n",
    "  [\"a\",\"z\"]\n",
    "]\n"
   ]
  },
  {
   "cell_type": "code",
   "execution_count": null,
   "metadata": {},
   "outputs": [],
   "source": [
    "class Solution:\n",
    "    def groupStrings(self, strings: List[str]) -> List[List[str]]:\n",
    "        char_dic = {}\n",
    "        ind = 1\n",
    "        for char in string.ascii_lowercase:\n",
    "            char_dic[char] = ind\n",
    "            ind += 1\n",
    "            \n",
    "        def decode(s):\n",
    "            res = []\n",
    "            init = char_dic[s[0]]\n",
    "            for char in s[1:]:\n",
    "                if char_dic[char] - init > 0:\n",
    "                    res.append(str(char_dic[char]-init))\n",
    "                else:\n",
    "                    res.append(str(char_dic[char]+26-init))\n",
    "            return (''.join(res),len(s))\n",
    "        \n",
    "        res = collections.defaultdict(list)\n",
    "        for s in strings:\n",
    "            res[decode(s)].append(s)\n",
    "        return res.values()\n",
    "        "
   ]
  }
 ],
 "metadata": {
  "kernelspec": {
   "display_name": "Python 3",
   "language": "python",
   "name": "python3"
  },
  "language_info": {
   "codemirror_mode": {
    "name": "ipython",
    "version": 3
   },
   "file_extension": ".py",
   "mimetype": "text/x-python",
   "name": "python",
   "nbconvert_exporter": "python",
   "pygments_lexer": "ipython3",
   "version": "3.7.6"
  }
 },
 "nbformat": 4,
 "nbformat_minor": 4
}
