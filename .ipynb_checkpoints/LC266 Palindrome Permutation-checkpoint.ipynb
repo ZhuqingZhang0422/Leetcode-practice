{
 "cells": [
  {
   "cell_type": "markdown",
   "metadata": {},
   "source": [
    "### LC266_Palindrome Permutation\n",
    "Given a string, determine if a permutation of the string could form a palindrome.\n",
    "\n",
    "Example 1:\n",
    "\n",
    "Input: \"code\"\n",
    "Output: false\n",
    "Example 2:\n",
    "\n",
    "Input: \"aab\"\n",
    "Output: true\n",
    "Example 3:\n",
    "\n",
    "Input: \"carerac\"\n",
    "Output: true"
   ]
  },
  {
   "cell_type": "code",
   "execution_count": null,
   "metadata": {},
   "outputs": [],
   "source": [
    "class Solution:\n",
    "    def canPermutePalindrome(self, s: str) -> bool:\n",
    "        dic_f = Counter(s)\n",
    "        count = 0\n",
    "        for v in dic_f.values():\n",
    "            if v % 2 != 0:\n",
    "                count += 1\n",
    "        return not count > 1"
   ]
  }
 ],
 "metadata": {
  "kernelspec": {
   "display_name": "Python 3",
   "language": "python",
   "name": "python3"
  },
  "language_info": {
   "codemirror_mode": {
    "name": "ipython",
    "version": 3
   },
   "file_extension": ".py",
   "mimetype": "text/x-python",
   "name": "python",
   "nbconvert_exporter": "python",
   "pygments_lexer": "ipython3",
   "version": "3.7.6"
  }
 },
 "nbformat": 4,
 "nbformat_minor": 4
}
