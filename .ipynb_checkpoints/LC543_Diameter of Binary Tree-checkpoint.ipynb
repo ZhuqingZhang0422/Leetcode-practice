{
 "cells": [
  {
   "cell_type": "markdown",
   "metadata": {},
   "source": [
    "### LC543_Diameter of Binary Tree\n",
    "Given a binary tree, you need to compute the length of the diameter of the tree. The diameter of a binary tree is the length of the longest path between any two nodes in a tree. This path may or may not pass through the root.\n",
    "Example:\n",
    "Given a binary tree\n",
    "\n",
    "              1\n",
    "             / \\\n",
    "            2   3\n",
    "           / \\     \n",
    "          4   5    \n",
    "Return 3, which is the length of the path [4,2,1,3] or [5,2,1,3].\n",
    "\n",
    "Note: The length of path between two nodes is represented by the number of edges between them."
   ]
  },
  {
   "cell_type": "code",
   "execution_count": null,
   "metadata": {},
   "outputs": [],
   "source": [
    "# Definition for a binary tree node.\n",
    "# class TreeNode(object):\n",
    "#     def __init__(self, val=0, left=None, right=None):\n",
    "#         self.val = val\n",
    "#         self.left = left\n",
    "#         self.right = right\n",
    "class Solution(object):\n",
    "    def diameterOfBinaryTree(self, root):\n",
    "        \"\"\"\n",
    "        :type root: TreeNode\n",
    "        :rtype: int\n",
    "        \"\"\"\n",
    "        if root is None:\n",
    "            return 0\n",
    "        self.dia_rec(root)\n",
    "        return self.dia -1 \n",
    "    \n",
    "    def __init__(self):\n",
    "        self.dia = 0\n",
    "    \n",
    "    def dia_rec(self,root):\n",
    "        \n",
    "        if root is None:\n",
    "            return 0\n",
    "        node_left = self.dia_rec(root.left)\n",
    "        node_right = self.dia_rec(root.right)\n",
    "        diameter = node_left + node_right + 1\n",
    "        self.dia = max(self.dia,diameter)\n",
    "        \n",
    "        return max(node_left,node_right) + 1"
   ]
  }
 ],
 "metadata": {
  "kernelspec": {
   "display_name": "Python 3",
   "language": "python",
   "name": "python3"
  },
  "language_info": {
   "codemirror_mode": {
    "name": "ipython",
    "version": 3
   },
   "file_extension": ".py",
   "mimetype": "text/x-python",
   "name": "python",
   "nbconvert_exporter": "python",
   "pygments_lexer": "ipython3",
   "version": "3.7.6"
  }
 },
 "nbformat": 4,
 "nbformat_minor": 4
}
