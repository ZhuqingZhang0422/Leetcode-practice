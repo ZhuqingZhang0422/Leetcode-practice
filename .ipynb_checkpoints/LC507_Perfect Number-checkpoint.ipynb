{
 "cells": [
  {
   "cell_type": "code",
   "execution_count": null,
   "metadata": {},
   "outputs": [],
   "source": [
    "507. Perfect Number\n",
    "A perfect number is a positive integer that is equal to the sum of its positive divisors, excluding the number itself. A divisor of an integer x is an integer that can divide x evenly.\n",
    "\n",
    "Given an integer n, return true if n is a perfect number, otherwise return false.\n",
    "\n",
    "\n",
    "Example 1:\n",
    "Input: num = 28\n",
    "Output: true\n",
    "Explanation: 28 = 1 + 2 + 4 + 7 + 14\n",
    "1, 2, 4, 7, and 14 are all divisors of 28.\n",
    "\n",
    "Example 2:\n",
    "Input: num = 6\n",
    "Output: true\n",
    "\n",
    "Example 3:\n",
    "Input: num = 496\n",
    "Output: true\n",
    "\n",
    "Example 4:\n",
    "Input: num = 8128\n",
    "Output: true\n",
    "\n",
    "Example 5:\n",
    "Input: num = 2\n",
    "Output: false"
   ]
  },
  {
   "cell_type": "code",
   "execution_count": null,
   "metadata": {},
   "outputs": [],
   "source": [
    "class Solution:\n",
    "    def checkPerfectNumber(self, num: int) -> bool:\n",
    "        res = 0\n",
    "        if num == 1:\n",
    "            return False\n",
    "        for i in range(2,int(math.sqrt(num)+1)):\n",
    "            if num % i == 0:\n",
    "                res += i\n",
    "                res += num//i\n",
    "        print(res)\n",
    "        return num == (res+1)"
   ]
  }
 ],
 "metadata": {
  "kernelspec": {
   "display_name": "Python 3",
   "language": "python",
   "name": "python3"
  },
  "language_info": {
   "codemirror_mode": {
    "name": "ipython",
    "version": 3
   },
   "file_extension": ".py",
   "mimetype": "text/x-python",
   "name": "python",
   "nbconvert_exporter": "python",
   "pygments_lexer": "ipython3",
   "version": "3.7.6"
  }
 },
 "nbformat": 4,
 "nbformat_minor": 4
}
