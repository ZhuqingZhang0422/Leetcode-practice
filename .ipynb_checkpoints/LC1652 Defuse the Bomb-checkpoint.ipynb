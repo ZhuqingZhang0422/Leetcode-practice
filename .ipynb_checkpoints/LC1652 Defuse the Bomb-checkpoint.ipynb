{
 "cells": [
  {
   "cell_type": "markdown",
   "metadata": {},
   "source": [
    "### LC1652_Defuse the Bomb\n",
    "\n",
    "You have a bomb to defuse, and your time is running out! Your informer will provide you with a circular array code of length of n and a key k.\n",
    "\n",
    "To decrypt the code, you must replace every number. All the numbers are replaced simultaneously.\n",
    "\n",
    "If k > 0, replace the ith number with the sum of the next k numbers.\n",
    "If k < 0, replace the ith number with the sum of the previous k numbers.\n",
    "If k == 0, replace the ith number with 0.\n",
    "As code is circular, the next element of code[n-1] is code[0], and the previous element of code[0] is code[n-1].\n",
    "\n",
    "Given the circular array code and an integer key k, return the decrypted code to defuse the bomb!\n",
    "\n",
    " \n",
    "\n",
    "Example 1:\n",
    "\n",
    "Input: code = [5,7,1,4], k = 3\n",
    "Output: [12,10,16,13]\n",
    "Explanation: Each number is replaced by the sum of the next 3 numbers. The decrypted code is [7+1+4, 1+4+5, 4+5+7, 5+7+1]. Notice that the numbers wrap around.\n",
    "Example 2:\n",
    "\n",
    "Input: code = [1,2,3,4], k = 0\n",
    "Output: [0,0,0,0]\n",
    "Explanation: When k is zero, the numbers are replaced by 0. \n",
    "Example 3:\n",
    "\n",
    "Input: code = [2,4,9,3], k = -2\n",
    "Output: [12,5,6,13]\n",
    "Explanation: The decrypted code is [3+9, 2+3, 4+2, 9+4]. Notice that the numbers wrap around again. If k is negative, the sum is of the previous numbers."
   ]
  },
  {
   "cell_type": "code",
   "execution_count": null,
   "metadata": {},
   "outputs": [],
   "source": [
    "class Solution:\n",
    "    def decrypt(self, code: List[int], k: int) -> List[int]:\n",
    "        if k == 0:\n",
    "            return [0]*len(code)\n",
    "        res = []\n",
    "        for i in range(len(code)):\n",
    "            ans = 0\n",
    "            for j in range (abs(k)):\n",
    "                if k > 0 :\n",
    "                    if i + j + 1 >= len(code):\n",
    "                        ind = (i + j + 1) % len(code)\n",
    "                    else:\n",
    "                        ind = i + j + 1\n",
    "                else:\n",
    "                    ind = i - j - 1\n",
    "                ans += code[ind]\n",
    "            res.append(ans)\n",
    "        return res\n",
    "            "
   ]
  }
 ],
 "metadata": {
  "kernelspec": {
   "display_name": "Python 3",
   "language": "python",
   "name": "python3"
  },
  "language_info": {
   "codemirror_mode": {
    "name": "ipython",
    "version": 3
   },
   "file_extension": ".py",
   "mimetype": "text/x-python",
   "name": "python",
   "nbconvert_exporter": "python",
   "pygments_lexer": "ipython3",
   "version": "3.6.13"
  }
 },
 "nbformat": 4,
 "nbformat_minor": 4
}
