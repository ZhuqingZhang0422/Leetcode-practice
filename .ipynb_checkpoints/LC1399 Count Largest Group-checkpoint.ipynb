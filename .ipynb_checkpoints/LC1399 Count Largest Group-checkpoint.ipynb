{
 "cells": [
  {
   "cell_type": "markdown",
   "metadata": {},
   "source": [
    "### LC1399_Count Largest Group\n",
    "Given an integer n. Each number from 1 to n is grouped according to the sum of its digits. \n",
    "\n",
    "Return how many groups have the largest size.\n",
    "\n",
    " \n",
    "\n",
    "Example 1:\n",
    "Input: n = 13\n",
    "Output: 4\n",
    "Explanation: There are 9 groups in total, they are grouped according sum of its digits of numbers from 1 to 13:\n",
    "[1,10], [2,11], [3,12], [4,13], [5], [6], [7], [8], [9]. There are 4 groups with largest size.\n",
    "\n",
    "Example 2:\n",
    "Input: n = 2\n",
    "Output: 2\n",
    "Explanation: There are 2 groups [1], [2] of size 1.\n",
    "\n",
    "Example 3:\n",
    "Input: n = 15\n",
    "Output: 6\n",
    "\n",
    "Example 4:\n",
    "Input: n = 24\n",
    "Output: 5\n",
    " \n",
    "Constraints:\n",
    "1 <= n <= 10^4"
   ]
  },
  {
   "cell_type": "code",
   "execution_count": null,
   "metadata": {},
   "outputs": [],
   "source": [
    "class Solution:\n",
    "    def countLargestGroup(self, n: int) -> int:\n",
    "        dic_int = defaultdict(list)\n",
    "        def count(s):\n",
    "            l = list(str(s))\n",
    "            res = 0\n",
    "            for i in l:\n",
    "                res += int(i)\n",
    "            return res\n",
    "        \n",
    "        for i in range (1,n+1):\n",
    "            dic_int[count(i)].append(i)\n",
    "        groups = sorted(list(dic_int.values()),key = lambda x:-len(x))\n",
    "        count = 0\n",
    "        temp = len(groups[0])\n",
    "        for group in groups:\n",
    "            if len(group) == temp:\n",
    "                count += 1\n",
    "            else:\n",
    "                return count\n",
    "        return count"
   ]
  }
 ],
 "metadata": {
  "kernelspec": {
   "display_name": "Python 3",
   "language": "python",
   "name": "python3"
  },
  "language_info": {
   "codemirror_mode": {
    "name": "ipython",
    "version": 3
   },
   "file_extension": ".py",
   "mimetype": "text/x-python",
   "name": "python",
   "nbconvert_exporter": "python",
   "pygments_lexer": "ipython3",
   "version": "3.6.13"
  }
 },
 "nbformat": 4,
 "nbformat_minor": 4
}
