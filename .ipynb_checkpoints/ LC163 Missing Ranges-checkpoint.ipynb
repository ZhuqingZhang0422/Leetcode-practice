{
 "cells": [
  {
   "cell_type": "markdown",
   "metadata": {},
   "source": [
    "### LC163_Missing Ranges\n",
    "You are given an inclusive range [lower, upper] and a sorted unique integer array nums, where all elements are in the inclusive range.\n",
    "\n",
    "A number x is considered missing if x is in the range [lower, upper] and x is not in nums.\n",
    "\n",
    "Return the smallest sorted list of ranges that cover every missing number exactly. That is, no element of nums is in any of the ranges, and each missing number is in one of the ranges.\n",
    "\n",
    "Each range [a,b] in the list should be output as:\n",
    "\n",
    "\"a->b\" if a != b\n",
    "\"a\" if a == b\n",
    " \n",
    "\n",
    "Example 1:\n",
    "\n",
    "Input: nums = [0,1,3,50,75], lower = 0, upper = 99\n",
    "Output: [\"2\",\"4->49\",\"51->74\",\"76->99\"]\n",
    "Explanation: The ranges are:\n",
    "[2,2] --> \"2\"\n",
    "[4,49] --> \"4->49\"\n",
    "[51,74] --> \"51->74\"\n",
    "[76,99] --> \"76->99\"\n",
    "Example 2:\n",
    "\n",
    "Input: nums = [], lower = 1, upper = 1\n",
    "Output: [\"1\"]\n",
    "Explanation: The only missing range is [1,1], which becomes \"1\".\n",
    "Example 3:\n",
    "\n",
    "Input: nums = [], lower = -3, upper = -1\n",
    "Output: [\"-3->-1\"]\n",
    "Explanation: The only missing range is [-3,-1], which becomes \"-3->-1\".\n",
    "Example 4:\n",
    "\n",
    "Input: nums = [-1], lower = -1, upper = -1\n",
    "Output: []\n",
    "Explanation: There are no missing ranges since there are no missing numbers.\n",
    "Example 5:\n",
    "\n",
    "Input: nums = [-1], lower = -2, upper = -1\n",
    "Output: [\"-2\"]\n",
    " \n",
    "\n",
    "Constraints:\n",
    "\n",
    "-109 <= lower <= upper <= 109\n",
    "0 <= nums.length <= 100\n",
    "lower <= nums[i] <= upper\n",
    "All the values of nums are unique."
   ]
  },
  {
   "cell_type": "code",
   "execution_count": null,
   "metadata": {},
   "outputs": [],
   "source": [
    "class Solution:\n",
    "    def findMissingRanges(self, nums: List[int], lower: int, upper: int) -> List[str]:\n",
    "        res = []\n",
    "        if lower not in nums:\n",
    "            nums = [lower-1,] + nums\n",
    "        if upper not in nums:\n",
    "            nums.append(upper+1)\n",
    "        for i in range (len(nums)-1):\n",
    "            if nums[i+1] - nums[i] > 2:\n",
    "                res.append(str(nums[i]+1) + \"->\" + str(nums[i+1]-1))\n",
    "            elif nums[i+1] - nums[i] == 2:\n",
    "                res.append(str(nums[i]+1))\n",
    "        return res"
   ]
  }
 ],
 "metadata": {
  "kernelspec": {
   "display_name": "Python 3",
   "language": "python",
   "name": "python3"
  },
  "language_info": {
   "codemirror_mode": {
    "name": "ipython",
    "version": 3
   },
   "file_extension": ".py",
   "mimetype": "text/x-python",
   "name": "python",
   "nbconvert_exporter": "python",
   "pygments_lexer": "ipython3",
   "version": "3.8.5"
  }
 },
 "nbformat": 4,
 "nbformat_minor": 4
}
