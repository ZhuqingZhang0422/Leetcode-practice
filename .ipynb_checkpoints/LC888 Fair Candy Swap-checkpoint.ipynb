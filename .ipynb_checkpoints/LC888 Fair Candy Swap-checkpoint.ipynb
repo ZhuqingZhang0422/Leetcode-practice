{
 "cells": [
  {
   "cell_type": "markdown",
   "metadata": {},
   "source": [
    "### LC888_Fair Candy Swap\n",
    "Alice and Bob have candy bars of different sizes: A[i] is the size of the i-th bar of candy that Alice has, and B[j] is the size of the j-th bar of candy that Bob has.\n",
    "\n",
    "Since they are friends, they would like to exchange one candy bar each so that after the exchange, they both have the same total amount of candy.  (The total amount of candy a person has is the sum of the sizes of candy bars they have.)\n",
    "\n",
    "Return an integer array ans where ans[0] is the size of the candy bar that Alice must exchange, and ans[1] is the size of the candy bar that Bob must exchange.\n",
    "\n",
    "If there are multiple answers, you may return any one of them.  It is guaranteed an answer exists.\n",
    "\n",
    " \n",
    "\n",
    "Example 1:\n",
    "Input: A = [1,1], B = [2,2]\n",
    "Output: [1,2]\n",
    "\n",
    "Example 2:\n",
    "Input: A = [1,2], B = [2,3]\n",
    "Output: [1,2]\n",
    "\n",
    "Example 3:\n",
    "Input: A = [2], B = [1,3]\n",
    "Output: [2,3]\n",
    "\n",
    "Example 4:\n",
    "Input: A = [1,2,5], B = [2,4]\n",
    "Output: [5,4]\n",
    " \n",
    "\n",
    "Note:\n",
    "\n",
    "1 <= A.length <= 10000\n",
    "1 <= B.length <= 10000\n",
    "1 <= A[i] <= 100000\n",
    "1 <= B[i] <= 100000\n",
    "It is guaranteed that Alice and Bob have different total amounts of candy.\n",
    "It is guaranteed there exists an answer."
   ]
  },
  {
   "cell_type": "code",
   "execution_count": null,
   "metadata": {},
   "outputs": [],
   "source": [
    "class Solution:\n",
    "    def fairCandySwap(self, A: List[int], B: List[int]) -> List[int]:\n",
    "        s = sum(A) + sum(B)\n",
    "        n = s//2\n",
    "        a = sum(A) - n\n",
    "        da = Counter(A)\n",
    "        db = Counter(B)\n",
    "        for key in da:\n",
    "            if key-a in db:\n",
    "                return [key,key-a]"
   ]
  }
 ],
 "metadata": {
  "kernelspec": {
   "display_name": "Python 3",
   "language": "python",
   "name": "python3"
  },
  "language_info": {
   "codemirror_mode": {
    "name": "ipython",
    "version": 3
   },
   "file_extension": ".py",
   "mimetype": "text/x-python",
   "name": "python",
   "nbconvert_exporter": "python",
   "pygments_lexer": "ipython3",
   "version": "3.8.5"
  }
 },
 "nbformat": 4,
 "nbformat_minor": 4
}
