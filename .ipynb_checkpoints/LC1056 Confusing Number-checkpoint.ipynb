{
 "cells": [
  {
   "cell_type": "markdown",
   "metadata": {},
   "source": [
    "### LC1056_Confusing Number\n",
    "Given a number N, return true if and only if it is a confusing number, which satisfies the following condition:\n",
    "\n",
    "We can rotate digits by 180 degrees to form new digits. When 0, 1, 6, 8, 9 are rotated 180 degrees, they become 0, 1, 9, 8, 6 respectively. When 2, 3, 4, 5 and 7 are rotated 180 degrees, they become invalid. A confusing number is a number that when rotated 180 degrees becomes a different number with each digit valid.\n",
    "\n",
    "Example 1:\n",
    "Input: 6\n",
    "Output: true\n",
    "Explanation: \n",
    "We get 9 after rotating 6, 9 is a valid number and 9!=6.\n",
    "\n",
    "Example 2:\n",
    "Input: 89\n",
    "Output: true\n",
    "Explanation: \n",
    "We get 68 after rotating 89, 86 is a valid number and 86!=89.\n",
    "\n",
    "Example 3:\n",
    "Input: 11\n",
    "Output: false\n",
    "Explanation: \n",
    "We get 11 after rotating 11, 11 is a valid number but the value remains the same, thus 11 is not a confusing number.\n",
    "\n",
    "Example 4:\n",
    "Input: 25\n",
    "Output: false\n",
    "Explanation: \n",
    "We get an invalid number after rotating 25.\n",
    " \n",
    "Note:\n",
    "\n",
    "0 <= N <= 10^9\n",
    "After the rotation we can ignore leading zeros, for example if after rotation we have 0008 then this number is considered as just 8.\n"
   ]
  },
  {
   "cell_type": "code",
   "execution_count": null,
   "metadata": {},
   "outputs": [],
   "source": [
    "class Solution:\n",
    "    def confusingNumber(self, N: int) -> bool:\n",
    "        dic_m = {'0':'0','1':'1','6':'9','8':'8','9':'6'}\n",
    "        s = str(N)\n",
    "        new = []\n",
    "        for char in s:\n",
    "            if char not in dic_m:\n",
    "                return False\n",
    "            else:\n",
    "                new.append(dic_m[char])\n",
    "        return int(''.join(new)[::-1]) != N"
   ]
  }
 ],
 "metadata": {
  "kernelspec": {
   "display_name": "Python 3",
   "language": "python",
   "name": "python3"
  },
  "language_info": {
   "codemirror_mode": {
    "name": "ipython",
    "version": 3
   },
   "file_extension": ".py",
   "mimetype": "text/x-python",
   "name": "python",
   "nbconvert_exporter": "python",
   "pygments_lexer": "ipython3",
   "version": "3.8.5"
  }
 },
 "nbformat": 4,
 "nbformat_minor": 4
}
