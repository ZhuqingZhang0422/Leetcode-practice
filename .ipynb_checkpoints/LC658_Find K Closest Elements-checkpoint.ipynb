{
 "cells": [
  {
   "cell_type": "markdown",
   "metadata": {},
   "source": [
    "### LC658_Find K Closest Elements\n",
    "Given a sorted array arr, two integers k and x, find the k closest elements to x in the array. The result should also be sorted in ascending order. If there is a tie, the smaller elements are always preferred.\n",
    "\n",
    "Example 1:\n",
    "\n",
    "Input: arr = [1,2,3,4,5], k = 4, x = 3\n",
    "Output: [1,2,3,4]\n",
    "Example 2:\n",
    "\n",
    "Input: arr = [1,2,3,4,5], k = 4, x = -1\n",
    "Output: [1,2,3,4]\n"
   ]
  },
  {
   "cell_type": "code",
   "execution_count": 1,
   "metadata": {},
   "outputs": [],
   "source": [
    "### Solution 1 maxheap\n",
    "from heapq import *\n",
    "class Solution(object):\n",
    "    def findClosestElements(self, arr, k, x):\n",
    "        \"\"\"\n",
    "        :type arr: List[int]\n",
    "        :type k: int\n",
    "        :type x: int\n",
    "        :rtype: List[int]\n",
    "        \"\"\"\n",
    "        maxheap = []\n",
    "        res = []\n",
    "        for nums in arr:\n",
    "            elm = (-abs(nums-x),-nums)\n",
    "            heappush(maxheap,elm)\n",
    "            if len(maxheap) > k:\n",
    "                heappop(maxheap)\n",
    "        print (maxheap)\n",
    "        while maxheap:\n",
    "            res.append(-heappop(maxheap)[1])\n",
    "        #res.sort()\n",
    "        return sorted(res)"
   ]
  },
  {
   "cell_type": "code",
   "execution_count": 2,
   "metadata": {},
   "outputs": [],
   "source": [
    "### Solution 2 two pointer\n",
    "class Solution(object):\n",
    "    def findClosestElements(self, arr, k, x):\n",
    "        \"\"\"\n",
    "        :type arr: List[int]\n",
    "        :type k: int\n",
    "        :type x: int\n",
    "        :rtype: List[int]\n",
    "        \"\"\"\n",
    "        if len(arr) == 0 or k == 0:\n",
    "            return\n",
    "        while len(arr) > k:\n",
    "            \n",
    "            if abs(arr[-1] - x) >= abs(arr[0] - x):\n",
    "                arr.pop()\n",
    "            else:\n",
    "                arr.pop(0)\n",
    "        return arr"
   ]
  },
  {
   "cell_type": "code",
   "execution_count": null,
   "metadata": {},
   "outputs": [],
   "source": []
  }
 ],
 "metadata": {
  "kernelspec": {
   "display_name": "Python 3",
   "language": "python",
   "name": "python3"
  },
  "language_info": {
   "codemirror_mode": {
    "name": "ipython",
    "version": 3
   },
   "file_extension": ".py",
   "mimetype": "text/x-python",
   "name": "python",
   "nbconvert_exporter": "python",
   "pygments_lexer": "ipython3",
   "version": "3.7.6"
  }
 },
 "nbformat": 4,
 "nbformat_minor": 4
}
