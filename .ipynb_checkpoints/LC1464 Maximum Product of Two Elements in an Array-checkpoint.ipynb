{
 "cells": [
  {
   "cell_type": "markdown",
   "metadata": {},
   "source": [
    "### LC1464_Maximum Product of Two Elements in an Array\n",
    "Given the array of integers nums, you will choose two different indices i and j of that array. Return the maximum value of (nums[i]-1)*(nums[j]-1).\n",
    " \n",
    "\n",
    "Example 1:\n",
    "Input: nums = [3,4,5,2]\n",
    "Output: 12 \n",
    "Explanation: If you choose the indices i=1 and j=2 (indexed from 0), you will get the maximum value, that is, (nums[1]-1)*(nums[2]-1) = (4-1)*(5-1) = 3*4 = 12. \n",
    "\n",
    "Example 2:\n",
    "Input: nums = [1,5,4,5]\n",
    "Output: 16\n",
    "Explanation: Choosing the indices i=1 and j=3 (indexed from 0), you will get the maximum value of (5-1)*(5-1) = 16.\n",
    "\n",
    "Example 3:\n",
    "Input: nums = [3,7]\n",
    "Output: 12"
   ]
  },
  {
   "cell_type": "code",
   "execution_count": null,
   "metadata": {},
   "outputs": [],
   "source": [
    "class Solution:\n",
    "    def maxProduct(self, nums: List[int]) -> int:\n",
    "        num = sorted(nums)\n",
    "        return (num[-1]-1)*(num[-2]-1)"
   ]
  }
 ],
 "metadata": {
  "kernelspec": {
   "display_name": "Python 3",
   "language": "python",
   "name": "python3"
  },
  "language_info": {
   "codemirror_mode": {
    "name": "ipython",
    "version": 3
   },
   "file_extension": ".py",
   "mimetype": "text/x-python",
   "name": "python",
   "nbconvert_exporter": "python",
   "pygments_lexer": "ipython3",
   "version": "3.7.6"
  }
 },
 "nbformat": 4,
 "nbformat_minor": 4
}
