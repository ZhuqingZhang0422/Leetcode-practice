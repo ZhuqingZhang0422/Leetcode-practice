{
 "cells": [
  {
   "cell_type": "markdown",
   "id": "loved-brother",
   "metadata": {},
   "source": [
    "### LC492_Construct the Rectangle\n",
    "\n",
    "A web developer needs to know how to design a web page's size. So, given a specific rectangular web page’s area, your job by now is to design a rectangular web page, whose length L and width W satisfy the following requirements:\n",
    "\n",
    "The area of the rectangular web page you designed must equal to the given target area.\n",
    "The width W should not be larger than the length L, which means L >= W.\n",
    "The difference between length L and width W should be as small as possible.\n",
    "Return an array [L, W] where L and W are the length and width of the web page you designed in sequence.\n",
    "\n",
    " \n",
    "\n",
    "Example 1:\n",
    "\n",
    "Input: area = 4\n",
    "Output: [2,2]\n",
    "Explanation: The target area is 4, and all the possible ways to construct it are [1,4], [2,2], [4,1]. \n",
    "But according to requirement 2, [1,4] is illegal; according to requirement 3,  [4,1] is not optimal compared to [2,2]. So the length L is 2, and the width W is 2.\n",
    "Example 2:\n",
    "\n",
    "Input: area = 37\n",
    "Output: [37,1]\n",
    "Example 3:\n",
    "\n",
    "Input: area = 122122\n",
    "Output: [427,286]"
   ]
  },
  {
   "cell_type": "code",
   "execution_count": null,
   "id": "wrapped-framework",
   "metadata": {},
   "outputs": [],
   "source": [
    "import math\n",
    "class Solution:\n",
    "    def constructRectangle(self, area: int) -> List[int]:\n",
    "        l = int(math.sqrt(area))\n",
    "        for i in range(l,0,-1):\n",
    "            if area % i == 0:\n",
    "                return [area//i, i]"
   ]
  }
 ],
 "metadata": {
  "kernelspec": {
   "display_name": "Python 3",
   "language": "python",
   "name": "python3"
  },
  "language_info": {
   "codemirror_mode": {
    "name": "ipython",
    "version": 3
   },
   "file_extension": ".py",
   "mimetype": "text/x-python",
   "name": "python",
   "nbconvert_exporter": "python",
   "pygments_lexer": "ipython3",
   "version": "3.6.13"
  }
 },
 "nbformat": 4,
 "nbformat_minor": 5
}
