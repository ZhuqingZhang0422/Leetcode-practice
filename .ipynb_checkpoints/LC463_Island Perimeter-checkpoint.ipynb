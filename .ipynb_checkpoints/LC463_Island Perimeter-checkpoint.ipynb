{
 "cells": [
  {
   "cell_type": "markdown",
   "metadata": {},
   "source": [
    "### LC463_Island Perimeter\n",
    "You are given row x col grid representing a map where grid[i][j] = 1 represents land and grid[i][j] = 0 represents water.\n",
    "\n",
    "Grid cells are connected horizontally/vertically (not diagonally). The grid is completely surrounded by water, and there is exactly one island (i.e., one or more connected land cells).\n",
    "\n",
    "The island doesn't have \"lakes\", meaning the water inside isn't connected to the water around the island. One cell is a square with side length 1. The grid is rectangular, width and height don't exceed 100. Determine the perimeter of the island.\n",
    "\n",
    " \n",
    "\n",
    "Example 1:\n",
    "\n",
    "\n",
    "Input: grid = [[0,1,0,0],[1,1,1,0],[0,1,0,0],[1,1,0,0]]\n",
    "Output: 16\n",
    "Explanation: The perimeter is the 16 yellow stripes in the image above.\n",
    "Example 2:\n",
    "\n",
    "Input: grid = [[1]]\n",
    "Output: 4\n",
    "Example 3:\n",
    "\n",
    "Input: grid = [[1,0]]\n",
    "Output: 4\n",
    " \n",
    "\n",
    "Constraints:\n",
    "\n",
    "row == grid.length\n",
    "col == grid[i].length\n",
    "1 <= row, col <= 100\n",
    "grid[i][j] is 0 or 1.\n",
    "Accepted\n",
    "243,509\n",
    "Submissions\n",
    "368,524"
   ]
  },
  {
   "cell_type": "code",
   "execution_count": null,
   "metadata": {},
   "outputs": [],
   "source": [
    "class Solution:\n",
    "    def islandPerimeter(self, grid: List[List[int]]) -> int:\n",
    "        s = 0\n",
    "        ver = 0\n",
    "        hor = 0\n",
    "        \n",
    "        for i in range (len(grid)):\n",
    "            for j in range (len(grid[0])):\n",
    "                s += grid[i][j]\n",
    "                if j >= 1 and grid[i][j] == 1 and grid[i][j-1] == 1:\n",
    "                    hor += 1\n",
    "        \n",
    "        for i in range (len(grid[0])):\n",
    "            for j in range (len(grid)):\n",
    "                if j >= 1 and grid[j][i] == 1 and grid[j-1][i] == 1:\n",
    "                    ver += 1\n",
    "                    \n",
    "        return 4*s - 2*hor -2 *ver"
   ]
  }
 ],
 "metadata": {
  "kernelspec": {
   "display_name": "Python 3",
   "language": "python",
   "name": "python3"
  },
  "language_info": {
   "codemirror_mode": {
    "name": "ipython",
    "version": 3
   },
   "file_extension": ".py",
   "mimetype": "text/x-python",
   "name": "python",
   "nbconvert_exporter": "python",
   "pygments_lexer": "ipython3",
   "version": "3.7.6"
  }
 },
 "nbformat": 4,
 "nbformat_minor": 4
}
