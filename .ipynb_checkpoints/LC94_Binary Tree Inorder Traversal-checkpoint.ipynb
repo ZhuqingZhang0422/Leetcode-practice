{
 "cells": [
  {
   "cell_type": "markdown",
   "metadata": {},
   "source": [
    "### LC94_Binary Tree Inorder Traversal\n",
    "\n",
    "Given the root of a binary tree, return the inorder traversal of its nodes' values.\n",
    "\n",
    "Example 1:\n",
    "\n",
    "Input: root = [1,null,2,3]\n",
    "Output: [1,3,2]\n",
    "\n",
    "Example 2:\n",
    "Input: root = []\n",
    "Output: []\n",
    "\n",
    "Example 3:\n",
    "Input: root = [1]\n",
    "Output: [1]\n",
    "\n",
    "Example 4:\n",
    "Input: root = [1,2]\n",
    "Output: [2,1]\n",
    "\n",
    "Example 5:\n",
    "Input: root = [1,null,2]\n",
    "Output: [1,2]"
   ]
  },
  {
   "cell_type": "code",
   "execution_count": null,
   "metadata": {},
   "outputs": [],
   "source": [
    "# Recursion\n",
    "class Solution:\n",
    "    def inorderTraversal(self, root: TreeNode) -> List[int]:\n",
    "        if root == None:\n",
    "            return []\n",
    "        else:\n",
    "            return self.inorderTraversal(root.left) + [root.val]+ self.inorderTraversal(root.right)"
   ]
  },
  {
   "cell_type": "code",
   "execution_count": null,
   "metadata": {},
   "outputs": [],
   "source": [
    "# Iteration\n",
    "class Solution:\n",
    "    def inorderTraversal(self, root: TreeNode) -> List[int]:\n",
    "        if root == None:\n",
    "            return []\n",
    "        trav = root \n",
    "        stack = []\n",
    "        res = []\n",
    "        while stack or trav:\n",
    "            while trav:\n",
    "                stack.append(trav)\n",
    "                trav = trav.left\n",
    "            node = stack.pop()\n",
    "            res.append(node.val)\n",
    "            trav = node.right\n",
    "        return res"
   ]
  }
 ],
 "metadata": {
  "kernelspec": {
   "display_name": "Python 3",
   "language": "python",
   "name": "python3"
  },
  "language_info": {
   "codemirror_mode": {
    "name": "ipython",
    "version": 3
   },
   "file_extension": ".py",
   "mimetype": "text/x-python",
   "name": "python",
   "nbconvert_exporter": "python",
   "pygments_lexer": "ipython3",
   "version": "3.7.6"
  }
 },
 "nbformat": 4,
 "nbformat_minor": 4
}
