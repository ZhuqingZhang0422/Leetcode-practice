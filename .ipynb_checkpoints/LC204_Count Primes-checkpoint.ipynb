{
 "cells": [
  {
   "cell_type": "markdown",
   "metadata": {},
   "source": [
    "### LC204_Count Primes\n",
    "Count the number of prime numbers less than a non-negative number, n.\n",
    "\n",
    "Example:\n",
    "Input: 10\n",
    "Output: 4\n",
    "Explanation: There are 4 prime numbers less than 10, they are 2, 3, 5, 7."
   ]
  },
  {
   "cell_type": "code",
   "execution_count": null,
   "metadata": {},
   "outputs": [],
   "source": [
    "class Solution(object):\n",
    "    def countPrimes(self, n):\n",
    "        if n == 0 or n == 1 or n == 2:\n",
    "            return 0\n",
    "        elif n == 3:\n",
    "            return 1\n",
    "        count = 1\n",
    "        idx = 2\n",
    "        prime_check = [True]*n\n",
    "        prime_check[0] = prime_check[1] = False\n",
    "        while(idx < n):\n",
    "            if prime_check[idx]:\n",
    "                multiple = 2\n",
    "                while(idx*multiple < n):\n",
    "                    prime_check[idx*multiple] = False\n",
    "                    multiple += 1\n",
    "            idx += 1\n",
    "        return sum(prime_check)"
   ]
  }
 ],
 "metadata": {
  "kernelspec": {
   "display_name": "Python 3",
   "language": "python",
   "name": "python3"
  },
  "language_info": {
   "codemirror_mode": {
    "name": "ipython",
    "version": 3
   },
   "file_extension": ".py",
   "mimetype": "text/x-python",
   "name": "python",
   "nbconvert_exporter": "python",
   "pygments_lexer": "ipython3",
   "version": "3.7.6"
  }
 },
 "nbformat": 4,
 "nbformat_minor": 4
}
