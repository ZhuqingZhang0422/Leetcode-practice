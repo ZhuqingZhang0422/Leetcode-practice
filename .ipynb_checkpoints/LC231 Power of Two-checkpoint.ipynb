{
 "cells": [
  {
   "cell_type": "markdown",
   "id": "continuing-locator",
   "metadata": {},
   "source": [
    "### LC231_Power of Two\n",
    "Given an integer n, return true if it is a power of two. Otherwise, return false.\n",
    "\n",
    "An integer n is a power of two, if there exists an integer x such that n == 2x.\n",
    "\n",
    " \n",
    "Example 1:\n",
    "Input: n = 1\n",
    "Output: true\n",
    "Explanation: 20 = 1\n",
    "\n",
    "Example 2:\n",
    "Input: n = 16\n",
    "Output: true\n",
    "Explanation: 24 = 16\n",
    "\n",
    "Example 3:\n",
    "Input: n = 3\n",
    "Output: false\n",
    "\n",
    "Example 4:\n",
    "Input: n = 4\n",
    "Output: true\n",
    "\n",
    "Example 5:\n",
    "Input: n = 5\n",
    "Output: false\n",
    " \n",
    "\n",
    "Constraints:\n",
    "-231 <= n <= 231 - 1\n",
    "Follow up: Could you solve it without loops/recursion?"
   ]
  },
  {
   "cell_type": "code",
   "execution_count": null,
   "id": "informational-radius",
   "metadata": {},
   "outputs": [],
   "source": [
    "class Solution:\n",
    "    def isPowerOfTwo(self, n: int) -> bool:\n",
    "        if n==1:\n",
    "            return True\n",
    "        if n == 0:\n",
    "            return False\n",
    "        while n != 1:\n",
    "            if n % 2 != 0:\n",
    "                return False\n",
    "            else:\n",
    "                n //= 2\n",
    "        return True"
   ]
  },
  {
   "cell_type": "code",
   "execution_count": null,
   "id": "absolute-giving",
   "metadata": {},
   "outputs": [],
   "source": [
    "# Using bitwise operation\n",
    "class Solution(object):\n",
    "    def isPowerOfTwo(self, n):\n",
    "        if n == 0:\n",
    "            return False\n",
    "        return n & (n - 1) == 0"
   ]
  }
 ],
 "metadata": {
  "kernelspec": {
   "display_name": "Python 3",
   "language": "python",
   "name": "python3"
  },
  "language_info": {
   "codemirror_mode": {
    "name": "ipython",
    "version": 3
   },
   "file_extension": ".py",
   "mimetype": "text/x-python",
   "name": "python",
   "nbconvert_exporter": "python",
   "pygments_lexer": "ipython3",
   "version": "3.6.13"
  }
 },
 "nbformat": 4,
 "nbformat_minor": 5
}
