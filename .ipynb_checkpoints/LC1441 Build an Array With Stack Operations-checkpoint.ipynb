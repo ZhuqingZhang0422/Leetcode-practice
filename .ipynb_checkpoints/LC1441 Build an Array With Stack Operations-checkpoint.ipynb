{
 "cells": [
  {
   "cell_type": "markdown",
   "metadata": {},
   "source": [
    "### LC1441_Build an Array With Stack Operations\n",
    "Given an array target and an integer n. In each iteration, you will read a number from  list = {1,2,3..., n}.\n",
    "\n",
    "Build the target array using the following operations:\n",
    "\n",
    "Push: Read a new element from the beginning list, and push it in the array.\n",
    "Pop: delete the last element of the array.\n",
    "If the target array is already built, stop reading more elements.\n",
    "Return the operations to build the target array. You are guaranteed that the answer is unique.\n",
    "\n",
    " \n",
    "\n",
    "Example 1:\n",
    "\n",
    "Input: target = [1,3], n = 3\n",
    "Output: [\"Push\",\"Push\",\"Pop\",\"Push\"]\n",
    "Explanation: \n",
    "Read number 1 and automatically push in the array -> [1]\n",
    "Read number 2 and automatically push in the array then Pop it -> [1]\n",
    "Read number 3 and automatically push in the array -> [1,3]\n",
    "Example 2:\n",
    "\n",
    "Input: target = [1,2,3], n = 3\n",
    "Output: [\"Push\",\"Push\",\"Push\"]\n",
    "Example 3:\n",
    "\n",
    "Input: target = [1,2], n = 4\n",
    "Output: [\"Push\",\"Push\"]\n",
    "Explanation: You only need to read the first 2 numbers and stop.\n",
    "Example 4:\n",
    "\n",
    "Input: target = [2,3,4], n = 4\n",
    "Output: [\"Push\",\"Pop\",\"Push\",\"Push\",\"Push\"]\n",
    " \n",
    "\n",
    "Constraints:\n",
    "\n",
    "1 <= target.length <= 100\n",
    "1 <= target[i] <= n\n",
    "1 <= n <= 100\n",
    "target is strictly increasing.\n"
   ]
  },
  {
   "cell_type": "code",
   "execution_count": null,
   "metadata": {},
   "outputs": [],
   "source": [
    "from collections import deque\n",
    "class Solution:\n",
    "    def buildArray(self, target: List[int], n: int) -> List[str]:\n",
    "        domain = deque(i for i in range (1,n+1))\n",
    "        res = []\n",
    "        ans = []\n",
    "        while target!= res:\n",
    "            res.append(domain.popleft())\n",
    "            ans.append('Push')\n",
    "            if res[-1] not in target:\n",
    "                res.pop()\n",
    "                ans.append('Pop')\n",
    "        return ans"
   ]
  }
 ],
 "metadata": {
  "kernelspec": {
   "display_name": "Python 3",
   "language": "python",
   "name": "python3"
  },
  "language_info": {
   "codemirror_mode": {
    "name": "ipython",
    "version": 3
   },
   "file_extension": ".py",
   "mimetype": "text/x-python",
   "name": "python",
   "nbconvert_exporter": "python",
   "pygments_lexer": "ipython3",
   "version": "3.7.6"
  }
 },
 "nbformat": 4,
 "nbformat_minor": 4
}
