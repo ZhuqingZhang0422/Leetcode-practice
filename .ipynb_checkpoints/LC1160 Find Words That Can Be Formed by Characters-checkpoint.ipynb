{
 "cells": [
  {
   "cell_type": "markdown",
   "metadata": {},
   "source": [
    "### LC1160_Find Words That Can Be Formed by Characters\n",
    "You are given an array of strings words and a string chars.\n",
    "\n",
    "A string is good if it can be formed by characters from chars (each character can only be used once).\n",
    "\n",
    "Return the sum of lengths of all good strings in words.\n",
    "\n",
    " \n",
    "\n",
    "Example 1:\n",
    "\n",
    "Input: words = [\"cat\",\"bt\",\"hat\",\"tree\"], chars = \"atach\"\n",
    "Output: 6\n",
    "Explanation: \n",
    "The strings that can be formed are \"cat\" and \"hat\" so the answer is 3 + 3 = 6.\n",
    "Example 2:\n",
    "\n",
    "Input: words = [\"hello\",\"world\",\"leetcode\"], chars = \"welldonehoneyr\"\n",
    "Output: 10\n",
    "Explanation: \n",
    "The strings that can be formed are \"hello\" and \"world\" so the answer is 5 + 5 = 10."
   ]
  },
  {
   "cell_type": "code",
   "execution_count": null,
   "metadata": {},
   "outputs": [],
   "source": [
    "class Solution:\n",
    "    def countCharacters(self, words: List[str], chars: str) -> int:\n",
    "        \n",
    "        def helper(word,dic):\n",
    "            dic.copy()\n",
    "            for c in word:\n",
    "                if c in dic:\n",
    "                    dic[c] -= 1\n",
    "                    if dic[c] == 0:\n",
    "                        del dic[c]\n",
    "                else:\n",
    "                    return False\n",
    "            return True\n",
    "        res = 0\n",
    "        dict_f = Counter(chars)\n",
    "        \n",
    "        for word in words:\n",
    "            dic = dict_f.copy()\n",
    "            if helper(word,dic) == True:\n",
    "                res += len(word)\n",
    "        return res"
   ]
  }
 ],
 "metadata": {
  "kernelspec": {
   "display_name": "Python 3",
   "language": "python",
   "name": "python3"
  },
  "language_info": {
   "codemirror_mode": {
    "name": "ipython",
    "version": 3
   },
   "file_extension": ".py",
   "mimetype": "text/x-python",
   "name": "python",
   "nbconvert_exporter": "python",
   "pygments_lexer": "ipython3",
   "version": "3.7.6"
  }
 },
 "nbformat": 4,
 "nbformat_minor": 4
}
