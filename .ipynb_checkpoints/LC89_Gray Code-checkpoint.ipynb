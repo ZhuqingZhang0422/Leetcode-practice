{
 "cells": [
  {
   "cell_type": "markdown",
   "metadata": {},
   "source": [
    "### LC89_Gray Code\n",
    "The gray code is a binary numeral system where two successive values differ in only one bit.\n",
    "\n",
    "Given a non-negative integer n representing the total number of bits in the code, print the sequence of gray code. A gray code sequence must begin with 0.\n",
    "\n",
    "Example 1:\n",
    "\n",
    "Input: 2\n",
    "Output: [0,1,3,2]\n",
    "Explanation:\n",
    "    00 - 0\n",
    "    01 - 1\n",
    "    11 - 3\n",
    "    10 - 2\n",
    "\n",
    "For a given n, a gray code sequence may not be uniquely defined.\n",
    "For example, [0,2,3,1] is also a valid gray code sequence.\n",
    "\n",
    "    00 - 0\n",
    "    10 - 2\n",
    "    11 - 3\n",
    "    01 - 1\n",
    "Example 2:\n",
    "\n",
    "Input: 0\n",
    "Output: [0]\n",
    "Explanation: We define the gray code sequence to begin with 0.\n",
    "             A gray code sequence of n has size = 2n, which for n = 0 the size is 20 = 1.\n",
    "             Therefore, for n = 0 the gray code sequence is [0]."
   ]
  },
  {
   "cell_type": "code",
   "execution_count": null,
   "metadata": {},
   "outputs": [],
   "source": [
    "class Solution:\n",
    "    def grayCode(self, n: int) -> List[int]:\n",
    "        if n == 0:\n",
    "            return [0]\n",
    "        else:\n",
    "            return self.grayCode(n-1) + [2**(n-1) + i for i in self.grayCode(n-1)[::-1]]"
   ]
  }
 ],
 "metadata": {
  "kernelspec": {
   "display_name": "Python 3",
   "language": "python",
   "name": "python3"
  },
  "language_info": {
   "codemirror_mode": {
    "name": "ipython",
    "version": 3
   },
   "file_extension": ".py",
   "mimetype": "text/x-python",
   "name": "python",
   "nbconvert_exporter": "python",
   "pygments_lexer": "ipython3",
   "version": "3.7.6"
  }
 },
 "nbformat": 4,
 "nbformat_minor": 4
}
