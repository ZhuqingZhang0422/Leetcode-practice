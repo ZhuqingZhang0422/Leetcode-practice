{
 "cells": [
  {
   "cell_type": "markdown",
   "metadata": {},
   "source": [
    "### LC346_Moving Average from Data Stream\n",
    "Given a stream of integers and a window size, calculate the moving average of all integers in the sliding window.\n",
    "\n",
    "Example:\n",
    "\n",
    "MovingAverage m = new MovingAverage(3);\n",
    "m.next(1) = 1\n",
    "m.next(10) = (1 + 10) / 2\n",
    "m.next(3) = (1 + 10 + 3) / 3\n",
    "m.next(5) = (10 + 3 + 5) / 3"
   ]
  },
  {
   "cell_type": "code",
   "execution_count": null,
   "metadata": {},
   "outputs": [],
   "source": [
    "from collections import deque\n",
    "class MovingAverage(object):\n",
    "\n",
    "    def __init__(self, size):\n",
    "        \"\"\"\n",
    "        Initialize your data structure here.\n",
    "        :type size: int\n",
    "        \"\"\" \n",
    "        self.size = size\n",
    "        self.frontier = deque()\n",
    "        self.sum = 0\n",
    "        self.index = 0\n",
    "\n",
    "    def next(self, val):\n",
    "        \"\"\"\n",
    "        :type val: int\n",
    "        :rtype: float\n",
    "        \"\"\"\n",
    "        self.sum += float(val)\n",
    "        self.frontier.append(float(val))\n",
    "        if len(self.frontier) > self.size:\n",
    "            self.sum -= self.frontier.popleft()  \n",
    "        return self.sum/float(len(self.frontier))\n",
    "        "
   ]
  }
 ],
 "metadata": {
  "kernelspec": {
   "display_name": "Python 3",
   "language": "python",
   "name": "python3"
  },
  "language_info": {
   "codemirror_mode": {
    "name": "ipython",
    "version": 3
   },
   "file_extension": ".py",
   "mimetype": "text/x-python",
   "name": "python",
   "nbconvert_exporter": "python",
   "pygments_lexer": "ipython3",
   "version": "3.7.6"
  }
 },
 "nbformat": 4,
 "nbformat_minor": 4
}
