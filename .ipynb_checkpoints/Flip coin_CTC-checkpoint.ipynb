{
 "cells": [
  {
   "cell_type": "code",
   "execution_count": 5,
   "metadata": {},
   "outputs": [
    {
     "name": "stdout",
     "output_type": "stream",
     "text": [
      "6 4\n"
     ]
    },
    {
     "data": {
      "text/plain": [
       "4"
      ]
     },
     "execution_count": 5,
     "metadata": {},
     "output_type": "execute_result"
    }
   ],
   "source": [
    "a = [0,1,0,1,1,1,1,0,0,0]\n",
    "b = [0,1,0,1,0,1,0,1,0,1]\n",
    "c = [1,0,1,0,1,0,1,0,1,0]\n",
    "start_0 ,start_1 = 0, 0\n",
    "for i in range (len(a)):\n",
    "    if i%2 == 0:\n",
    "        start_0 += (a[i] == 0)\n",
    "        start_1 += (a[i] == 1)\n",
    "    else:\n",
    "        start_0 += (a[i] == 1)\n",
    "        start_1 += (a[i] == 0)\n",
    "print(start_0,start_1)\n",
    "min(start_0,start_1)"
   ]
  },
  {
   "cell_type": "code",
   "execution_count": 188,
   "metadata": {},
   "outputs": [
    {
     "name": "stdout",
     "output_type": "stream",
     "text": [
      "1\n"
     ]
    }
   ],
   "source": [
    "#clear-hairong\n",
    "A = [1,1]\n",
    "def test(A):\n",
    "    n = len(A)\n",
    "    i = 0\n",
    "    cur_lar = 0\n",
    "    temp = [0]\n",
    "    res = 0\n",
    "    while i < n-1:\n",
    "        j=i\n",
    "        while j < n-1 and A[j] <= A[j+1]:\n",
    "            j += 1\n",
    "            cur_lar = j \n",
    "        temp.append(cur_lar)\n",
    "        res = max(res,temp[-1]-temp[-2])\n",
    "        i +=1\n",
    "    return res\n",
    "print(test(A))"
   ]
  },
  {
   "cell_type": "code",
   "execution_count": 164,
   "metadata": {},
   "outputs": [
    {
     "name": "stdout",
     "output_type": "stream",
     "text": [
      "0 0 0\n",
      "1 1 1\n",
      "1 2 2\n",
      "1 3 3\n",
      "1 4 4\n",
      "3\n"
     ]
    }
   ],
   "source": [
    "A = [9,8,7,6,5]\n",
    "[1, 5, 1, 2, 1, 4, 5] \n",
    "n = len(A)\n",
    "i = 0\n",
    "dis = 0\n",
    "while i < n:\n",
    "    temp_l = i \n",
    "    temp_r = i \n",
    "    left = right = i\n",
    "    while temp_l -1 > 0 and A[temp_l-1] > A[temp_l]:\n",
    "        temp_l -= 1\n",
    "        left = temp_l\n",
    "    while temp_r+1 < n and  A[temp_r] < A[temp_r+1]:\n",
    "        temp_r += 1\n",
    "        right = temp_r\n",
    "    if left >= 0 and right<=n:\n",
    "        dis = max(dis,right-left)\n",
    "    print(left,i,right)\n",
    "    i+=1\n",
    "print(dis)"
   ]
  },
  {
   "cell_type": "code",
   "execution_count": 22,
   "metadata": {},
   "outputs": [
    {
     "name": "stdout",
     "output_type": "stream",
     "text": [
      "[0, 3]\n",
      "[0, 3, 3]\n",
      "[0, 3, 3, 3]\n",
      "3\n"
     ]
    }
   ],
   "source": [
    "#clear\n",
    "A = [1,2,4,4,3,2,1]\n",
    "def test1(A):\n",
    "    n = len(A)\n",
    "    i = 0\n",
    "    cur_lar = 0\n",
    "    temp = [0]\n",
    "    res = 0\n",
    "    while i < n-1:\n",
    "        #prev_lar = cur_lar\n",
    "        while i < n-1 and A[i] <= A[i+1]:\n",
    "            i += 1\n",
    "            cur_lar = i\n",
    "        temp.append(cur_lar)\n",
    "        print(temp)\n",
    "        res = max(res,temp[-1]-temp[-2])\n",
    "        i += 1\n",
    "    if A[n-2] >= A[n-1]:\n",
    "        temp.append(n-1)\n",
    "        res = max(res,temp[-1]-temp[-2])\n",
    "        \n",
    "    return res\n",
    "print(test1(A))"
   ]
  },
  {
   "cell_type": "code",
   "execution_count": 24,
   "metadata": {},
   "outputs": [
    {
     "name": "stdout",
     "output_type": "stream",
     "text": [
      "0 0 1\n",
      "1 1 1\n",
      "2 2 2\n",
      "2 3 4\n",
      "4 4 4\n",
      "2\n"
     ]
    }
   ],
   "source": [
    "A = [1, 5, 5, 2, 6]\n",
    "n = len(A)\n",
    "i = 0\n",
    "dis = 0\n",
    "while i < n:\n",
    "    temp_l = i \n",
    "    temp_r = i \n",
    "    left = right = i\n",
    "    while temp_l -1 > 0 and A[temp_l-1] >= A[temp_l]:\n",
    "        temp_l -= 1\n",
    "        left = temp_l\n",
    "    while temp_r +1 < n and  A[temp_r] <= A[temp_r+1]:\n",
    "        temp_r += 1\n",
    "        right = temp_r\n",
    "    if left >= 0 and right<=n:\n",
    "        dis = max(dis,right-left)\n",
    "    print(left,i,right)\n",
    "    i+=1\n",
    "print(dis)"
   ]
  },
  {
   "cell_type": "code",
   "execution_count": null,
   "metadata": {},
   "outputs": [],
   "source": []
  },
  {
   "cell_type": "code",
   "execution_count": null,
   "metadata": {},
   "outputs": [],
   "source": []
  }
 ],
 "metadata": {
  "kernelspec": {
   "display_name": "Python 3",
   "language": "python",
   "name": "python3"
  },
  "language_info": {
   "codemirror_mode": {
    "name": "ipython",
    "version": 3
   },
   "file_extension": ".py",
   "mimetype": "text/x-python",
   "name": "python",
   "nbconvert_exporter": "python",
   "pygments_lexer": "ipython3",
   "version": "3.7.6"
  }
 },
 "nbformat": 4,
 "nbformat_minor": 4
}
