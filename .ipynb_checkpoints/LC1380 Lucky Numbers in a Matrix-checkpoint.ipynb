{
 "cells": [
  {
   "cell_type": "markdown",
   "metadata": {},
   "source": [
    "### LC1380_Lucky Numbers in a Matrix\n",
    "Given a m * n matrix of distinct numbers, return all lucky numbers in the matrix in any order.\n",
    "\n",
    "A lucky number is an element of the matrix such that it is the minimum element in its row and maximum in its column.\n",
    "\n",
    " \n",
    "\n",
    "Example 1:\n",
    "Input: matrix = [[3,7,8],[9,11,13],[15,16,17]]\n",
    "Output: [15]\n",
    "Explanation: 15 is the only lucky number since it is the minimum in its row and the maximum in its column\n",
    "\n",
    "Example 2:\n",
    "Input: matrix = [[1,10,4,2],[9,3,8,7],[15,16,17,12]]\n",
    "Output: [12]\n",
    "Explanation: 12 is the only lucky number since it is the minimum in its row and the maximum in its column.\n",
    "\n",
    "Example 3:\n",
    "Input: matrix = [[7,8],[1,2]]\n",
    "Output: [7]"
   ]
  },
  {
   "cell_type": "code",
   "execution_count": null,
   "metadata": {},
   "outputs": [],
   "source": [
    "class Solution:\n",
    "    def luckyNumbers (self, matrix: List[List[int]]) -> List[int]:\n",
    "        row = set()\n",
    "        column = set()\n",
    "        n, m = len(matrix), len(matrix[0])\n",
    "        for i in range(n):\n",
    "            row_min = matrix[i][0]\n",
    "            for j in range(m):\n",
    "                row_min = min(row_min,matrix[i][j])\n",
    "            row.add(row_min)\n",
    "            \n",
    "        for j in range(m):\n",
    "            col_max = matrix[0][j]\n",
    "            for i in range(n):\n",
    "                col_max = max(col_max,matrix[i][j])\n",
    "            column.add(col_max)\n",
    "        return list(set.intersection(row,column))"
   ]
  }
 ],
 "metadata": {
  "kernelspec": {
   "display_name": "Python 3",
   "language": "python",
   "name": "python3"
  },
  "language_info": {
   "codemirror_mode": {
    "name": "ipython",
    "version": 3
   },
   "file_extension": ".py",
   "mimetype": "text/x-python",
   "name": "python",
   "nbconvert_exporter": "python",
   "pygments_lexer": "ipython3",
   "version": "3.8.5"
  }
 },
 "nbformat": 4,
 "nbformat_minor": 4
}
