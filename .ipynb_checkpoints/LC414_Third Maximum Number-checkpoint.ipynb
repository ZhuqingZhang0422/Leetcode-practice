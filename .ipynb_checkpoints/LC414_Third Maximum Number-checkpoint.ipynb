{
 "cells": [
  {
   "cell_type": "markdown",
   "metadata": {},
   "source": [
    "### LC414_Third Maximum Number\n",
    "Given integer array nums, return the third maximum number in this array. If the third maximum does not exist, return the maximum number.\n",
    "\n",
    " \n",
    "\n",
    "Example 1:\n",
    "\n",
    "Input: nums = [3,2,1]\n",
    "Output: 1\n",
    "Explanation: The third maximum is 1.\n",
    "Example 2:\n",
    "\n",
    "Input: nums = [1,2]\n",
    "Output: 2\n",
    "Explanation: The third maximum does not exist, so the maximum (2) is returned instead.\n",
    "Example 3:\n",
    "\n",
    "Input: nums = [2,2,3,1]\n",
    "Output: 1\n",
    "Explanation: Note that the third maximum here means the third maximum distinct number.\n",
    "Both numbers with value 2 are both considered as second maximum.\n",
    " \n",
    "\n",
    "Constraints:\n",
    "\n",
    "1 <= nums.length <= 104\n",
    "231 <= nums[i] <= 231 - 1"
   ]
  },
  {
   "cell_type": "code",
   "execution_count": null,
   "metadata": {},
   "outputs": [],
   "source": [
    "from heapq import *\n",
    "class Solution:\n",
    "    def thirdMax(self, nums: List[int]) -> int:\n",
    "        min_heap = []\n",
    "        for num in nums:\n",
    "            if num not in min_heap:\n",
    "                heappush(min_heap,num)\n",
    "            if len(min_heap)>3:\n",
    "                heappop(min_heap)\n",
    "        if len(min_heap) != 3:\n",
    "            return min_heap[-1]\n",
    "        return min_heap[0]"
   ]
  }
 ],
 "metadata": {
  "kernelspec": {
   "display_name": "Python 3",
   "language": "python",
   "name": "python3"
  },
  "language_info": {
   "codemirror_mode": {
    "name": "ipython",
    "version": 3
   },
   "file_extension": ".py",
   "mimetype": "text/x-python",
   "name": "python",
   "nbconvert_exporter": "python",
   "pygments_lexer": "ipython3",
   "version": "3.8.5"
  }
 },
 "nbformat": 4,
 "nbformat_minor": 4
}
