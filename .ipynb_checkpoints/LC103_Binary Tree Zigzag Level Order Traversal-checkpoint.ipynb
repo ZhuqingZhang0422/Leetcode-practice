{
 "cells": [
  {
   "cell_type": "markdown",
   "metadata": {},
   "source": [
    "### 103. Binary Tree Zigzag Level Order Traversal\n",
    "\n",
    "Given a binary tree, return the zigzag level order traversal of its nodes' values. (ie, from left to right, then right to left for the next level and alternate between).\n",
    "\n",
    "For example:\n",
    "Given binary tree [3,9,20,null,null,15,7],\n",
    "\n",
    "        3\n",
    "       / \\\n",
    "      9  20\n",
    "        /  \\\n",
    "       15   7\n",
    "return its zigzag level order traversal as:\n",
    "[\n",
    "  [3],\n",
    "  [20,9],\n",
    "  [15,7]\n",
    "]\n"
   ]
  },
  {
   "cell_type": "code",
   "execution_count": null,
   "metadata": {},
   "outputs": [],
   "source": [
    "# Definition for a binary tree node.\n",
    "# class TreeNode(object):\n",
    "#     def __init__(self, val=0, left=None, right=None):\n",
    "#         self.val = val\n",
    "#         self.left = left\n",
    "#         self.right = right\n",
    "from collections import deque\n",
    "class Solution(object):\n",
    "    def zigzagLevelOrder(self, root):\n",
    "        \"\"\"\n",
    "        :type root: TreeNode\n",
    "        :rtype: List[List[int]]\n",
    "        \"\"\"\n",
    "        if root == None:\n",
    "            return []\n",
    "        res = []\n",
    "        tree = deque()\n",
    "        tree.append(root)\n",
    "        is_left = True\n",
    "        while tree:\n",
    "            current_lev = deque()\n",
    "            length = len(tree)\n",
    "            for i in range (length):\n",
    "                node = tree.popleft()\n",
    "                if is_left == True:\n",
    "                    current_lev.append(node.val)\n",
    "                else:\n",
    "                    current_lev.appendleft(node.val)\n",
    "                if node.left:\n",
    "                    tree.append(node.left)\n",
    "                if node.right:\n",
    "                    tree.append(node.right)\n",
    "            is_left = not is_left\n",
    "            res.append(list(current_lev))\n",
    "        return res\n",
    "        "
   ]
  }
 ],
 "metadata": {
  "kernelspec": {
   "display_name": "Python 3",
   "language": "python",
   "name": "python3"
  },
  "language_info": {
   "codemirror_mode": {
    "name": "ipython",
    "version": 3
   },
   "file_extension": ".py",
   "mimetype": "text/x-python",
   "name": "python",
   "nbconvert_exporter": "python",
   "pygments_lexer": "ipython3",
   "version": "3.7.6"
  }
 },
 "nbformat": 4,
 "nbformat_minor": 4
}
