{
 "cells": [
  {
   "cell_type": "markdown",
   "metadata": {},
   "source": [
    "### LC415_Add Strings\n",
    "Given two non-negative integers num1 and num2 represented as string, return the sum of num1 and num2.\n",
    "\n",
    "Note:\n",
    "\n",
    "The length of both num1 and num2 is < 5100.\n",
    "Both num1 and num2 contains only digits 0-9.\n",
    "Both num1 and num2 does not contain any leading zero.\n",
    "You must not use any built-in BigInteger library or convert the inputs to integer directly.\n"
   ]
  },
  {
   "cell_type": "code",
   "execution_count": null,
   "metadata": {},
   "outputs": [],
   "source": [
    "from collections import deque\n",
    "class Solution(object):\n",
    "    def addStrings(self, num1, num2):\n",
    "        \"\"\"\n",
    "        :type num1: str\n",
    "        :type num2: str\n",
    "        :rtype: str\n",
    "        \"\"\"\n",
    "        ans = deque()\n",
    "        p1 = len(num1) - 1\n",
    "        p2 = len(num2) - 1\n",
    "        carry = 0\n",
    "        while p1 >= 0 and p2>=0:\n",
    "            num = int(num1[p1]) + int(num2[p2]) + carry\n",
    "            res = num % 10\n",
    "            carry = num // 10\n",
    "            p1 -= 1\n",
    "            p2 -= 1\n",
    "            ans.appendleft(str(res))\n",
    "        \n",
    "        while p1 >= 0:\n",
    "            num = int(num1[p1]) + carry\n",
    "            res = num % 10\n",
    "            carry = num // 10\n",
    "            p1 -=1\n",
    "            ans.appendleft(str(res))\n",
    "            \n",
    "        while p2 >= 0:\n",
    "            num = int(num2[p2]) + carry\n",
    "            res = num % 10\n",
    "            carry = num // 10\n",
    "            p2 -=1\n",
    "            ans.appendleft(str(res))\n",
    "            \n",
    "        if carry !=0:\n",
    "            ans.appendleft(str(carry))\n",
    "        return ''.join(ans)"
   ]
  }
 ],
 "metadata": {
  "kernelspec": {
   "display_name": "Python 3",
   "language": "python",
   "name": "python3"
  },
  "language_info": {
   "codemirror_mode": {
    "name": "ipython",
    "version": 3
   },
   "file_extension": ".py",
   "mimetype": "text/x-python",
   "name": "python",
   "nbconvert_exporter": "python",
   "pygments_lexer": "ipython3",
   "version": "3.7.6"
  }
 },
 "nbformat": 4,
 "nbformat_minor": 4
}
