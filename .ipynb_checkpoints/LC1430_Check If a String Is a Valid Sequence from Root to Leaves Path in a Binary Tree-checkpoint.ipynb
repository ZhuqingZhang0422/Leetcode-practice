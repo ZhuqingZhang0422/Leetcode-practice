{
 "cells": [
  {
   "cell_type": "markdown",
   "metadata": {},
   "source": [
    "### LC1430. Check If a String Is a Valid Sequence from Root to Leaves Path in a Binary Tree\n",
    "Given a binary tree where each path going from the root to any leaf form a valid sequence, check if a given string is a valid sequence in such binary tree. \n",
    "\n",
    "We get the given string from the concatenation of an array of integers arr and the concatenation of all values of the nodes along a path results in a sequence in the given binary tree.\n",
    "\n",
    " "
   ]
  },
  {
   "cell_type": "code",
   "execution_count": null,
   "metadata": {},
   "outputs": [],
   "source": [
    "# Definition for a binary tree node.\n",
    "# class TreeNode(object):\n",
    "#     def __init__(self, val=0, left=None, right=None):\n",
    "#         self.val = val\n",
    "#         self.left = left\n",
    "#         self.right = right\n",
    "class Solution(object):\n",
    "    def isValidSequence(self, root, arr):\n",
    "        \"\"\"\n",
    "        :type root: TreeNode\n",
    "        :type arr: List[int]\n",
    "        :rtype: bool\n",
    "        \"\"\"\n",
    "        if root is None:\n",
    "            return len(arr) == 0\n",
    "        return self.isval_rec(root,arr,0)\n",
    "    \n",
    "    def isval_rec(self,root,arr,ind):\n",
    "        if root is None:\n",
    "            return False\n",
    "        \n",
    "        l = len(arr)\n",
    "        \n",
    "        if ind >= l or root.val != arr[ind]:\n",
    "            return False\n",
    "        \n",
    "        if root.left is None and root.right is None and ind == l-1:\n",
    "            return True\n",
    "        \n",
    "        else:\n",
    "            return self.isval_rec(root.left,arr,ind+1) or self.isval_rec(root.right,arr,ind+1)"
   ]
  }
 ],
 "metadata": {
  "kernelspec": {
   "display_name": "Python 3",
   "language": "python",
   "name": "python3"
  },
  "language_info": {
   "codemirror_mode": {
    "name": "ipython",
    "version": 3
   },
   "file_extension": ".py",
   "mimetype": "text/x-python",
   "name": "python",
   "nbconvert_exporter": "python",
   "pygments_lexer": "ipython3",
   "version": "3.7.6"
  }
 },
 "nbformat": 4,
 "nbformat_minor": 4
}
