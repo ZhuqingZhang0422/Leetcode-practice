{
 "cells": [
  {
   "cell_type": "markdown",
   "metadata": {},
   "source": [
    "### LC63_Unique Paths II\n",
    "A robot is located at the top-left corner of a m x n grid (marked 'Start' in the diagram below).\n",
    "\n",
    "The robot can only move either down or right at any point in time. The robot is trying to reach the bottom-right corner of the grid (marked 'Finish' in the diagram below).\n",
    "\n",
    "Now consider if some obstacles are added to the grids. How many unique paths would there be?\n",
    "\n",
    "\n",
    "\n",
    "An obstacle and empty space is marked as 1 and 0 respectively in the grid.\n",
    "\n",
    "Note: m and n will be at most 100.\n",
    "\n",
    "Example 1:\n",
    "\n",
    "Input:\n",
    "[\n",
    "  [0,0,0],\n",
    "  [0,1,0],\n",
    "  [0,0,0]\n",
    "]\n",
    "Output: 2\n",
    "Explanation:\n",
    "There is one obstacle in the middle of the 3x3 grid above.\n",
    "There are two ways to reach the bottom-right corner:\n",
    "1. Right -> Right -> Down -> Down\n",
    "2. Down -> Down -> Right -> Right"
   ]
  },
  {
   "cell_type": "code",
   "execution_count": null,
   "metadata": {},
   "outputs": [],
   "source": [
    "class Solution:\n",
    "    def uniquePathsWithObstacles(self, obstacleGrid: List[List[int]]) -> int:\n",
    "        m = len(obstacleGrid)\n",
    "        n = len(obstacleGrid[0])\n",
    "        \n",
    "        if obstacleGrid[0][0] == 1:\n",
    "            return 0\n",
    "        \n",
    "        for j in range (n):\n",
    "            if obstacleGrid[0][j] != 1:\n",
    "                obstacleGrid[0][j] = 1\n",
    "            else:\n",
    "                obstacleGrid[0][j] = 0\n",
    "                for i in range (j,n):\n",
    "                    obstacleGrid[0][i] = 0\n",
    "                break\n",
    "        \n",
    "        for i in range (1,m):\n",
    "            if obstacleGrid[i][0] != 1:\n",
    "                obstacleGrid[i][0] = 1\n",
    "            else:\n",
    "                obstacleGrid[i][0] = 0\n",
    "                for j in range (i,m):\n",
    "                    obstacleGrid[j][0] = 0\n",
    "                break\n",
    "        \n",
    "        for i in range(1,m):\n",
    "            for j in range (1,n):\n",
    "                if obstacleGrid[i][j] != 1:\n",
    "                    obstacleGrid[i][j] = obstacleGrid[i-1][j] + obstacleGrid[i][j-1]\n",
    "                else:\n",
    "                    obstacleGrid[i][j] = 0\n",
    "        return obstacleGrid[m-1][n-1]"
   ]
  }
 ],
 "metadata": {
  "kernelspec": {
   "display_name": "Python 3",
   "language": "python",
   "name": "python3"
  },
  "language_info": {
   "codemirror_mode": {
    "name": "ipython",
    "version": 3
   },
   "file_extension": ".py",
   "mimetype": "text/x-python",
   "name": "python",
   "nbconvert_exporter": "python",
   "pygments_lexer": "ipython3",
   "version": "3.7.6"
  }
 },
 "nbformat": 4,
 "nbformat_minor": 4
}
