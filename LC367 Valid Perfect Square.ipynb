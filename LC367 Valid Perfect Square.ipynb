{
 "cells": [
  {
   "cell_type": "markdown",
   "metadata": {},
   "source": [
    "### LC367_Valid Perfect Square\n",
    "Given a positive integer num, write a function which returns True if num is a perfect square else False.\n",
    "\n",
    "Follow up: Do not use any built-in library function such as sqrt.\n",
    "\n",
    "Example 1:\n",
    "Input: num = 16\n",
    "Output: true\n",
    "\n",
    "Example 2:\n",
    "Input: num = 14\n",
    "Output: false\n",
    " \n",
    "Constraints:\n",
    "1 <= num <= 2^31 - 1\n"
   ]
  },
  {
   "cell_type": "code",
   "execution_count": null,
   "metadata": {},
   "outputs": [],
   "source": [
    "class Solution:\n",
    "    def isPerfectSquare(self, num: int) -> bool:\n",
    "        left = 1\n",
    "        right = num\n",
    "        while left <= right:\n",
    "            mid = (left + right)//2\n",
    "            if mid**2 > num:\n",
    "                right = mid - 1\n",
    "            elif mid **2 < num:\n",
    "                left = mid + 1\n",
    "            else:\n",
    "                return True\n",
    "        return False"
   ]
  }
 ],
 "metadata": {
  "kernelspec": {
   "display_name": "Python 3",
   "language": "python",
   "name": "python3"
  },
  "language_info": {
   "codemirror_mode": {
    "name": "ipython",
    "version": 3
   },
   "file_extension": ".py",
   "mimetype": "text/x-python",
   "name": "python",
   "nbconvert_exporter": "python",
   "pygments_lexer": "ipython3",
   "version": "3.7.6"
  }
 },
 "nbformat": 4,
 "nbformat_minor": 4
}
