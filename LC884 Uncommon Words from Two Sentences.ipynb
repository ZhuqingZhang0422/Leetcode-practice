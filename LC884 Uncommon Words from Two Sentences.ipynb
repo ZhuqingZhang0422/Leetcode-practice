{
 "cells": [
  {
   "cell_type": "markdown",
   "metadata": {},
   "source": [
    "### LC884_Uncommon Words from Two Sentences\n",
    "We are given two sentences A and B.  (A sentence is a string of space separated words.  Each word consists only of lowercase letters.)\n",
    "\n",
    "A word is uncommon if it appears exactly once in one of the sentences, and does not appear in the other sentence.\n",
    "\n",
    "Return a list of all uncommon words. \n",
    "\n",
    "You may return the list in any order.\n",
    "\n",
    "\n",
    "Example 1:\n",
    "\n",
    "Input: A = \"this apple is sweet\", B = \"this apple is sour\"\n",
    "Output: [\"sweet\",\"sour\"]\n",
    "Example 2:\n",
    "\n",
    "Input: A = \"apple apple\", B = \"banana\"\n",
    "Output: [\"banana\"]"
   ]
  },
  {
   "cell_type": "code",
   "execution_count": null,
   "metadata": {},
   "outputs": [],
   "source": [
    "class Solution:\n",
    "    def uncommonFromSentences(self, A: str, B: str) -> List[str]:\n",
    "        A_l = A.split()\n",
    "        B_l = B.split()\n",
    "        A_dic = Counter(A_l)\n",
    "        B_dic = Counter(B_l)\n",
    "        for key in A_dic:\n",
    "            if A_dic[key] > 1:\n",
    "                A_dic[key] = 0\n",
    "        \n",
    "        for key in B_dic:\n",
    "            if B_dic[key] > 1:\n",
    "                B_dic[key] = 0\n",
    "        res = []        \n",
    "        for key in A_dic:\n",
    "            if key not in B_dic and A_dic[key] != 0:\n",
    "                res.append(key)\n",
    "        \n",
    "        for key in B_dic:\n",
    "            if key not in A_dic and B_dic[key] != 0:\n",
    "                res.append(key)\n",
    "                \n",
    "        return res"
   ]
  },
  {
   "cell_type": "code",
   "execution_count": null,
   "metadata": {},
   "outputs": [],
   "source": [
    "class Solution(object):\n",
    "    def uncommonFromSentences(self, A, B):\n",
    "        count = {}\n",
    "        for word in A.split():\n",
    "            count[word] = count.get(word, 0) + 1\n",
    "        for word in B.split():\n",
    "            count[word] = count.get(word, 0) + 1\n",
    "\n",
    "        #Alternatively:\n",
    "        #count = collections.Counter(A.split())\n",
    "        #count += collections.Counter(B.split())\n",
    "\n",
    "        return [word for word in count if count[word] == 1]"
   ]
  }
 ],
 "metadata": {
  "kernelspec": {
   "display_name": "Python 3",
   "language": "python",
   "name": "python3"
  },
  "language_info": {
   "codemirror_mode": {
    "name": "ipython",
    "version": 3
   },
   "file_extension": ".py",
   "mimetype": "text/x-python",
   "name": "python",
   "nbconvert_exporter": "python",
   "pygments_lexer": "ipython3",
   "version": "3.7.6"
  }
 },
 "nbformat": 4,
 "nbformat_minor": 4
}
