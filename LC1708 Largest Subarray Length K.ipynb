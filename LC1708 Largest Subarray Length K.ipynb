{
 "cells": [
  {
   "cell_type": "markdown",
   "metadata": {},
   "source": [
    "### LC1708_Largest Subarray Length K\n",
    "An array A is larger than some array B if for the first index i where A[i] != B[i], A[i] > B[i].\n",
    "\n",
    "For example, consider 0-indexing:\n",
    "\n",
    "[1,3,2,4] > [1,2,2,4], since at index 1, 3 > 2.\n",
    "[1,4,4,4] < [2,1,1,1], since at index 0, 1 < 2.\n",
    "A subarray is a contiguous subsequence of the array.\n",
    "\n",
    "Given an integer array nums of distinct integers, return the largest subarray of nums of length k.\n",
    "\n",
    " \n",
    "\n",
    "Example 1:\n",
    "\n",
    "Input: nums = [1,4,5,2,3], k = 3\n",
    "Output: [5,2,3]\n",
    "Explanation: The subarrays of size 3 are: [1,4,5], [4,5,2], and [5,2,3].\n",
    "Of these, [5,2,3] is the largest.\n",
    "Example 2:\n",
    "\n",
    "Input: nums = [1,4,5,2,3], k = 4\n",
    "Output: [4,5,2,3]\n",
    "Explanation: The subarrays of size 4 are: [1,4,5,2], and [4,5,2,3].\n",
    "Of these, [4,5,2,3] is the largest.\n",
    "Example 3:\n",
    "\n",
    "Input: nums = [1,4,5,2,3], k = 1\n",
    "Output: [5]"
   ]
  },
  {
   "cell_type": "code",
   "execution_count": null,
   "metadata": {},
   "outputs": [],
   "source": [
    "class Solution:\n",
    "    def largestSubarray(self, nums: List[int], k: int) -> List[int]:\n",
    "    \n",
    "        def helper(A,B):\n",
    "            for i in range (len(A)):\n",
    "                if A[i] != B[i]:\n",
    "                    return A[i] > B[i]\n",
    "        if k > len(nums):\n",
    "            return nums\n",
    "        else:\n",
    "            temp = nums[:k]\n",
    "            for i in range (len(nums)-k+1):\n",
    "                sub = nums[i:k+i]\n",
    "                if sub > temp:\n",
    "                    temp = sub\n",
    "        return temp"
   ]
  }
 ],
 "metadata": {
  "kernelspec": {
   "display_name": "Python 3",
   "language": "python",
   "name": "python3"
  },
  "language_info": {
   "codemirror_mode": {
    "name": "ipython",
    "version": 3
   },
   "file_extension": ".py",
   "mimetype": "text/x-python",
   "name": "python",
   "nbconvert_exporter": "python",
   "pygments_lexer": "ipython3",
   "version": "3.8.5"
  }
 },
 "nbformat": 4,
 "nbformat_minor": 4
}
