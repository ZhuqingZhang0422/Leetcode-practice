{
 "cells": [
  {
   "cell_type": "markdown",
   "metadata": {},
   "source": [
    "### LC358_Rearrange String k Distance Apart\n",
    "Given a non-empty string s and an integer k, rearrange the string such that the same characters are at least distance k from each other.\n",
    "\n",
    "All input strings are given in lowercase letters. If it is not possible to rearrange the string, return an empty string \"\".\n",
    "\n",
    "Example 1:\n",
    "\n",
    "Input: s = \"aabbcc\", k = 3\n",
    "Output: \"abcabc\" \n",
    "Explanation: The same letters are at least distance 3 from each other.\n",
    "Example 2:\n",
    "\n",
    "Input: s = \"aaabc\", k = 3\n",
    "Output: \"\" \n",
    "Explanation: It is not possible to rearrange the string.\n",
    "Example 3:\n",
    "\n",
    "Input: s = \"aaadbbcc\", k = 2\n",
    "Output: \"abacabcd\"\n",
    "Explanation: The same letters are at least distance 2 from each other."
   ]
  },
  {
   "cell_type": "code",
   "execution_count": null,
   "metadata": {},
   "outputs": [],
   "source": [
    "from heapq import *\n",
    "class Solution:\n",
    "    def rearrangeString(self, s: str, k: int) -> str:\n",
    "        if len(s) < 2:\n",
    "            return s\n",
    "        if k == 0:\n",
    "            return s\n",
    "        S = Counter(s)\n",
    "        maxheap = []\n",
    "        res = []\n",
    "        for item in S.items():\n",
    "            heappush(maxheap,(-item[1],item[0]))\n",
    "        \n",
    "        counter = 0\n",
    "        \n",
    "        while maxheap:\n",
    "            wait = []\n",
    "            n = k\n",
    "            \n",
    "            while n > 0 and maxheap:\n",
    "                freq, char = heappop(maxheap)\n",
    "                res.append(char)\n",
    "                counter += 1\n",
    "                if -freq > 1:\n",
    "                    wait.append((freq+1,char))\n",
    "                n -= 1\n",
    "            \n",
    "            for item in wait:\n",
    "                heappush(maxheap,item)\n",
    "            \n",
    "            if maxheap:\n",
    "                counter += n\n",
    "        if counter > len(s):\n",
    "            return ''\n",
    "        else:\n",
    "            return ''.join(res)\n",
    "                "
   ]
  }
 ],
 "metadata": {
  "kernelspec": {
   "display_name": "Python 3",
   "language": "python",
   "name": "python3"
  },
  "language_info": {
   "codemirror_mode": {
    "name": "ipython",
    "version": 3
   },
   "file_extension": ".py",
   "mimetype": "text/x-python",
   "name": "python",
   "nbconvert_exporter": "python",
   "pygments_lexer": "ipython3",
   "version": "3.7.6"
  }
 },
 "nbformat": 4,
 "nbformat_minor": 4
}
