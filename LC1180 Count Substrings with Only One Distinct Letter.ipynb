{
 "cells": [
  {
   "cell_type": "markdown",
   "metadata": {},
   "source": [
    "### LC1180_Count Substrings with Only One Distinct Letter\n",
    "Given a string S, return the number of substrings that have only one distinct letter.\n",
    "\n",
    " \n",
    "\n",
    "Example 1:\n",
    "\n",
    "Input: S = \"aaaba\"\n",
    "Output: 8\n",
    "Explanation: The substrings with one distinct letter are \"aaa\", \"aa\", \"a\", \"b\".\n",
    "\"aaa\" occurs 1 time.\n",
    "\"aa\" occurs 2 times.\n",
    "\"a\" occurs 4 times.\n",
    "\"b\" occurs 1 time.\n",
    "So the answer is 1 + 2 + 4 + 1 = 8.\n",
    "Example 2:\n",
    "\n",
    "Input: S = \"aaaaaaaaaa\"\n",
    "Output: 55\n",
    " \n",
    "\n",
    "Constraints:\n",
    "\n",
    "1 <= S.length <= 1000\n",
    "S[i] consists of only lowercase English letters.\n"
   ]
  },
  {
   "cell_type": "code",
   "execution_count": null,
   "metadata": {},
   "outputs": [],
   "source": [
    "class Solution:\n",
    "    def countLetters(self, S: str) -> int:\n",
    "        res = 0\n",
    "        for i in range(len(S)):\n",
    "            res += 1\n",
    "            j = 1\n",
    "            while i+j< len(S) and S[i] == S[i+j]:\n",
    "                j += 1\n",
    "                res += 1\n",
    "        return res"
   ]
  },
  {
   "cell_type": "code",
   "execution_count": null,
   "metadata": {},
   "outputs": [],
   "source": [
    "# Better solution\n",
    "class Solution:\n",
    "    def countLetters(self, S: str) -> int:\n",
    "        total = left = 0\n",
    "\n",
    "        for right in range(len(S) + 1):\n",
    "            if right == len(S) or S[left] != S[right]:\n",
    "                len_substring = right - left\n",
    "                total += (1 + len_substring) * len_substring // 2\n",
    "                left = right\n",
    "        return total"
   ]
  }
 ],
 "metadata": {
  "kernelspec": {
   "display_name": "Python 3",
   "language": "python",
   "name": "python3"
  },
  "language_info": {
   "codemirror_mode": {
    "name": "ipython",
    "version": 3
   },
   "file_extension": ".py",
   "mimetype": "text/x-python",
   "name": "python",
   "nbconvert_exporter": "python",
   "pygments_lexer": "ipython3",
   "version": "3.8.5"
  }
 },
 "nbformat": 4,
 "nbformat_minor": 4
}
