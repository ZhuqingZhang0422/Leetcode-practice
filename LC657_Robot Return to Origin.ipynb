{
 "cells": [
  {
   "cell_type": "markdown",
   "metadata": {},
   "source": [
    "### LC657_Robot Return to Origin\n",
    "There is a robot starting at position (0, 0), the origin, on a 2D plane. Given a sequence of its moves, judge if this robot ends up at (0, 0) after it completes its moves.\n",
    "\n",
    "The move sequence is represented by a string, and the character moves[i] represents its ith move. Valid moves are R (right), L (left), U (up), and D (down). If the robot returns to the origin after it finishes all of its moves, return true. Otherwise, return false.\n",
    "\n",
    "Note: The way that the robot is \"facing\" is irrelevant. \"R\" will always make the robot move to the right once, \"L\" will always make it move left, etc. Also, assume that the magnitude of the robot's movement is the same for each move.\n",
    " \n",
    "Example 1:\n",
    "\n",
    "Input: moves = \"UD\"\n",
    "Output: true\n",
    "Explanation: The robot moves up once, and then down once. All moves have the same magnitude, so it ended up at the origin where it started. Therefore, we return true.\n",
    "Example 2:\n",
    "\n",
    "Input: moves = \"LL\"\n",
    "Output: false\n",
    "Explanation: The robot moves left twice. It ends up two \"moves\" to the left of the origin. We return false because it is not at the origin at the end of its moves.\n",
    "Example 3:\n",
    "\n",
    "Input: moves = \"RRDD\"\n",
    "Output: false\n",
    "Example 4:\n",
    "\n",
    "Input: moves = \"LDRRLRUULR\"\n",
    "Output: false"
   ]
  },
  {
   "cell_type": "code",
   "execution_count": null,
   "metadata": {},
   "outputs": [],
   "source": [
    "class Solution(object):\n",
    "    def judgeCircle(self, moves):\n",
    "        \"\"\"\n",
    "        :type moves: str\n",
    "        :rtype: bool\n",
    "        \"\"\"\n",
    "        x = 0\n",
    "        y = 0\n",
    "        for move in moves:\n",
    "            if move == 'U':\n",
    "                y += 1\n",
    "            elif move == 'D':\n",
    "                y -= 1\n",
    "            elif move == 'L':\n",
    "                x -= 1\n",
    "            elif move == 'R':\n",
    "                x += 1\n",
    "        if x == 0 and y == 0:\n",
    "            return True\n",
    "        else:\n",
    "            return False"
   ]
  }
 ],
 "metadata": {
  "kernelspec": {
   "display_name": "Python 3",
   "language": "python",
   "name": "python3"
  },
  "language_info": {
   "codemirror_mode": {
    "name": "ipython",
    "version": 3
   },
   "file_extension": ".py",
   "mimetype": "text/x-python",
   "name": "python",
   "nbconvert_exporter": "python",
   "pygments_lexer": "ipython3",
   "version": "3.7.6"
  }
 },
 "nbformat": 4,
 "nbformat_minor": 4
}
