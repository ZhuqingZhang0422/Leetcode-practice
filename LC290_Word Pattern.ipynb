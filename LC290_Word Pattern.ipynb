{
 "cells": [
  {
   "cell_type": "markdown",
   "metadata": {},
   "source": [
    "### LC290_Word Pattern\n",
    "Given a pattern and a string s, find if s follows the same pattern.\n",
    "\n",
    "Here follow means a full match, such that there is a bijection between a letter in pattern and a non-empty word in s.\n",
    "\n",
    "Example 1:\n",
    "\n",
    "Input: pattern = \"abba\", s = \"dog cat cat dog\"\n",
    "Output: true\n",
    "Example 2:\n",
    "\n",
    "Input: pattern = \"abba\", s = \"dog cat cat fish\"\n",
    "Output: false\n",
    "Example 3:\n",
    "\n",
    "Input: pattern = \"aaaa\", s = \"dog cat cat dog\"\n",
    "Output: false\n",
    "Example 4:\n",
    "\n",
    "Input: pattern = \"abba\", s = \"dog dog dog dog\"\n",
    "Output: false\n",
    " \n",
    "Constraints:\n",
    "\n",
    "1 <= pattern.length <= 300\n",
    "pattern contains only lower-case English letters.\n",
    "1 <= s.length <= 3000\n",
    "s contains only lower-case English letters and spaces ' '.\n",
    "s does not contain any leading or trailing spaces.\n",
    "All the words in s are separated by a single space."
   ]
  },
  {
   "cell_type": "code",
   "execution_count": null,
   "metadata": {},
   "outputs": [],
   "source": [
    "class Solution:\n",
    "    def wordPattern(self, pattern: str, s: str) -> bool:\n",
    "        words = s.split()\n",
    "        if len(pattern) != len(words):\n",
    "            return False\n",
    "        dic_p = {}\n",
    "        dic_w = {}\n",
    "        res_p = []\n",
    "        res_w = []\n",
    "        ind = 0\n",
    "        temp = 0\n",
    "        for i in range (len(pattern)):\n",
    "            if pattern[i] not in dic_p:\n",
    "                dic_p [pattern[i]] = ind\n",
    "                res_p.append(dic_p[pattern[i]])\n",
    "                ind += 1\n",
    "            else:\n",
    "                res_p.append(dic_p[pattern[i]])\n",
    "            \n",
    "            if words[i] not in dic_w:\n",
    "                dic_w [words[i]] = temp\n",
    "                res_w.append(dic_w[words[i]])\n",
    "                temp += 1\n",
    "            else:\n",
    "                res_w.append(dic_w[words[i]])\n",
    "        return res_w == res_p"
   ]
  }
 ],
 "metadata": {
  "kernelspec": {
   "display_name": "Python 3",
   "language": "python",
   "name": "python3"
  },
  "language_info": {
   "codemirror_mode": {
    "name": "ipython",
    "version": 3
   },
   "file_extension": ".py",
   "mimetype": "text/x-python",
   "name": "python",
   "nbconvert_exporter": "python",
   "pygments_lexer": "ipython3",
   "version": "3.7.6"
  }
 },
 "nbformat": 4,
 "nbformat_minor": 4
}
