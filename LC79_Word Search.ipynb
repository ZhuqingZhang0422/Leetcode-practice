{
 "cells": [
  {
   "cell_type": "markdown",
   "metadata": {},
   "source": [
    "### LC79_Word Search\n",
    "Given a 2D board and a word, find if the word exists in the grid.\n",
    "\n",
    "The word can be constructed from letters of sequentially adjacent cell, where \"adjacent\" cells are those horizontally or vertically neighboring. The same letter cell may not be used more than once.\n",
    "\n",
    "Example:\n",
    "\n",
    "board =\n",
    "[\n",
    "  ['A','B','C','E'],\n",
    "  ['S','F','C','S'],\n",
    "  ['A','D','E','E']\n",
    "]\n",
    "\n",
    "Given word = \"ABCCED\", return true.\n",
    "Given word = \"SEE\", return true.\n",
    "Given word = \"ABCB\", return false."
   ]
  },
  {
   "cell_type": "code",
   "execution_count": null,
   "metadata": {},
   "outputs": [],
   "source": [
    "class Solution(object):\n",
    "    def exist(self, board, word):\n",
    "        \"\"\"\n",
    "        :type board: List[List[str]]\n",
    "        :type word: str\n",
    "        :rtype: bool\n",
    "        \"\"\"\n",
    "        self.rows = len(board)\n",
    "        self.cols = len(board[0])\n",
    "        self.board = board\n",
    "        \n",
    "        for row in range(self.rows):\n",
    "            for col in range(self.cols):\n",
    "                if self.backtrack(row,col,word):\n",
    "                    return True\n",
    "    def backtrack(self,row,col,suffix):\n",
    "        if len(suffix) == 0:\n",
    "            return True\n",
    "        \n",
    "        if row<0 or row == self.rows or col< 0 or col == self.cols or self.board[row][col] != suffix[0]:\n",
    "            return False\n",
    "        \n",
    "        ret = False\n",
    "        self.board[row][col] = '#'\n",
    "        for rowOffset, colOffset in [(0,1),(1,0),(0,-1),(-1,0)]:\n",
    "            ret = self.backtrack(row + rowOffset, col + colOffset, suffix[1:])\n",
    "            \n",
    "            if ret:\n",
    "                break\n",
    "        self.board[row][col] = suffix[0]\n",
    "        \n",
    "        return ret"
   ]
  }
 ],
 "metadata": {
  "kernelspec": {
   "display_name": "Python 3",
   "language": "python",
   "name": "python3"
  },
  "language_info": {
   "codemirror_mode": {
    "name": "ipython",
    "version": 3
   },
   "file_extension": ".py",
   "mimetype": "text/x-python",
   "name": "python",
   "nbconvert_exporter": "python",
   "pygments_lexer": "ipython3",
   "version": "3.7.6"
  }
 },
 "nbformat": 4,
 "nbformat_minor": 4
}
