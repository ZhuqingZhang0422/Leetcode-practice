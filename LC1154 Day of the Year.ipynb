{
 "cells": [
  {
   "cell_type": "markdown",
   "metadata": {},
   "source": [
    "### LC1154_Day of the Year\n",
    "Given a string date representing a Gregorian calendar date formatted as YYYY-MM-DD, return the day number of the year.\n",
    "\n",
    "Example 1:\n",
    "\n",
    "Input: date = \"2019-01-09\"\n",
    "Output: 9\n",
    "Explanation: Given date is the 9th day of the year in 2019.\n",
    "Example 2:\n",
    "\n",
    "Input: date = \"2019-02-10\"\n",
    "Output: 41\n",
    "Example 3:\n",
    "\n",
    "Input: date = \"2003-03-01\"\n",
    "Output: 60\n",
    "Example 4:\n",
    "\n",
    "Input: date = \"2004-03-01\"\n",
    "Output: 61\n",
    " \n",
    "\n",
    "Constraints:\n",
    "\n",
    "date.length == 10\n",
    "date[4] == date[7] == '-', and all other date[i]'s are digits\n",
    "date represents a calendar date between Jan 1st, 1900 and Dec 31, 2019."
   ]
  },
  {
   "cell_type": "code",
   "execution_count": null,
   "metadata": {},
   "outputs": [],
   "source": [
    "class Solution:\n",
    "    def dayOfYear(self, date: str) -> int:\n",
    "        dic_d = {}\n",
    "        for i in range (1,13):\n",
    "            dic_d[i] = 30\n",
    "        dic_d[1],dic_d[2], dic_d[3], dic_d[5], dic_d[7],dic_d[8],dic_d[10],dic_d[12] = 31,28,31,31,31,31,31,31\n",
    "        s = date.split(\"-\")\n",
    "        year = int(s[0])\n",
    "        month = int(s[1])\n",
    "        day = int(s[2])\n",
    "        res = 0\n",
    "        for i in range(1,month):\n",
    "            res += dic_d[i]\n",
    "        if year %100 == 0:\n",
    "            if year % 400 == 0 and month > 2:\n",
    "                return res + day + 1\n",
    "            return res + day\n",
    "        if year %4 == 0 and month > 2:\n",
    "            return res + day + 1\n",
    "        else:\n",
    "            return res + day"
   ]
  }
 ],
 "metadata": {
  "kernelspec": {
   "display_name": "Python 3",
   "language": "python",
   "name": "python3"
  },
  "language_info": {
   "codemirror_mode": {
    "name": "ipython",
    "version": 3
   },
   "file_extension": ".py",
   "mimetype": "text/x-python",
   "name": "python",
   "nbconvert_exporter": "python",
   "pygments_lexer": "ipython3",
   "version": "3.8.5"
  }
 },
 "nbformat": 4,
 "nbformat_minor": 4
}
