{
 "cells": [
  {
   "cell_type": "markdown",
   "metadata": {},
   "source": [
    "### LC628_Maximum Product of Three Numbers\n",
    "Given an integer array nums, find three numbers whose product is maximum and return the maximum product.\n",
    "\n",
    "\n",
    "Example 1:\n",
    "Input: nums = [1,2,3]\n",
    "Output: 6\n",
    "\n",
    "Example 2:\n",
    "Input: nums = [1,2,3,4]\n",
    "Output: 24\n",
    "\n",
    "Example 3:\n",
    "Input: nums = [-1,-2,-3]\n",
    "Output: -6"
   ]
  },
  {
   "cell_type": "code",
   "execution_count": null,
   "metadata": {},
   "outputs": [],
   "source": [
    "class Solution:\n",
    "    def maximumProduct(self, nums: List[int]) -> int:\n",
    "        new = sorted (nums)\n",
    "        neg = [x for x in new if x <0 ]\n",
    "        pos = [x for x in new if x >= 0]\n",
    "        m_neg, m_pos, m_2 = -float('inf'),-float('inf'),-float('inf')\n",
    "        if len(neg) >= 3:\n",
    "            m_neg = neg[-1]*neg[-2]*neg[-3]\n",
    "        if len(pos) >= 3:\n",
    "            m_pos = pos[-1]*pos[-2]*pos[-3]\n",
    "        if len(neg) >=2 and len(pos) >= 1:\n",
    "            m_2 = neg[0]*neg[1]*pos[-1]\n",
    "        return max(m_neg,m_pos,m_2)"
   ]
  }
 ],
 "metadata": {
  "kernelspec": {
   "display_name": "Python 3",
   "language": "python",
   "name": "python3"
  },
  "language_info": {
   "codemirror_mode": {
    "name": "ipython",
    "version": 3
   },
   "file_extension": ".py",
   "mimetype": "text/x-python",
   "name": "python",
   "nbconvert_exporter": "python",
   "pygments_lexer": "ipython3",
   "version": "3.7.6"
  }
 },
 "nbformat": 4,
 "nbformat_minor": 4
}
