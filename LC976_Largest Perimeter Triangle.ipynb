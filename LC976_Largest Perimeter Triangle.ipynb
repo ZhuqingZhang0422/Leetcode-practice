{
 "cells": [
  {
   "cell_type": "markdown",
   "metadata": {},
   "source": [
    "### LC976_Largest Perimeter Triangle\n",
    "Given an array A of positive lengths, return the largest perimeter of a triangle with non-zero area, formed from 3 of these lengths.\n",
    "\n",
    "If it is impossible to form any triangle of non-zero area, return 0.\n",
    "\n",
    "\n",
    "Example 1:\n",
    "\n",
    "Input: [2,1,2]\n",
    "Output: 5\n",
    "Example 2:\n",
    "\n",
    "Input: [1,2,1]\n",
    "Output: 0\n",
    "Example 3:\n",
    "\n",
    "Input: [3,2,3,4]\n",
    "Output: 10\n",
    "Example 4:\n",
    "\n",
    "Input: [3,6,2,3]\n",
    "Output: 8"
   ]
  },
  {
   "cell_type": "code",
   "execution_count": null,
   "metadata": {},
   "outputs": [],
   "source": [
    "class Solution:\n",
    "    def largestPerimeter(self, A: List[int]) -> int:\n",
    "        A.sort()\n",
    "        for i in range(len(A) - 3, -1, -1):\n",
    "            if A[i] + A[i+1] > A[i+2]:\n",
    "                return A[i] + A[i+1] + A[i+2]\n",
    "        return 0"
   ]
  }
 ],
 "metadata": {
  "kernelspec": {
   "display_name": "Python 3",
   "language": "python",
   "name": "python3"
  },
  "language_info": {
   "codemirror_mode": {
    "name": "ipython",
    "version": 3
   },
   "file_extension": ".py",
   "mimetype": "text/x-python",
   "name": "python",
   "nbconvert_exporter": "python",
   "pygments_lexer": "ipython3",
   "version": "3.7.6"
  }
 },
 "nbformat": 4,
 "nbformat_minor": 4
}
