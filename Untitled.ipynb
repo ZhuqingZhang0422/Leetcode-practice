{
 "cells": [
  {
   "cell_type": "markdown",
   "metadata": {},
   "source": [
    "### LC416_Partition Equal Subset Sum\n",
    "Given a non-empty array containing only positive integers, find if the array can be partitioned into two subsets such that the sum of elements in both subsets is equal.\n",
    "\n",
    "#### Note:\n",
    "\n",
    "Each of the array element will not exceed 100.\n",
    "The array size will not exceed 200.\n",
    "#### Example 1:\n",
    "\n",
    "Input: [1, 5, 11, 5]\n",
    "\n",
    "Output: true\n",
    "\n",
    "Explanation: The array can be partitioned as [1, 5, 5] and [11].\n",
    "\n",
    "#### Example 2:\n",
    "\n",
    "Input: [1, 2, 3, 5]\n",
    "\n",
    "Output: false\n",
    "\n",
    "Explanation: The array cannot be partitioned into equal sum subsets."
   ]
  },
  {
   "cell_type": "markdown",
   "metadata": {},
   "source": [
    "### Buttom up method"
   ]
  },
  {
   "cell_type": "code",
   "execution_count": null,
   "metadata": {},
   "outputs": [],
   "source": [
    "class Solution(object):\n",
    "    def canPartition(self, nums):\n",
    "        \"\"\"\n",
    "        :type nums: List[int]\n",
    "        :rtype: bool\n",
    "        \"\"\"\n",
    "        n = len(nums)\n",
    "        s = sum(nums) \n",
    "        if s %2 != 0:\n",
    "            return False\n",
    "        \n",
    "        s = int(s/2)\n",
    "        dp = [[-1 for x in range(s+1)] for y in range (n)]\n",
    "        \n",
    "        for i in range (n):\n",
    "            dp[i][0] = 1\n",
    "        \n",
    "        for j in range (1,s+1):\n",
    "            if j == nums[0]:\n",
    "                dp[0][j] = 1\n",
    "        \n",
    "        for i in range (1,n):\n",
    "            for j in range (1,s+1):\n",
    "                if dp[i-1][j] == 1:\n",
    "                    dp[i][j] = 1\n",
    "                elif j >= nums[i]:\n",
    "                    dp[i][j] = dp[i-1][j-nums[i]]\n",
    "        \n",
    "        if dp[n-1][s] == 1:\n",
    "            return True\n",
    "        else:\n",
    "            return False"
   ]
  },
  {
   "cell_type": "markdown",
   "metadata": {},
   "source": [
    "### Modified buttom up method"
   ]
  },
  {
   "cell_type": "code",
   "execution_count": null,
   "metadata": {},
   "outputs": [],
   "source": [
    "class Solution(object):\n",
    "    def canPartition(self, nums):\n",
    "        \"\"\"\n",
    "        :type nums: List[int]\n",
    "        :rtype: bool\n",
    "        \"\"\"\n",
    "        tar = sum(nums)\n",
    "        if tar% 2 != 0:\n",
    "            return False\n",
    "        tar = int(tar/2)\n",
    "        n = len(nums)\n",
    "        \n",
    "        dp = [False for x in range(tar+1)]\n",
    "        dp[0] = True\n",
    "        for s in range(1, tar+1):\n",
    "            dp[s] = nums[0] == s\n",
    "        \n",
    "        for i in range(1, n):\n",
    "            for s in range(tar, -1, -1):\n",
    "                if not dp[s] and s >= nums[i]:\n",
    "                    dp[s] = dp[s - nums[i]]\n",
    "        return dp[-1]"
   ]
  }
 ],
 "metadata": {
  "kernelspec": {
   "display_name": "Python 3",
   "language": "python",
   "name": "python3"
  },
  "language_info": {
   "codemirror_mode": {
    "name": "ipython",
    "version": 3
   },
   "file_extension": ".py",
   "mimetype": "text/x-python",
   "name": "python",
   "nbconvert_exporter": "python",
   "pygments_lexer": "ipython3",
   "version": "3.7.6"
  }
 },
 "nbformat": 4,
 "nbformat_minor": 4
}
