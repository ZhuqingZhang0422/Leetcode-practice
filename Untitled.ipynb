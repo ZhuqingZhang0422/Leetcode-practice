{
 "cells": [
  {
   "cell_type": "markdown",
   "metadata": {},
   "source": [
    "### LC1590_Make Sum Divisible by P\n",
    "Given an array of positive integers nums, remove the smallest subarray (possibly empty) such that the sum of the remaining elements is divisible by p. It is not allowed to remove the whole array.\n",
    "\n",
    "Return the length of the smallest subarray that you need to remove, or -1 if it's impossible.\n",
    "\n",
    "A subarray is defined as a contiguous block of elements in the array.\n",
    "\n",
    "\n",
    "Example 1:\n",
    "Input: nums = [3,1,4,2], p = 6\n",
    "Output: 1\n",
    "Explanation: The sum of the elements in nums is 10, which is not divisible by 6. We can remove the subarray [4], and the sum of the remaining elements is 6, which is divisible by 6.\n",
    "\n",
    "Example 2:\n",
    "Input: nums = [6,3,5,2], p = 9\n",
    "Output: 2\n",
    "Explanation: We cannot remove a single element to get a sum divisible by 9. The best way is to remove the subarray [5,2], leaving us with [6,3] with sum 9.\n",
    "\n",
    "Example 3:\n",
    "Input: nums = [1,2,3], p = 3\n",
    "Output: 0\n",
    "Explanation: Here the sum is 6. which is already divisible by 3. Thus we do not need to remove anything.\n",
    "\n",
    "Example 4:\n",
    "Input: nums = [1,2,3], p = 7\n",
    "Output: -1\n",
    "Explanation: There is no way to remove a subarray in order to get a sum divisible by 7.\n",
    "\n",
    "Example 5:\n",
    "Input: nums = [1000000000,1000000000,1000000000], p = 3\n",
    "Output: 0"
   ]
  },
  {
   "cell_type": "code",
   "execution_count": null,
   "metadata": {},
   "outputs": [],
   "source": []
  }
 ],
 "metadata": {
  "kernelspec": {
   "display_name": "Python 3",
   "language": "python",
   "name": "python3"
  },
  "language_info": {
   "codemirror_mode": {
    "name": "ipython",
    "version": 3
   },
   "file_extension": ".py",
   "mimetype": "text/x-python",
   "name": "python",
   "nbconvert_exporter": "python",
   "pygments_lexer": "ipython3",
   "version": "3.8.5"
  }
 },
 "nbformat": 4,
 "nbformat_minor": 4
}
