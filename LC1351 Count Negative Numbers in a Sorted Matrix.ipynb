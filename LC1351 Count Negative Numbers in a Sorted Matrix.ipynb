{
 "cells": [
  {
   "cell_type": "markdown",
   "metadata": {},
   "source": [
    "### LC1351_Count Negative Numbers in a Sorted Matrix\n",
    "Given a m x n matrix grid which is sorted in non-increasing order both row-wise and column-wise, return the number of negative numbers in grid.\n",
    "\n",
    "\n",
    "Example 1:\n",
    "Input: grid = [[4,3,2,-1],[3,2,1,-1],[1,1,-1,-2],[-1,-1,-2,-3]]\n",
    "Output: 8\n",
    "Explanation: There are 8 negatives number in the matrix.\n",
    "\n",
    "Example 2:\n",
    "Input: grid = [[3,2],[1,0]]\n",
    "Output: 0\n",
    "\n",
    "Example 3:\n",
    "Input: grid = [[1,-1],[-1,-1]]\n",
    "Output: 3\n",
    "\n",
    "Example 4:\n",
    "Input: grid = [[-1]]\n",
    "Output: 1"
   ]
  },
  {
   "cell_type": "code",
   "execution_count": null,
   "metadata": {},
   "outputs": [],
   "source": [
    "class Solution:\n",
    "    def countNegatives(self, grid: List[List[int]]) -> int:\n",
    "        n = len(grid)\n",
    "        m = len(grid[0])\n",
    "        res = 0\n",
    "        col = m\n",
    "        for i in range (n):\n",
    "            for j in range(col):\n",
    "                if grid[i][j] <0:\n",
    "                    res += col - j + (col-j) * (n-i-1)\n",
    "                    col = j\n",
    "                    break\n",
    "        return res"
   ]
  },
  {
   "cell_type": "code",
   "execution_count": null,
   "metadata": {},
   "outputs": [],
   "source": [
    "class Solution(object):\n",
    "    def countNegatives(self, grid):\n",
    "        output= 0\n",
    "        for numbers in grid:\n",
    "            for x in numbers:\n",
    "                if x < 0:\n",
    "                    output+=1\n",
    "                else:\n",
    "                    continue\n",
    "        return output"
   ]
  }
 ],
 "metadata": {
  "kernelspec": {
   "display_name": "Python 3",
   "language": "python",
   "name": "python3"
  },
  "language_info": {
   "codemirror_mode": {
    "name": "ipython",
    "version": 3
   },
   "file_extension": ".py",
   "mimetype": "text/x-python",
   "name": "python",
   "nbconvert_exporter": "python",
   "pygments_lexer": "ipython3",
   "version": "3.8.5"
  }
 },
 "nbformat": 4,
 "nbformat_minor": 4
}
