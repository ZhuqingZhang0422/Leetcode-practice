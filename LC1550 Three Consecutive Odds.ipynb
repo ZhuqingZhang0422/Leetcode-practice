{
 "cells": [
  {
   "cell_type": "markdown",
   "metadata": {},
   "source": [
    "### LC1550_Three Consecutive Odds\n",
    "Given an integer array arr, return true if there are three consecutive odd numbers in the array. Otherwise, return false.\n",
    " \n",
    "\n",
    "Example 1:\n",
    "Input: arr = [2,6,4,1]\n",
    "Output: false\n",
    "Explanation: There are no three consecutive odds.\n",
    "\n",
    "Example 2:\n",
    "Input: arr = [1,2,34,3,4,5,7,23,12]\n",
    "Output: true\n",
    "Explanation: [5,7,23] are three consecutive odds."
   ]
  },
  {
   "cell_type": "code",
   "execution_count": null,
   "metadata": {},
   "outputs": [],
   "source": [
    "class Solution:\n",
    "    def threeConsecutiveOdds(self, arr: List[int]) -> bool:\n",
    "        j = 0\n",
    "        for i in range(len(arr)):\n",
    "            if arr[i] % 2 == 1:\n",
    "                dis = i - j + 1\n",
    "                if dis == 3:\n",
    "                    return True\n",
    "            else:\n",
    "                j = i + 1\n",
    "        return False"
   ]
  }
 ],
 "metadata": {
  "kernelspec": {
   "display_name": "Python 3",
   "language": "python",
   "name": "python3"
  },
  "language_info": {
   "codemirror_mode": {
    "name": "ipython",
    "version": 3
   },
   "file_extension": ".py",
   "mimetype": "text/x-python",
   "name": "python",
   "nbconvert_exporter": "python",
   "pygments_lexer": "ipython3",
   "version": "3.7.6"
  }
 },
 "nbformat": 4,
 "nbformat_minor": 4
}
