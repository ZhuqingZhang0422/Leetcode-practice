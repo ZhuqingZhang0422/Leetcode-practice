{
 "cells": [
  {
   "cell_type": "markdown",
   "metadata": {},
   "source": [
    "### LC1086_High Five\n",
    "Given a list of scores of different students, return the average score of each student's top five scores in the order of each student's id.\n",
    "\n",
    "Each entry items[i] has items[i][0] the student's id, and items[i][1] the student's score.  The average score is calculated using integer division.\n",
    "\n",
    " \n",
    "\n",
    "Example 1:\n",
    "\n",
    "Input: [[1,91],[1,92],[2,93],[2,97],[1,60],[2,77],[1,65],[1,87],[1,100],[2,100],[2,76]]\n",
    "Output: [[1,87],[2,88]]\n",
    "Explanation: \n",
    "The average of the student with id = 1 is 87.\n",
    "The average of the student with id = 2 is 88.6. But with integer division their average converts to 88."
   ]
  },
  {
   "cell_type": "code",
   "execution_count": null,
   "metadata": {},
   "outputs": [],
   "source": [
    "from heapq import *\n",
    "class Solution(object):\n",
    "    def highFive(self, items):\n",
    "        \"\"\"\n",
    "        :type items: List[List[int]]\n",
    "        :rtype: List[List[int]]\n",
    "        \"\"\"\n",
    "        grade = defaultdict(list)\n",
    "        for item in items:\n",
    "            heappush(grade[item[0]],item[1])\n",
    "            while len(grade[item[0]])>5:\n",
    "                heappop(grade[item[0]])\n",
    "        res = []\n",
    "        for item in grade:\n",
    "            res.append([item,sum(grade[item])/5])\n",
    "        return res"
   ]
  }
 ],
 "metadata": {
  "kernelspec": {
   "display_name": "Python 3",
   "language": "python",
   "name": "python3"
  },
  "language_info": {
   "codemirror_mode": {
    "name": "ipython",
    "version": 3
   },
   "file_extension": ".py",
   "mimetype": "text/x-python",
   "name": "python",
   "nbconvert_exporter": "python",
   "pygments_lexer": "ipython3",
   "version": "3.7.6"
  }
 },
 "nbformat": 4,
 "nbformat_minor": 4
}
