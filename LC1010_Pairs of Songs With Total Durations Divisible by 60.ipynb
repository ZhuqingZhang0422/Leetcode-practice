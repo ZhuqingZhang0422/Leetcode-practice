{
 "cells": [
  {
   "cell_type": "markdown",
   "metadata": {},
   "source": [
    "### LC1010_Pairs of Songs With Total Durations Divisible by 60\n",
    "In a list of songs, the i-th song has a duration of time[i] seconds. \n",
    "Return the number of pairs of songs for which their total duration in seconds is divisible by 60.  Formally, we want the number of indices i, j such that i < j with (time[i] + time[j]) % 60 == 0."
   ]
  },
  {
   "cell_type": "code",
   "execution_count": null,
   "metadata": {},
   "outputs": [],
   "source": [
    "class Solution:\n",
    "    def numPairsDivisibleBy60(self, time: List[int]) -> int:\n",
    "        time_d = {}\n",
    "        ans = 0\n",
    "        for num in time:\n",
    "            res = num% 60\n",
    "            time_d[res] = time_d.get(res,0) + 1\n",
    "        \n",
    "        print(time_d)\n",
    "        \n",
    "        for char in time_d:\n",
    "            if (char == 30 and time_d[char] > 1) or char == 0:\n",
    "                ans += int(time_d[char]* (time_d[char]-1)/2)\n",
    "               \n",
    "            elif char != 30 and (60 - char) in time_d:\n",
    "                ans += time_d[char] * time_d[60-char]\n",
    "                time_d[60-char] = 0\n",
    "                \n",
    "        return ans"
   ]
  }
 ],
 "metadata": {
  "kernelspec": {
   "display_name": "Python 3",
   "language": "python",
   "name": "python3"
  },
  "language_info": {
   "codemirror_mode": {
    "name": "ipython",
    "version": 3
   },
   "file_extension": ".py",
   "mimetype": "text/x-python",
   "name": "python",
   "nbconvert_exporter": "python",
   "pygments_lexer": "ipython3",
   "version": "3.7.6"
  }
 },
 "nbformat": 4,
 "nbformat_minor": 4
}
