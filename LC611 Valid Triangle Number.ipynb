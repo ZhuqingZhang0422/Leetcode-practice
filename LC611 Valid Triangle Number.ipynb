{
 "cells": [
  {
   "cell_type": "markdown",
   "metadata": {},
   "source": [
    "### LC611_Valid Triangle Number\n",
    "Given an array consists of non-negative integers, your task is to count the number of triplets chosen from the array that can make triangles if we take them as side lengths of a triangle.\n",
    "Example 1:\n",
    "Input: [2,2,3,4]\n",
    "Output: 3\n",
    "Explanation:\n",
    "Valid combinations are: \n",
    "2,3,4 (using the first 2)\n",
    "2,3,4 (using the second 2)\n",
    "2,2,3\n",
    "Note:\n",
    "The length of the given array won't exceed 1000.\n",
    "The integers in the given array are in the range of [0, 1000].\n"
   ]
  },
  {
   "cell_type": "markdown",
   "metadata": {},
   "source": [
    "class Solution:\n",
    "    def triangleNumber(self, nums: List[int]) -> int:\n",
    "        nums.sort()\n",
    "        i = 0\n",
    "        res = 0\n",
    "        for i in range(len(nums)-2):\n",
    "            left = i + 1\n",
    "            while left < len(nums) -1:\n",
    "                right = len(nums) -1\n",
    "                while left <= right:\n",
    "                    if nums[i] + nums[left] <= nums[right]:\n",
    "                        right -= 1\n",
    "                    else:\n",
    "                        res += right - left\n",
    "                        break\n",
    "                left += 1\n",
    "        return res"
   ]
  },
  {
   "cell_type": "code",
   "execution_count": null,
   "metadata": {},
   "outputs": [],
   "source": [
    "# With binary search\n",
    "class Solution:\n",
    "    def triangleNumber(self, nums: List[int]) -> int:\n",
    "        nums.sort()\n",
    "        i = 0\n",
    "        res = 0\n",
    "        for i in range(len(nums)-2):\n",
    "            for j in range(i+1,len(nums)-1):\n",
    "                third = bisect_left(nums[j+1:len(nums)],nums[i]+nums[j])\n",
    "                res += third\n",
    "        return res"
   ]
  },
  {
   "cell_type": "code",
   "execution_count": null,
   "metadata": {},
   "outputs": [],
   "source": []
  }
 ],
 "metadata": {
  "kernelspec": {
   "display_name": "Python 3",
   "language": "python",
   "name": "python3"
  },
  "language_info": {
   "codemirror_mode": {
    "name": "ipython",
    "version": 3
   },
   "file_extension": ".py",
   "mimetype": "text/x-python",
   "name": "python",
   "nbconvert_exporter": "python",
   "pygments_lexer": "ipython3",
   "version": "3.8.5"
  }
 },
 "nbformat": 4,
 "nbformat_minor": 4
}
