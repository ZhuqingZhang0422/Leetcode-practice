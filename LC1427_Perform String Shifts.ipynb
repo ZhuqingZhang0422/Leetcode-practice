{
 "cells": [
  {
   "cell_type": "markdown",
   "metadata": {},
   "source": [
    "### LC1427_Perform String Shifts\n",
    "You are given a string s containing lowercase English letters, and a matrix shift, where shift[i] = [direction, amount]:\n",
    "\n",
    "direction can be 0 (for left shift) or 1 (for right shift). \n",
    "amount is the amount by which string s is to be shifted.\n",
    "A left shift by 1 means remove the first character of s and append it to the end.\n",
    "Similarly, a right shift by 1 means remove the last character of s and add it to the beginning.\n",
    "Return the final string after all operations.\n",
    "\n",
    "Example 1:\n",
    "\n",
    "Input: s = \"abc\", shift = [[0,1],[1,2]]\n",
    "Output: \"cab\"\n",
    "Explanation: \n",
    "[0,1] means shift to left by 1. \"abc\" -> \"bca\"\n",
    "[1,2] means shift to right by 2. \"bca\" -> \"cab\"\n",
    "Example 2:\n",
    "\n",
    "Input: s = \"abcdefg\", shift = [[1,1],[1,1],[0,2],[1,3]]\n",
    "Output: \"efgabcd\"\n",
    "Explanation:  \n",
    "[1,1] means shift to right by 1. \"abcdefg\" -> \"gabcdef\"\n",
    "[1,1] means shift to right by 1. \"gabcdef\" -> \"fgabcde\"\n",
    "[0,2] means shift to left by 2. \"fgabcde\" -> \"abcdefg\"\n",
    "[1,3] means shift to right by 3. \"abcdefg\" -> \"efgabcd\""
   ]
  },
  {
   "cell_type": "code",
   "execution_count": null,
   "metadata": {},
   "outputs": [],
   "source": [
    "class Solution:\n",
    "    def stringShift(self, s: str, shift: List[List[int]]) -> str:\n",
    "        for tran in shift:\n",
    "            if tran[0] == 1:\n",
    "                shift_dis = tran[1] % len(s)\n",
    "                s = s[-shift_dis:] + s[:-shift_dis]\n",
    "            if tran[0] == 0:\n",
    "                shift_dis = tran[1] % len(s)\n",
    "                s = s[shift_dis:] + s[:shift_dis]\n",
    "        return s"
   ]
  }
 ],
 "metadata": {
  "kernelspec": {
   "display_name": "Python 3",
   "language": "python",
   "name": "python3"
  },
  "language_info": {
   "codemirror_mode": {
    "name": "ipython",
    "version": 3
   },
   "file_extension": ".py",
   "mimetype": "text/x-python",
   "name": "python",
   "nbconvert_exporter": "python",
   "pygments_lexer": "ipython3",
   "version": "3.7.6"
  }
 },
 "nbformat": 4,
 "nbformat_minor": 4
}
