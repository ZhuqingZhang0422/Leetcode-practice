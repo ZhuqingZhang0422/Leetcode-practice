{
 "cells": [
  {
   "cell_type": "markdown",
   "metadata": {},
   "source": [
    "### LC101_Symmetric Tree\n",
    "Given the root of a binary tree, check whether it is a mirror of itself (i.e., symmetric around its center).\n",
    "\n",
    " \n",
    "\n",
    "Example 1:\n",
    "Input: root = [1,2,2,3,4,4,3]\n",
    "Output: true\n",
    "\n",
    "Example 2:\n",
    "Input: root = [1,2,2,null,3,null,3]\n",
    "Output: false\n",
    " \n",
    "\n",
    "Constraints:\n",
    "The number of nodes in the tree is in the range [1, 1000].\n",
    "-100 <= Node.val <= 100\n",
    "Follow up: Could you solve it both recursively and iteratively?"
   ]
  },
  {
   "cell_type": "code",
   "execution_count": null,
   "metadata": {},
   "outputs": [],
   "source": [
    "# Definition for a binary tree node.\n",
    "# class TreeNode:\n",
    "#     def __init__(self, val=0, left=None, right=None):\n",
    "#         self.val = val\n",
    "#         self.left = left\n",
    "#         self.right = right\n",
    "class Solution:\n",
    "    def isSymmetric(self, root: TreeNode) -> bool:\n",
    "        new = self.helper(root)\n",
    "        return self.check(root,new)\n",
    "    \n",
    "    def helper(self,root):\n",
    "        if root == None:\n",
    "            return root\n",
    "        else:\n",
    "            new = TreeNode(root.val)\n",
    "            new.left, new.right = self.helper(root.right), self.helper(root.left)\n",
    "            return new\n",
    "    \n",
    "    def check(self,root,new):\n",
    "        if not root and not new:\n",
    "            return True\n",
    "        \n",
    "        if root == None or new == None:\n",
    "            return False\n",
    "        \n",
    "        if root.val != new.val:\n",
    "            return False\n",
    "        else:\n",
    "            return self.check(root.left,new.left) and self.check(root.right,new.right)"
   ]
  }
 ],
 "metadata": {
  "kernelspec": {
   "display_name": "Python 3",
   "language": "python",
   "name": "python3"
  },
  "language_info": {
   "codemirror_mode": {
    "name": "ipython",
    "version": 3
   },
   "file_extension": ".py",
   "mimetype": "text/x-python",
   "name": "python",
   "nbconvert_exporter": "python",
   "pygments_lexer": "ipython3",
   "version": "3.8.5"
  }
 },
 "nbformat": 4,
 "nbformat_minor": 4
}
