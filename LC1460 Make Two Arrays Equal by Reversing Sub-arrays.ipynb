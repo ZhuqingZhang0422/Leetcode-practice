{
 "cells": [
  {
   "cell_type": "code",
   "execution_count": null,
   "metadata": {},
   "outputs": [],
   "source": [
    "### LC1460_Make Two Arrays Equal by Reversing Sub-arrays\n",
    "Easy\n",
    "\n",
    "345\n",
    "\n",
    "75\n",
    "\n",
    "Add to List\n",
    "\n",
    "Share\n",
    "Given two integer arrays of equal length target and arr.\n",
    "\n",
    "In one step, you can select any non-empty sub-array of arr and reverse it. You are allowed to make any number of steps.\n",
    "\n",
    "Return True if you can make arr equal to target, or False otherwise.\n",
    "\n",
    " \n",
    "\n",
    "Example 1:\n",
    "\n",
    "Input: target = [1,2,3,4], arr = [2,4,1,3]\n",
    "Output: true\n",
    "Explanation: You can follow the next steps to convert arr to target:\n",
    "1- Reverse sub-array [2,4,1], arr becomes [1,4,2,3]\n",
    "2- Reverse sub-array [4,2], arr becomes [1,2,4,3]\n",
    "3- Reverse sub-array [4,3], arr becomes [1,2,3,4]\n",
    "There are multiple ways to convert arr to target, this is not the only way to do so.\n",
    "Example 2:\n",
    "\n",
    "Input: target = [7], arr = [7]\n",
    "Output: true\n",
    "Explanation: arr is equal to target without any reverses.\n",
    "Example 3:\n",
    "\n",
    "Input: target = [1,12], arr = [12,1]\n",
    "Output: true\n",
    "Example 4:\n",
    "\n",
    "Input: target = [3,7,9], arr = [3,7,11]\n",
    "Output: false\n",
    "Explanation: arr doesn't have value 9 and it can never be converted to target.\n",
    "Example 5:\n",
    "\n",
    "Input: target = [1,1,1,1,1], arr = [1,1,1,1,1]\n",
    "Output: true\n",
    " \n",
    "\n",
    "Constraints:\n",
    "\n",
    "target.length == arr.length\n",
    "1 <= target.length <= 1000\n",
    "1 <= target[i] <= 1000\n",
    "1 <= arr[i] <= 1000"
   ]
  },
  {
   "cell_type": "code",
   "execution_count": null,
   "metadata": {},
   "outputs": [],
   "source": [
    "class Solution:\n",
    "    def canBeEqual(self, target: List[int], arr: List[int]) -> bool:\n",
    "        tar_dic = Counter(target)\n",
    "        acc_dic = Counter(arr)\n",
    "        return tar_dic == acc_dic"
   ]
  }
 ],
 "metadata": {
  "kernelspec": {
   "display_name": "Python 3",
   "language": "python",
   "name": "python3"
  },
  "language_info": {
   "codemirror_mode": {
    "name": "ipython",
    "version": 3
   },
   "file_extension": ".py",
   "mimetype": "text/x-python",
   "name": "python",
   "nbconvert_exporter": "python",
   "pygments_lexer": "ipython3",
   "version": "3.8.5"
  }
 },
 "nbformat": 4,
 "nbformat_minor": 4
}
