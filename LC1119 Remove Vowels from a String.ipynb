{
 "cells": [
  {
   "cell_type": "markdown",
   "metadata": {},
   "source": [
    "### LC1119_Remove Vowels from a String\n",
    "Given a string s, remove the vowels 'a', 'e', 'i', 'o', and 'u' from it, and return the new string.\n",
    "\n",
    "Example 1:\n",
    "\n",
    "Input: s = \"leetcodeisacommunityforcoders\"\n",
    "Output: \"ltcdscmmntyfrcdrs\"\n",
    "Example 2:\n",
    "\n",
    "Input: s = \"aeiou\"\n",
    "Output: \"\"\n",
    " \n",
    "Constraints:\n",
    "\n",
    "1 <= s.length <= 1000\n",
    "s consists of only lowercase English letters.\n"
   ]
  },
  {
   "cell_type": "code",
   "execution_count": null,
   "metadata": {},
   "outputs": [],
   "source": [
    "class Solution:\n",
    "    def removeVowels(self, s: str) -> str:\n",
    "        vow = \"aeiou\"\n",
    "        dic_v = Counter(vow)\n",
    "        res = \"\"\n",
    "        for char in s:\n",
    "            if char not in dic_v:\n",
    "                res += char\n",
    "        return res"
   ]
  },
  {
   "cell_type": "code",
   "execution_count": null,
   "metadata": {},
   "outputs": [],
   "source": [
    "class Solution:\n",
    "    def removeVowels(self, s: str) -> str:\n",
    "        vow = \"aeiou\"\n",
    "        dic_v = Counter(vow)\n",
    "        res = \"\"\n",
    "        for char in s:\n",
    "            if char not in dic_v:\n",
    "                res += char\n",
    "        return res"
   ]
  }
 ],
 "metadata": {
  "kernelspec": {
   "display_name": "Python 3",
   "language": "python",
   "name": "python3"
  },
  "language_info": {
   "codemirror_mode": {
    "name": "ipython",
    "version": 3
   },
   "file_extension": ".py",
   "mimetype": "text/x-python",
   "name": "python",
   "nbconvert_exporter": "python",
   "pygments_lexer": "ipython3",
   "version": "3.7.6"
  }
 },
 "nbformat": 4,
 "nbformat_minor": 4
}
