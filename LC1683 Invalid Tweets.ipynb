{
 "cells": [
  {
   "cell_type": "markdown",
   "metadata": {},
   "source": [
    "### LC1683_Invalid Tweets\n",
    "SQL Schema\n",
    "Table: Tweets\n",
    "\n",
    "    +----------------+---------+\n",
    "    | Column Name    | Type    |\n",
    "    +----------------+---------+\n",
    "    | tweet_id       | int     |\n",
    "    | content        | varchar |\n",
    "    +----------------+---------+\n",
    "\n",
    "\n",
    "tweet_id is the primary key for this table.\n",
    "This table contains all the tweets in a social media app.\n",
    " \n",
    "\n",
    "Write an SQL query to find the IDs of the invalid tweets. The tweet is invalid if the number of characters used in the content of the tweet is strictly greater than 15.\n",
    "\n",
    "Return the result table in any order.\n",
    "\n",
    "The query result format is in the following example:\n",
    "\n",
    " \n",
    "\n",
    "Tweets table:\n",
    "    \n",
    "    +----------+----------------------------------+\n",
    "    | tweet_id | content                          |\n",
    "    +----------+----------------------------------+\n",
    "    | 1        | Vote for Biden                   |\n",
    "    | 2        | Let us make America great again! |\n",
    "    +----------+----------------------------------+\n",
    "\n",
    "Result table:\n",
    "\n",
    "    +----------+\n",
    "    | tweet_id |\n",
    "    +----------+\n",
    "    | 2        |\n",
    "    +----------+\n",
    "    \n",
    "Tweet 1 has length = 14. It is a valid tweet.\n",
    "Tweet 2 has length = 32. It is an invalid tweet."
   ]
  },
  {
   "cell_type": "code",
   "execution_count": null,
   "metadata": {},
   "outputs": [],
   "source": [
    "# Write your MySQL query statement below\n",
    "SELECT tweet_id FROM Tweets WHERE LENGTH(content) > 15;"
   ]
  }
 ],
 "metadata": {
  "kernelspec": {
   "display_name": "Python 3",
   "language": "python",
   "name": "python3"
  },
  "language_info": {
   "codemirror_mode": {
    "name": "ipython",
    "version": 3
   },
   "file_extension": ".py",
   "mimetype": "text/x-python",
   "name": "python",
   "nbconvert_exporter": "python",
   "pygments_lexer": "ipython3",
   "version": "3.8.5"
  }
 },
 "nbformat": 4,
 "nbformat_minor": 4
}
