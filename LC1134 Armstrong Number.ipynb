{
 "cells": [
  {
   "cell_type": "markdown",
   "metadata": {},
   "source": [
    "### LC1134_Armstrong Number\n",
    "The k-digit number N is an Armstrong number if and only if the k-th power of each digit sums to N.\n",
    "\n",
    "Given a positive integer N, return true if and only if it is an Armstrong number.\n",
    "\n",
    "Example 1:\n",
    "Input: 153\n",
    "Output: true\n",
    "Explanation: \n",
    "153 is a 3-digit number, and 153 = 1^3 + 5^3 + 3^3.\n",
    "\n",
    "Example 2:\n",
    "Input: 123\n",
    "Output: false\n",
    "Explanation: \n",
    "123 is a 3-digit number, and 123 != 1^3 + 2^3 + 3^3 = 36.\n",
    "\n",
    "Note:\n",
    "1 <= N <= 10^8"
   ]
  },
  {
   "cell_type": "code",
   "execution_count": null,
   "metadata": {},
   "outputs": [],
   "source": [
    "class Solution:\n",
    "    def isArmstrong(self, N: int) -> bool:\n",
    "        res = 0\n",
    "        k = len(str(N))\n",
    "        for char in str(N):\n",
    "            res += int(char)**k\n",
    "        return res == N"
   ]
  }
 ],
 "metadata": {
  "kernelspec": {
   "display_name": "Python 3",
   "language": "python",
   "name": "python3"
  },
  "language_info": {
   "codemirror_mode": {
    "name": "ipython",
    "version": 3
   },
   "file_extension": ".py",
   "mimetype": "text/x-python",
   "name": "python",
   "nbconvert_exporter": "python",
   "pygments_lexer": "ipython3",
   "version": "3.8.5"
  }
 },
 "nbformat": 4,
 "nbformat_minor": 4
}
