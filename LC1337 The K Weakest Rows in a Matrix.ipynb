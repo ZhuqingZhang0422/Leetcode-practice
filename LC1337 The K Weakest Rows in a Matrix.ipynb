{
 "cells": [
  {
   "cell_type": "markdown",
   "metadata": {},
   "source": [
    "### LC1337_The K Weakest Rows in a Matrix\n",
    "\n",
    "You are given an m x n binary matrix mat of 1's (representing soldiers) and 0's (representing civilians). The soldiers are positioned in front of the civilians. That is, all the 1's will appear to the left of all the 0's in each row.\n",
    "\n",
    "A row i is weaker than a row j if one of the following is true:\n",
    "\n",
    "The number of soldiers in row i is less than the number of soldiers in row j.\n",
    "Both rows have the same number of soldiers and i < j.\n",
    "Return the indices of the k weakest rows in the matrix ordered from weakest to strongest.\n",
    "\n",
    " \n",
    "\n",
    "Example 1:\n",
    "\n",
    "Input: mat = \n",
    "[[1,1,0,0,0],\n",
    " [1,1,1,1,0],\n",
    " [1,0,0,0,0],\n",
    " [1,1,0,0,0],\n",
    " [1,1,1,1,1]], \n",
    "k = 3\n",
    "Output: [2,0,3]\n",
    "Explanation: \n",
    "The number of soldiers in each row is: \n",
    "- Row 0: 2 \n",
    "- Row 1: 4 \n",
    "- Row 2: 1 \n",
    "- Row 3: 2 \n",
    "- Row 4: 5 \n",
    "The rows ordered from weakest to strongest are [2,0,3,1,4].\n",
    "Example 2:\n",
    "\n",
    "Input: mat = \n",
    "[[1,0,0,0],\n",
    " [1,1,1,1],\n",
    " [1,0,0,0],\n",
    " [1,0,0,0]], \n",
    "k = 2\n",
    "Output: [0,2]\n",
    "Explanation: \n",
    "The number of soldiers in each row is: \n",
    "- Row 0: 1 \n",
    "- Row 1: 4 \n",
    "- Row 2: 1 \n",
    "- Row 3: 1 \n",
    "The rows ordered from weakest to strongest are [0,2,3,1].\n",
    " \n",
    "\n",
    "Constraints:\n",
    "\n",
    "m == mat.length\n",
    "n == mat[i].length\n",
    "2 <= n, m <= 100\n",
    "1 <= k <= m\n",
    "matrix[i][j] is either 0 or 1."
   ]
  },
  {
   "cell_type": "code",
   "execution_count": null,
   "metadata": {},
   "outputs": [],
   "source": [
    "class Solution:\n",
    "    def kWeakestRows(self, mat: List[List[int]], k: int) -> List[int]:\n",
    "        res = [(ind,sum(x)) for ind, x in enumerate (mat)]\n",
    "        def func(x):\n",
    "            return (x[1],x[0])\n",
    "        res.sort(key = lambda x:func(x))\n",
    "        return [res[i][0] for i in range(k)]"
   ]
  }
 ],
 "metadata": {
  "kernelspec": {
   "display_name": "Python 3",
   "language": "python",
   "name": "python3"
  },
  "language_info": {
   "codemirror_mode": {
    "name": "ipython",
    "version": 3
   },
   "file_extension": ".py",
   "mimetype": "text/x-python",
   "name": "python",
   "nbconvert_exporter": "python",
   "pygments_lexer": "ipython3",
   "version": "3.8.5"
  }
 },
 "nbformat": 4,
 "nbformat_minor": 4
}
