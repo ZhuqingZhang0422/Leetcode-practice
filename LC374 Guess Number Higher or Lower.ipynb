{
 "cells": [
  {
   "cell_type": "markdown",
   "metadata": {},
   "source": [
    "### LC374_Guess Number Higher or Lower\n",
    "We are playing the Guess Game. The game is as follows:\n",
    "\n",
    "I pick a number from 1 to n. You have to guess which number I picked.\n",
    "\n",
    "Every time you guess wrong, I will tell you whether the number I picked is higher or lower than your guess.\n",
    "\n",
    "You call a pre-defined API int guess(int num), which returns 3 possible results:\n",
    "\n",
    "-1: The number I picked is lower than your guess (i.e. pick < num).\n",
    "1: The number I picked is higher than your guess (i.e. pick > num).\n",
    "0: The number I picked is equal to your guess (i.e. pick == num).\n",
    "Return the number that I picked.\n",
    "\n",
    " \n",
    "\n",
    "Example 1:\n",
    "\n",
    "Input: n = 10, pick = 6\n",
    "Output: 6\n",
    "Example 2:\n",
    "\n",
    "Input: n = 1, pick = 1\n",
    "Output: 1\n",
    "Example 3:\n",
    "\n",
    "Input: n = 2, pick = 1\n",
    "Output: 1\n",
    "Example 4:\n",
    "\n",
    "Input: n = 2, pick = 2\n",
    "Output: 2\n",
    " \n",
    "\n",
    "Constraints:\n",
    "\n",
    "1 <= n <= 231 - 1\n",
    "1 <= pick <= n\n"
   ]
  },
  {
   "cell_type": "code",
   "execution_count": null,
   "metadata": {},
   "outputs": [],
   "source": [
    "# The guess API is already defined for you.\n",
    "# @param num, your guess\n",
    "# @return -1 if my number is lower, 1 if my number is higher, otherwise return 0\n",
    "# def guess(num: int) -> int:\n",
    "\n",
    "class Solution:\n",
    "    def guessNumber(self, n: int) -> int:\n",
    "        left = 0\n",
    "        right = n\n",
    "        while left <= right:\n",
    "            mid = (left + right)//2\n",
    "            if guess(mid) == -1:\n",
    "                right = mid -1\n",
    "            elif guess(mid) == 1:\n",
    "                left = mid + 1\n",
    "            else:\n",
    "                return mid"
   ]
  }
 ],
 "metadata": {
  "kernelspec": {
   "display_name": "Python 3",
   "language": "python",
   "name": "python3"
  },
  "language_info": {
   "codemirror_mode": {
    "name": "ipython",
    "version": 3
   },
   "file_extension": ".py",
   "mimetype": "text/x-python",
   "name": "python",
   "nbconvert_exporter": "python",
   "pygments_lexer": "ipython3",
   "version": "3.8.5"
  }
 },
 "nbformat": 4,
 "nbformat_minor": 4
}
