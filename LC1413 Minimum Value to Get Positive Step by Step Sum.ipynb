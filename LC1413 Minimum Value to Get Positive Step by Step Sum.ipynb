{
 "cells": [
  {
   "cell_type": "markdown",
   "metadata": {},
   "source": [
    "### LC1413_Minimum Value to Get Positive Step by Step Sum\n",
    "Given an array of integers nums, you start with an initial positive value startValue.\n",
    "\n",
    "In each iteration, you calculate the step by step sum of startValue plus elements in nums (from left to right).\n",
    "\n",
    "Return the minimum positive value of startValue such that the step by step sum is never less than 1.\n",
    "\n",
    " \n",
    "\n",
    "Example 1:\n",
    "\n",
    "Input: nums = [-3,2,-3,4,2]\n",
    "Output: 5\n",
    "Explanation: If you choose startValue = 4, in the third iteration your step by step sum is less than 1.\n",
    "                step by step sum\n",
    "                startValue = 4 | startValue = 5 | nums\n",
    "                  (4 -3 ) = 1  | (5 -3 ) = 2    |  -3\n",
    "                  (1 +2 ) = 3  | (2 +2 ) = 4    |   2\n",
    "                  (3 -3 ) = 0  | (4 -3 ) = 1    |  -3\n",
    "                  (0 +4 ) = 4  | (1 +4 ) = 5    |   4\n",
    "                  (4 +2 ) = 6  | (5 +2 ) = 7    |   2\n",
    "Example 2:\n",
    "\n",
    "Input: nums = [1,2]\n",
    "Output: 1\n",
    "Explanation: Minimum start value should be positive. \n",
    "Example 3:\n",
    "\n",
    "Input: nums = [1,-2,-3]\n",
    "Output: 5"
   ]
  },
  {
   "cell_type": "code",
   "execution_count": null,
   "metadata": {},
   "outputs": [],
   "source": [
    "class Solution:\n",
    "    def minStartValue(self, nums: List[int]) -> int:\n",
    "        m = float('inf')\n",
    "        s = 0\n",
    "        for i in nums:\n",
    "            s += i\n",
    "            m = min(s,m)\n",
    "        if m >=0:\n",
    "            return 1\n",
    "        else:\n",
    "            return 1 - m"
   ]
  }
 ],
 "metadata": {
  "kernelspec": {
   "display_name": "Python 3",
   "language": "python",
   "name": "python3"
  },
  "language_info": {
   "codemirror_mode": {
    "name": "ipython",
    "version": 3
   },
   "file_extension": ".py",
   "mimetype": "text/x-python",
   "name": "python",
   "nbconvert_exporter": "python",
   "pygments_lexer": "ipython3",
   "version": "3.8.5"
  }
 },
 "nbformat": 4,
 "nbformat_minor": 4
}
