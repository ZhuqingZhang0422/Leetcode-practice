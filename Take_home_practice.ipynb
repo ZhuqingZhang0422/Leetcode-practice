{
 "cells": [
  {
   "cell_type": "markdown",
   "metadata": {},
   "source": [
    "\n",
    "## Creat a program that manages disjointed intervals of integers by implementing two functions:\n",
    "1. Add (from, to) ---> Insert intervals to the stack\n",
    "<br>\n",
    "2. Remove (from, to) ---> Remove intervals from the stack\n",
    "* Example: \n",
    "<br>\n",
    "* Start: []\n",
    "<br>\n",
    "* Call: add(1, 5) => [[1, 5]]\n",
    "<br>\n",
    "* Call: remove(2, 3) => [[1, 2], [3, 5]]\n",
    "<br>\n",
    "* Call: add(6, 8) => [[1, 2], [3, 5], [6, 8]] \n",
    "<br>\n",
    "* Call: remove(4, 7) => [[1, 2], [3, 4], [7, 8]] \n",
    "<br>\n",
    "* Call: add(2, 7) => [[1, 8]] "
   ]
  },
  {
   "cell_type": "code",
   "execution_count": 28,
   "metadata": {},
   "outputs": [],
   "source": [
    "from __future__ import print_function\n",
    "class Intervals:\n",
    "    def __init__(self):\n",
    "        self.res = []\n",
    "\n",
    "    def print_interval(self):\n",
    "        print(\"Current intervals:\",self.res)\n",
    "\n",
    "    def add(self, fr, to):\n",
    "        '''\n",
    "        :param fr: Interval from (start point of interval to insert)\n",
    "        :param to: Interval to (end point of interval to insert)\n",
    "        :return: None (update self.res)\n",
    "        '''\n",
    "        intervals = self.res\n",
    "        self.res = []\n",
    "        i = 0\n",
    "        # Copy intervals ahead of the inserted one\n",
    "        while i < len(intervals) and intervals[i][1] < fr:\n",
    "            self.res.append(intervals[i])\n",
    "            i += 1\n",
    "        # Deal with interval overlap\n",
    "        while i < len(intervals) and intervals[i][0] <= to:\n",
    "            fr = min(intervals[i][0], fr)\n",
    "            to = max(intervals[i][1], to)\n",
    "            i += 1\n",
    "        self.res.append([fr, to])\n",
    "        # Copy intervals after the inserted one\n",
    "        while i < len(intervals):\n",
    "            self.res.append(intervals[i])\n",
    "            i += 1\n",
    "\n",
    "    def remove(self, fr, to):\n",
    "        '''\n",
    "        :param fr: Interval from (start point of interval to remove)\n",
    "        :param to: Interval to (end point of interval to remove)\n",
    "        :return: None (update self.res)\n",
    "        '''\n",
    "        intervals = self.res\n",
    "        self.res = []\n",
    "        for start, end in intervals:\n",
    "            # Copy intervals ahead of the inserted one\n",
    "            if start > to or end < fr:\n",
    "                self.res.append([start, end])\n",
    "            else:\n",
    "                # Deal with overlap\n",
    "                if start < fr:\n",
    "                    self.res.append([start, fr])\n",
    "                if end > to:\n",
    "                    self.res.append([to, end])\n",
    "                    \n",
    "                    \n",
    "                    "
   ]
  },
  {
   "cell_type": "code",
   "execution_count": 29,
   "metadata": {},
   "outputs": [
    {
     "name": "stdout",
     "output_type": "stream",
     "text": [
      "[[1, 5]]\n",
      "[[1, 2], [3, 5]]\n",
      "[[1, 2], [3, 5], [6, 8]]\n",
      "[[1, 2], [3, 4], [7, 8]]\n",
      "[[1, 8]]\n"
     ]
    }
   ],
   "source": [
    "'''\n",
    "Test cases\n",
    "Call: add(1, 5) => [[1, 5]]\n",
    "Call: remove(2, 3) => [[1, 2], [3, 5]]\n",
    "Call: add(6, 8) => [[1, 2], [3, 5], [6, 8]]\n",
    "Call: remove(4, 7) => [[1, 2], [3, 4], [7, 8]]\n",
    "Call: add(2, 7) => [[1, 8]]\n",
    "'''\n",
    "inter = Intervals()\n",
    "inter.add(1,5)\n",
    "print(inter.res)\n",
    "inter.remove(2,3)\n",
    "print(inter.res)\n",
    "inter.add(6,8)\n",
    "print(inter.res)\n",
    "inter.remove(4,7)\n",
    "print(inter.res)\n",
    "inter.add(2,7)\n",
    "print(inter.res)"
   ]
  },
  {
   "cell_type": "code",
   "execution_count": null,
   "metadata": {},
   "outputs": [],
   "source": []
  }
 ],
 "metadata": {
  "kernelspec": {
   "display_name": "Python 3",
   "language": "python",
   "name": "python3"
  },
  "language_info": {
   "codemirror_mode": {
    "name": "ipython",
    "version": 3
   },
   "file_extension": ".py",
   "mimetype": "text/x-python",
   "name": "python",
   "nbconvert_exporter": "python",
   "pygments_lexer": "ipython3",
   "version": "3.8.5"
  }
 },
 "nbformat": 4,
 "nbformat_minor": 4
}
