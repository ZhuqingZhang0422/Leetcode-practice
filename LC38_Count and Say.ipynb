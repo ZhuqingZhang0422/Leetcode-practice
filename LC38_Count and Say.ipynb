{
 "cells": [
  {
   "cell_type": "markdown",
   "metadata": {},
   "source": [
    "### LC38_Count and Say\n",
    "\n",
    "The count-and-say sequence is a sequence of digit strings defined by the recursive formula:\n",
    "\n",
    "countAndSay(1) = \"1\"\n",
    "countAndSay(n) is the way you would \"say\" the digit string from countAndSay(n-1), which is then converted into a different digit string.\n",
    "To determine how you \"say\" a digit string, split it into the minimal number of groups so that each group is a contiguous section all of the same character. Then for each group, say the number of characters, then say the character. To convert the saying into a digit string, replace the counts with a number and concatenate every saying.\n",
    "\n",
    "For example, the saying and conversion for digit string \"3322251\":"
   ]
  },
  {
   "cell_type": "code",
   "execution_count": 1,
   "metadata": {},
   "outputs": [],
   "source": [
    "class Solution:\n",
    "    def countAndSay(self, n: int) -> str:\n",
    "        def process(s):\n",
    "            count = 1\n",
    "            res = []\n",
    "            for i in range(len(s)-1):\n",
    "                if s[i] == s[i+1]:\n",
    "                    count += 1\n",
    "                else:\n",
    "                    res.append(str(count))\n",
    "                    res.append(s[i])\n",
    "                    count = 1\n",
    "                if i == len(s)-2:\n",
    "                    res.append(str(count))\n",
    "                    res.append(s[i+1])\n",
    "            return ''.join(res)\n",
    "        if n == 1:\n",
    "            return \"1\"\n",
    "        if n == 2:\n",
    "            return \"11\"\n",
    "        temp = '21'\n",
    "        i = 1\n",
    "        while i < n-2:\n",
    "            temp = process(temp)\n",
    "            i += 1\n",
    "        return temp"
   ]
  },
  {
   "cell_type": "code",
   "execution_count": null,
   "metadata": {},
   "outputs": [],
   "source": []
  }
 ],
 "metadata": {
  "kernelspec": {
   "display_name": "Python 3",
   "language": "python",
   "name": "python3"
  },
  "language_info": {
   "codemirror_mode": {
    "name": "ipython",
    "version": 3
   },
   "file_extension": ".py",
   "mimetype": "text/x-python",
   "name": "python",
   "nbconvert_exporter": "python",
   "pygments_lexer": "ipython3",
   "version": "3.7.6"
  }
 },
 "nbformat": 4,
 "nbformat_minor": 4
}
