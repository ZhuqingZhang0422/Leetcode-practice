{
 "cells": [
  {
   "cell_type": "markdown",
   "metadata": {},
   "source": [
    "### LC1137_N-th Tribonacci Number\n",
    "The Tribonacci sequence Tn is defined as follows: \n",
    "\n",
    "T0 = 0, T1 = 1, T2 = 1, and Tn+3 = Tn + Tn+1 + Tn+2 for n >= 0.\n",
    "\n",
    "Given n, return the value of Tn.\n",
    "\n",
    " \n",
    "\n",
    "Example 1:\n",
    "\n",
    "Input: n = 4\n",
    "Output: 4\n",
    "Explanation:\n",
    "T_3 = 0 + 1 + 1 = 2\n",
    "T_4 = 1 + 1 + 2 = 4\n",
    "Example 2:\n",
    "\n",
    "Input: n = 25\n",
    "Output: 1389537\n",
    " \n",
    "\n",
    "Constraints:\n",
    "\n",
    "0 <= n <= 37\n",
    "The answer is guaranteed to fit within a 32-bit integer, ie. answer <= 2^31 - 1.\n"
   ]
  },
  {
   "cell_type": "code",
   "execution_count": null,
   "metadata": {},
   "outputs": [],
   "source": [
    "class Solution:\n",
    "    def tribonacci(self, n: int) -> int:\n",
    "        dic = {}\n",
    "        dic[0], dic[1], dic[2] = 0, 1, 1\n",
    "        return self.fib(dic,n)\n",
    "    \n",
    "    def fib(self,dic,n):\n",
    "        if n-1 not in dic and n > 2:\n",
    "            dic[n-1] = self.fib(dic,n-1)\n",
    "        if n-2 not in dic and n > 2:\n",
    "            dic[n-2] = self.fib(dic,n-2)\n",
    "        if n-3 not in dic and n > 2:\n",
    "            dic[n-3] = self.fib(dic,n-2)\n",
    "        if n > 2:\n",
    "            dic[n] = dic[n-1]+dic[n-2]+dic[n-3]\n",
    "        return dic[n]"
   ]
  },
  {
   "cell_type": "code",
   "execution_count": null,
   "metadata": {},
   "outputs": [],
   "source": [
    "class Tri:\n",
    "    def __init__(self):\n",
    "        n = 38\n",
    "        self.nums = nums = [0] * n\n",
    "        nums[1] = nums[2] = 1\n",
    "        for i in range(3, n):\n",
    "            nums[i] = nums[i - 1] + nums[i - 2] + nums[i - 3]\n",
    "                    \n",
    "class Solution:\n",
    "    t = Tri()\n",
    "    def tribonacci(self, n: int) -> int:\n",
    "        return self.t.nums[n]"
   ]
  }
 ],
 "metadata": {
  "kernelspec": {
   "display_name": "Python 3",
   "language": "python",
   "name": "python3"
  },
  "language_info": {
   "codemirror_mode": {
    "name": "ipython",
    "version": 3
   },
   "file_extension": ".py",
   "mimetype": "text/x-python",
   "name": "python",
   "nbconvert_exporter": "python",
   "pygments_lexer": "ipython3",
   "version": "3.8.5"
  }
 },
 "nbformat": 4,
 "nbformat_minor": 4
}
