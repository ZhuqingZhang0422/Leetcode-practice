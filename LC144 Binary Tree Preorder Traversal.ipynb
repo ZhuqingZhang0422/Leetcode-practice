{
 "cells": [
  {
   "cell_type": "markdown",
   "metadata": {},
   "source": [
    "### LC144_Binary Tree Preorder Traversal\n",
    "Given the root of a binary tree, return the preorder traversal of its nodes' values.\n",
    "\n",
    "Example 1:\n",
    "Input: root = [1,null,2,3]\n",
    "Output: [1,2,3]\n",
    "\n",
    "Example 2:\n",
    "Input: root = []\n",
    "Output: []\n",
    "\n",
    "Example 3:\n",
    "Input: root = [1]\n",
    "Output: [1]\n",
    "\n",
    "Example 4:\n",
    "Input: root = [1,2]\n",
    "Output: [1,2]\n",
    "\n",
    "Example 5:\n",
    "Input: root = [1,null,2]\n",
    "Output: [1,2]\n",
    " \n",
    "Constraints:\n",
    "\n",
    "The number of nodes in the tree is in the range [0, 100].\n",
    "-100 <= Node.val <= 100"
   ]
  },
  {
   "cell_type": "code",
   "execution_count": null,
   "metadata": {},
   "outputs": [],
   "source": [
    "# Definition for a binary tree node.\n",
    "# class TreeNode:\n",
    "#     def __init__(self, val=0, left=None, right=None):\n",
    "#         self.val = val\n",
    "#         self.left = left\n",
    "#         self.right = right\n",
    "class Solution:\n",
    "    def preorderTraversal(self, root: TreeNode) -> List[int]:\n",
    "        self.res = []\n",
    "        self.helper(root)\n",
    "        return self.res\n",
    "    \n",
    "    def helper(self,node):\n",
    "        if node == None:\n",
    "            return \n",
    "        else:\n",
    "            self.res.append(node.val)\n",
    "            self.helper(node.left)\n",
    "            self.helper(node.right)"
   ]
  }
 ],
 "metadata": {
  "kernelspec": {
   "display_name": "Python 3",
   "language": "python",
   "name": "python3"
  },
  "language_info": {
   "codemirror_mode": {
    "name": "ipython",
    "version": 3
   },
   "file_extension": ".py",
   "mimetype": "text/x-python",
   "name": "python",
   "nbconvert_exporter": "python",
   "pygments_lexer": "ipython3",
   "version": "3.8.5"
  }
 },
 "nbformat": 4,
 "nbformat_minor": 4
}
