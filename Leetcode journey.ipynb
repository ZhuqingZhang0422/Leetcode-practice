{
 "cells": [
  {
   "cell_type": "markdown",
   "metadata": {},
   "source": [
    "# Leetcode practice\n",
    "\n",
    "### Introduction\n",
    "\n",
    "This works gives a summarization of some common leetcode practices, with detailed explaination.\n",
    "\n",
    "Please feel free to visit my leetcode profile page:\n",
    "https://leetcode.com/r-g-whatever/\n"
   ]
  },
  {
   "cell_type": "markdown",
   "metadata": {},
   "source": [
    "## Sliding window problems"
   ]
  },
  {
   "cell_type": "code",
   "execution_count": null,
   "metadata": {},
   "outputs": [],
   "source": []
  },
  {
   "cell_type": "markdown",
   "metadata": {},
   "source": [
    "## Subset problems"
   ]
  },
  {
   "cell_type": "markdown",
   "metadata": {},
   "source": [
    "### Lc 17. Letter Combinations of a Phone Number\n",
    "### Problem\n",
    "Given a string containing digits from 2-9 inclusive, return all possible letter combinations that the number could represent.\n",
    "A mapping of digit to letters (just like on the telephone buttons) is given below. Note that 1 does not map to any letters.\n",
    "### Example:\n",
    "Input: \"23\"\n",
    "Output: [\"ad\", \"ae\", \"af\", \"bd\", \"be\", \"bf\", \"cd\", \"ce\", \"cf\"].\n",
    "### Note:\n",
    "Although the above answer is in lexicographical order, your answer could be in any order you want."
   ]
  },
  {
   "cell_type": "code",
   "execution_count": null,
   "metadata": {},
   "outputs": [],
   "source": [
    "def letterCombinations(self, digits):\n",
    "    \"\"\"\n",
    "    :type digits: str\n",
    "    :rtype: List[str]\n",
    "    \"\"\"\n",
    "    # Create map for each numbers and letters\n",
    "    dic_map = {1:[''],\n",
    "               2:['a','b','c'],\n",
    "               3:['d','e','f'],\n",
    "               4:['g','h','i'],\n",
    "               5:['j','k','l'],\n",
    "               6:['m','n','o'],\n",
    "               7:['p','q','r','s'],\n",
    "               8:['t','u','v'],\n",
    "               9:['w','x','y','z'],\n",
    "               0:[' ']}\n",
    "    \n",
    "    def combine (up_lev,dic_map,digit):\n",
    "    '''\n",
    "    INPUT:  previous level of result\n",
    "            dic_map\n",
    "            next digit of numbers\n",
    "    OUTPUT: populated result\n",
    "    '''\n",
    "        cur_lev = []\n",
    "        for s in up_lev:\n",
    "            for char in dic_map[int(digit)]:\n",
    "                cur_lev.append(s+char)\n",
    "        return cur_lev\n",
    "    \n",
    "    # Pay attention to corner cases\n",
    "    if digits == '':\n",
    "        return []\n",
    "    # Start the initial level with '' to treat the initial condition\n",
    "    res = ['']\n",
    "    for digit in digits:\n",
    "        res = combine(res,dic_map,digit)\n",
    "    return res"
   ]
  },
  {
   "cell_type": "markdown",
   "metadata": {},
   "source": [
    "### Summarization\n",
    "\n",
    "Similar to a subset problem, use the previous level of result to populate new results. Another good method is use back tracing. Should be covered in the other sections"
   ]
  },
  {
   "cell_type": "markdown",
   "metadata": {},
   "source": [
    "## Two heap method"
   ]
  },
  {
   "cell_type": "markdown",
   "metadata": {},
   "source": [
    "### LC4. Median of Two Sorted Arrays\n",
    "### Problem\n",
    "Given two sorted arrays nums1 and nums2 of size m and n respectively.Return the median of the two sorted arrays.\n",
    "\n",
    "Follow up: The overall run time complexity should be O(log (m+n)).\n",
    "### Example:\n",
    "Input: nums1 = [1,3], nums2 = [2]\n",
    "Output: 2.00000\n",
    "Explanation: merged array = [1,2,3] and median is 2.\n",
    "    \n",
    "    \n",
    "Input: nums1 = [1,2], nums2 = [3,4]\n",
    "Output: 2.50000\n",
    "Explanation: merged array = [1,2,3,4] and median is (2 + 3) / 2 = 2.5."
   ]
  },
  {
   "cell_type": "code",
   "execution_count": null,
   "metadata": {},
   "outputs": [],
   "source": [
    "from heapq import *\n",
    "class Solution(object):\n",
    "    def findMedianSortedArrays(self, nums1, nums2):\n",
    "        _l1 = _l2 = 0\n",
    "        minheap = []\n",
    "        maxheap = []\n",
    "        m = len(nums1)\n",
    "        n = len(nums2)\n",
    "        while nums1 and nums2:\n",
    "            if nums1[0] <= nums2[0]:\n",
    "                if not maxheap or nums1[0] <= -maxheap[0]:\n",
    "                    heappush(maxheap,-nums1[0])\n",
    "                else:\n",
    "                    heappush(minheap,nums1[0])\n",
    "                del nums1[0]\n",
    "                self.rebalanceheap(minheap,maxheap)\n",
    "            else:\n",
    "                if not maxheap or nums2[0] <= -maxheap[0]:\n",
    "                    heappush(maxheap,-nums2[0])\n",
    "                else:\n",
    "                    heappush(minheap,nums2[0])\n",
    "                del nums2[0]\n",
    "                self.rebalanceheap(minheap,maxheap)\n",
    "        \n",
    "        while nums1:\n",
    "            if not maxheap or nums1[0] <= -maxheap[0]:\n",
    "                    heappush(maxheap,-nums1[0])\n",
    "            else:\n",
    "                heappush(minheap,nums1[0])\n",
    "            del nums1[0]\n",
    "            self.rebalanceheap(minheap,maxheap)\n",
    "        while nums2:\n",
    "            if not maxheap or nums2[0] <= -maxheap[0]:\n",
    "                heappush(maxheap,-nums2[0])\n",
    "            else:\n",
    "                heappush(minheap,nums2[0])\n",
    "            del nums2[0]\n",
    "            self.rebalanceheap(minheap,maxheap)\n",
    "            \n",
    "        print(maxheap,minheap)\n",
    "        if len(minheap) == len(maxheap):\n",
    "            return minheap[0]/2.0- maxheap[0]/2.0\n",
    "        else:\n",
    "            return -maxheap[0]/1.0\n",
    "                    \n",
    "    def rebalanceheap(self,minheap,maxheap):\n",
    "        if len(maxheap) > len(minheap)+1:\n",
    "            heappush(minheap,-heappop(maxheap))\n",
    "        if len(minheap) > len(maxheap):\n",
    "            heappush(maxheap,-heappop(minheap))"
   ]
  },
  {
   "cell_type": "markdown",
   "metadata": {},
   "source": [
    "### Summarization\n",
    "Traditional two heap method to solve for the median. Use a balance function to balance the length of the two heaps.\n",
    "    "
   ]
  },
  {
   "cell_type": "markdown",
   "metadata": {},
   "source": [
    "## String manipulation"
   ]
  },
  {
   "cell_type": "markdown",
   "metadata": {},
   "source": [
    "### LC 819. Most Common Word\n",
    "Given a paragraph and a list of banned words, return the most frequent word that is not in the list of banned words.  It is guaranteed there is at least one word that isn't banned, and that the answer is unique.\n",
    "\n",
    "Words in the list of banned words are given in lowercase, and free of punctuation.  Words in the paragraph are not case sensitive.  The answer is in lowercase."
   ]
  },
  {
   "cell_type": "code",
   "execution_count": 4,
   "metadata": {},
   "outputs": [],
   "source": [
    "class Solution(object):\n",
    "    def mostCommonWord(self, paragraph, banned):\n",
    "        \"\"\"\n",
    "        :type paragraph: str\n",
    "        :type banned: List[str]\n",
    "        :rtype: str\n",
    "        \"\"\"\n",
    "        # Remove punctuation and change words to lower cases\n",
    "        normalized_str = ''.join([c.lower() if c.isalnum() else ' ' for c in paragraph])\n",
    "        words = normalized_str.split()\n",
    "        word_bank = Counter(words)\n",
    "        # Sorted the word counter into a decending order\n",
    "        res_bank = sorted(word_bank.items(),key = lambda x:-x[1])\n",
    "        while res_bank[0][0] in banned:\n",
    "            res_bank.pop(0)\n",
    "        return res_bank[0][0]"
   ]
  },
  {
   "cell_type": "markdown",
   "metadata": {},
   "source": [
    "## Hash map"
   ]
  },
  {
   "cell_type": "markdown",
   "metadata": {},
   "source": [
    "### LC 532. K-diff Pairs in an Array\n",
    "\n",
    "Given an array of integers and an integer k, you need to find the number of unique k-diff pairs in the array. Here a k-diff pair is defined as an integer pair (i, j), where i and j are both numbers in the array and their absolute difference is k.\n",
    "\n",
    "#### Example 1:\n",
    "Input: [3, 1, 4, 1, 5], k = 2\n",
    "Output: 2\n",
    "Explanation: There are two 2-diff pairs in the array, (1, 3) and (3, 5).\n",
    "Although we have two 1s in the input, we should only return the number of unique pairs."
   ]
  },
  {
   "cell_type": "code",
   "execution_count": null,
   "metadata": {},
   "outputs": [],
   "source": [
    "class Solution(object):\n",
    "    def findPairs(self, nums, k):\n",
    "        \"\"\"\n",
    "        :type nums: List[int]\n",
    "        :type k: int\n",
    "        :rtype: int\n",
    "        \"\"\"\n",
    "        res = 0\n",
    "        dic = Counter(nums)\n",
    "        for x in dic:\n",
    "            if k > 0 and x+k in dic:\n",
    "                res +=1\n",
    "            elif k == 0 and dic[x] > 1:\n",
    "                res +=1\n",
    "        return res"
   ]
  }
 ],
 "metadata": {
  "kernelspec": {
   "display_name": "Python 3",
   "language": "python",
   "name": "python3"
  },
  "language_info": {
   "codemirror_mode": {
    "name": "ipython",
    "version": 3
   },
   "file_extension": ".py",
   "mimetype": "text/x-python",
   "name": "python",
   "nbconvert_exporter": "python",
   "pygments_lexer": "ipython3",
   "version": "3.7.6"
  }
 },
 "nbformat": 4,
 "nbformat_minor": 4
}
