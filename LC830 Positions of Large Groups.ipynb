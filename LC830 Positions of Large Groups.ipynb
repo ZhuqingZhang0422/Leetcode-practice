{
 "cells": [
  {
   "cell_type": "markdown",
   "metadata": {},
   "source": [
    "### LC830_Positions of Large Groups\n",
    "\n",
    "In a string s of lowercase letters, these letters form consecutive groups of the same character.\n",
    "\n",
    "For example, a string like s = \"abbxxxxzyy\" has the groups \"a\", \"bb\", \"xxxx\", \"z\", and \"yy\".\n",
    "\n",
    "A group is identified by an interval [start, end], where start and end denote the start and end indices (inclusive) of the group. In the above example, \"xxxx\" has the interval [3,6].\n",
    "\n",
    "A group is considered large if it has 3 or more characters.\n",
    "\n",
    "Return the intervals of every large group sorted in increasing order by start index.\n",
    "\n",
    " \n",
    "\n",
    "Example 1:\n",
    "\n",
    "Input: s = \"abbxxxxzzy\"\n",
    "Output: [[3,6]]\n",
    "Explanation: \"xxxx\" is the only large group with start index 3 and end index 6.\n",
    "Example 2:\n",
    "\n",
    "Input: s = \"abc\"\n",
    "Output: []\n",
    "Explanation: We have groups \"a\", \"b\", and \"c\", none of which are large groups.\n",
    "Example 3:\n",
    "\n",
    "Input: s = \"abcdddeeeeaabbbcd\"\n",
    "Output: [[3,5],[6,9],[12,14]]\n",
    "Explanation: The large groups are \"ddd\", \"eeee\", and \"bbb\".\n",
    "Example 4:\n",
    "\n",
    "Input: s = \"aba\"\n",
    "Output: []"
   ]
  },
  {
   "cell_type": "code",
   "execution_count": null,
   "metadata": {},
   "outputs": [],
   "source": [
    "class Solution:\n",
    "    def largeGroupPositions(self, s: str) -> List[List[int]]:\n",
    "        n = len(s)\n",
    "        res = []\n",
    "        count = 1\n",
    "        i = 0\n",
    "        start = 0\n",
    "        while i < n-1:\n",
    "            if s[i] == s[i+1]:\n",
    "                count += 1\n",
    "            else:\n",
    "                if count >= 3:\n",
    "                    res.append([start,start+count-1])\n",
    "                start = i+1\n",
    "                count = 1 \n",
    "            if i == n-2 and s[i] == s[i+1]:\n",
    "                if count >=3:\n",
    "                    res.append([start,n-1])\n",
    "            i+=1\n",
    "        return res"
   ]
  },
  {
   "cell_type": "code",
   "execution_count": null,
   "metadata": {},
   "outputs": [],
   "source": [
    "class Solution:\n",
    "    def largeGroupPositions(self, s: str) -> List[List[int]]:\n",
    "        n = len(s)\n",
    "        res = []\n",
    "        j = 0\n",
    "        for i in range(n):\n",
    "            if i == n-1 or s[i]!=s[i+1]:\n",
    "                if i-j+1 >=3:\n",
    "                    res.append([j,i])\n",
    "                j = i+1\n",
    "        return res"
   ]
  }
 ],
 "metadata": {
  "kernelspec": {
   "display_name": "Python 3",
   "language": "python",
   "name": "python3"
  },
  "language_info": {
   "codemirror_mode": {
    "name": "ipython",
    "version": 3
   },
   "file_extension": ".py",
   "mimetype": "text/x-python",
   "name": "python",
   "nbconvert_exporter": "python",
   "pygments_lexer": "ipython3",
   "version": "3.7.6"
  }
 },
 "nbformat": 4,
 "nbformat_minor": 4
}
