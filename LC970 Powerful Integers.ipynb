{
 "cells": [
  {
   "cell_type": "markdown",
   "metadata": {},
   "source": [
    "### LC970_Powerful Integers\n",
    "Given two positive integers x and y, an integer is powerful if it is equal to x^i + y^j for some integers i >= 0 and j >= 0.\n",
    "\n",
    "Return a list of all powerful integers that have value less than or equal to bound.\n",
    "\n",
    "You may return the answer in any order.  In your answer, each value should occur at most once.\n",
    "\n",
    " \n",
    "\n",
    "Example 1:\n",
    "\n",
    "Input: x = 2, y = 3, bound = 10\n",
    "Output: [2,3,4,5,7,9,10]\n",
    "Explanation: \n",
    "2 = 2^0 + 3^0\n",
    "3 = 2^1 + 3^0\n",
    "4 = 2^0 + 3^1\n",
    "5 = 2^1 + 3^1\n",
    "7 = 2^2 + 3^1\n",
    "9 = 2^3 + 3^0\n",
    "10 = 2^0 + 3^2\n",
    "Example 2:\n",
    "\n",
    "Input: x = 3, y = 5, bound = 15\n",
    "Output: [2,4,6,8,10,14]"
   ]
  },
  {
   "cell_type": "code",
   "execution_count": null,
   "metadata": {},
   "outputs": [],
   "source": [
    "import math\n",
    "class Solution:\n",
    "    def powerfulIntegers(self, x: int, y: int, bound: int) -> List[int]:\n",
    "        ans = set()\n",
    "        xn = math.ceil(math.log(bound, x)) if x != 1 else 1\n",
    "        yn = math.ceil(math.log(bound, y)) if y != 1 else 1\n",
    "        \n",
    "        for i in range(xn + 1):\n",
    "            for j in range(yn + 1):\n",
    "                if x ** i + y ** j <= bound:\n",
    "                    ans.add(x ** i + y ** j)\n",
    "                else:\n",
    "                    break\n",
    "                    \n",
    "        return list(ans)"
   ]
  }
 ],
 "metadata": {
  "kernelspec": {
   "display_name": "Python 3",
   "language": "python",
   "name": "python3"
  },
  "language_info": {
   "codemirror_mode": {
    "name": "ipython",
    "version": 3
   },
   "file_extension": ".py",
   "mimetype": "text/x-python",
   "name": "python",
   "nbconvert_exporter": "python",
   "pygments_lexer": "ipython3",
   "version": "3.7.6"
  }
 },
 "nbformat": 4,
 "nbformat_minor": 4
}
