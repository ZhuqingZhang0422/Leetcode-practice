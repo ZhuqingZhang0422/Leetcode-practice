{
 "cells": [
  {
   "cell_type": "markdown",
   "metadata": {},
   "source": [
    "### LC1528_Shuffle String\n",
    "Given a string s and an integer array indices of the same length.\n",
    "\n",
    "The string s will be shuffled such that the character at the ith position moves to indices[i] in the shuffled string.\n",
    "\n",
    "Return the shuffled string.\n",
    "\n",
    " \n",
    "\n",
    "Example 1:\n",
    "Input: s = \"codeleet\", indices = [4,5,6,7,0,2,1,3]\n",
    "Output: \"leetcode\"\n",
    "Explanation: As shown, \"codeleet\" becomes \"leetcode\" after shuffling.\n",
    "\n",
    "Example 2:\n",
    "Input: s = \"abc\", indices = [0,1,2]\n",
    "Output: \"abc\"\n",
    "Explanation: After shuffling, each character remains in its position.\n",
    "\n",
    "Example 3:\n",
    "Input: s = \"aiohn\", indices = [3,1,4,2,0]\n",
    "Output: \"nihao\"\n",
    "\n",
    "Example 4:\n",
    "Input: s = \"aaiougrt\", indices = [4,0,2,6,7,3,1,5]\n",
    "Output: \"arigatou\"\n",
    "\n",
    "Example 5:\n",
    "Input: s = \"art\", indices = [1,0,2]\n",
    "Output: \"rat\""
   ]
  },
  {
   "cell_type": "code",
   "execution_count": null,
   "metadata": {},
   "outputs": [],
   "source": [
    "class Solution:\n",
    "    def restoreString(self, s: str, indices: List[int]) -> str:\n",
    "        res = [None]* len(indices)\n",
    "        for i in range(len(s)):\n",
    "            res[indices[i]] = s[i]\n",
    "        return ''.join(res)"
   ]
  }
 ],
 "metadata": {
  "kernelspec": {
   "display_name": "Python 3",
   "language": "python",
   "name": "python3"
  },
  "language_info": {
   "codemirror_mode": {
    "name": "ipython",
    "version": 3
   },
   "file_extension": ".py",
   "mimetype": "text/x-python",
   "name": "python",
   "nbconvert_exporter": "python",
   "pygments_lexer": "ipython3",
   "version": "3.8.5"
  }
 },
 "nbformat": 4,
 "nbformat_minor": 4
}
