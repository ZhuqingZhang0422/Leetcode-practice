{
 "cells": [
  {
   "cell_type": "markdown",
   "metadata": {},
   "source": [
    "### LC131_Palindrome Partitioning\n",
    "Given a string s, partition s such that every substring of the partition is a palindrome.\n",
    "\n",
    "Return all possible palindrome partitioning of s.\n",
    "\n",
    "Example:\n",
    "\n",
    "Input: \"aab\"\n",
    "Output:\n",
    "[\n",
    "  [\"aa\",\"b\"],\n",
    "  [\"a\",\"a\",\"b\"]\n",
    "]"
   ]
  },
  {
   "cell_type": "code",
   "execution_count": null,
   "metadata": {},
   "outputs": [],
   "source": [
    "class Solution:\n",
    "    def partition(self, s: str) -> List[List[str]]:\n",
    "        self.res = []\n",
    "        self.back_t(s,[])\n",
    "        return self.res\n",
    "    \n",
    "    def back_t(self,s,path):\n",
    "        if len(s) == 0:\n",
    "            self.res.append(path[:])\n",
    "            return\n",
    "        \n",
    "        for i in range (len(s)+1):\n",
    "            if s[:i] == s[i-1::-1]:\n",
    "                path.append(s[:i])\n",
    "                self.back_t(s[i:],path)\n",
    "                path.pop()\n",
    "#Key point here is to use path.pop to backtrack and erase the previous pop()\n"
   ]
  }
 ],
 "metadata": {
  "kernelspec": {
   "display_name": "Python 3",
   "language": "python",
   "name": "python3"
  },
  "language_info": {
   "codemirror_mode": {
    "name": "ipython",
    "version": 3
   },
   "file_extension": ".py",
   "mimetype": "text/x-python",
   "name": "python",
   "nbconvert_exporter": "python",
   "pygments_lexer": "ipython3",
   "version": "3.7.6"
  }
 },
 "nbformat": 4,
 "nbformat_minor": 4
}
