{
 "cells": [
  {
   "cell_type": "markdown",
   "metadata": {},
   "source": [
    "### LC496_Next Greater Element I\n",
    "You are given two integer arrays nums1 and nums2 both of unique elements, where nums1 is a subset of nums2.\n",
    "\n",
    "Find all the next greater numbers for nums1's elements in the corresponding places of nums2.\n",
    "\n",
    "The Next Greater Number of a number x in nums1 is the first greater number to its right in nums2. If it does not exist, return -1 for this number.\n",
    "\n",
    " \n",
    "\n",
    "Example 1:\n",
    "\n",
    "Input: nums1 = [4,1,2], nums2 = [1,3,4,2]\n",
    "Output: [-1,3,-1]\n",
    "Explanation:\n",
    "For number 4 in the first array, you cannot find the next greater number for it in the second array, so output -1.\n",
    "For number 1 in the first array, the next greater number for it in the second array is 3.\n",
    "For number 2 in the first array, there is no next greater number for it in the second array, so output -1.\n",
    "Example 2:\n",
    "\n",
    "Input: nums1 = [2,4], nums2 = [1,2,3,4]\n",
    "Output: [3,-1]\n",
    "Explanation:\n",
    "For number 2 in the first array, the next greater number for it in the second array is 3.\n",
    "For number 4 in the first array, there is no next greater number for it in the second array, so output -1."
   ]
  },
  {
   "cell_type": "code",
   "execution_count": null,
   "metadata": {},
   "outputs": [],
   "source": [
    "class Solution:\n",
    "    def nextGreaterElement(self, nums1: List[int], nums2: List[int]) -> List[int]:\n",
    "        res = []\n",
    "        for num in nums1:\n",
    "            left = nums2.index(num)\n",
    "            next_g = max(nums2[left:])\n",
    "            if next_g == nums2[left]:\n",
    "                res.append(-1)\n",
    "            else:\n",
    "                for n in nums2[left:]:\n",
    "                    if n > num:\n",
    "                        res.append(n)\n",
    "                        break\n",
    "        return res"
   ]
  }
 ],
 "metadata": {
  "kernelspec": {
   "display_name": "Python 3",
   "language": "python",
   "name": "python3"
  },
  "language_info": {
   "codemirror_mode": {
    "name": "ipython",
    "version": 3
   },
   "file_extension": ".py",
   "mimetype": "text/x-python",
   "name": "python",
   "nbconvert_exporter": "python",
   "pygments_lexer": "ipython3",
   "version": "3.7.6"
  }
 },
 "nbformat": 4,
 "nbformat_minor": 4
}
