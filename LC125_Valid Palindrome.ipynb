{
 "cells": [
  {
   "cell_type": "markdown",
   "metadata": {},
   "source": [
    "### LC125_Valid Palindrome\n",
    "Given a string, determine if it is a palindrome, considering only alphanumeric characters and ignoring cases.\n",
    "\n",
    "Note: For the purpose of this problem, we define empty string as valid palindrome.\n",
    "\n",
    "Example 1:\n",
    "\n",
    "Input: \"A man, a plan, a canal: Panama\"\n",
    "Output: true\n",
    "Example 2:\n",
    "\n",
    "Input: \"race a car\"\n",
    "Output: false"
   ]
  },
  {
   "cell_type": "code",
   "execution_count": null,
   "metadata": {},
   "outputs": [],
   "source": [
    "class Solution:\n",
    "    def isPalindrome(self, s: str) -> bool:\n",
    "        i, j, n = 0, 0, len(s)\n",
    "        s_p = []\n",
    "        puc = string.punctuation + ' '\n",
    "        for char in s:\n",
    "            if char in puc:\n",
    "                continue\n",
    "            s_p.append(char.lower())\n",
    "        s = ''.join(s_p)\n",
    "        print(s)\n",
    "        left, right, n = 0, len(s)-1, len(s)\n",
    "        while left < right:\n",
    "            if s[left] != s[right]:\n",
    "                return False\n",
    "            left += 1\n",
    "            right -= 1\n",
    "        print(s[left:right])\n",
    "        return True"
   ]
  },
  {
   "cell_type": "code",
   "execution_count": null,
   "metadata": {},
   "outputs": [],
   "source": [
    "def isPalindrome(self, s: str) -> bool:\n",
    "\n",
    "        filtered_chars = filter(lambda ch: ch.isalnum(), s)\n",
    "        lowercase_filtered_chars = map(lambda ch: ch.lower(), filtered_chars)\n",
    "\n",
    "        filtered_chars_list = list(lowercase_filtered_chars)\n",
    "        reversed_chars_list = filtered_chars_list[::-1]\n",
    "\n",
    "        return filtered_chars_list == reversed_chars_list"
   ]
  }
 ],
 "metadata": {
  "kernelspec": {
   "display_name": "Python 3",
   "language": "python",
   "name": "python3"
  },
  "language_info": {
   "codemirror_mode": {
    "name": "ipython",
    "version": 3
   },
   "file_extension": ".py",
   "mimetype": "text/x-python",
   "name": "python",
   "nbconvert_exporter": "python",
   "pygments_lexer": "ipython3",
   "version": "3.7.6"
  }
 },
 "nbformat": 4,
 "nbformat_minor": 4
}
