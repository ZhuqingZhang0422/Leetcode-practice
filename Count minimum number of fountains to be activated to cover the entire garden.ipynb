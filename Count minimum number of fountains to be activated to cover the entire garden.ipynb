{
 "cells": [
  {
   "cell_type": "markdown",
   "metadata": {},
   "source": [
    "### Count minimum number of fountains to be activated to cover the entire garden\n",
    "Difficulty Level : Hard\n",
    "There is a one-dimensional garden of length N. In each position of the N length garden, a fountain has been installed. Given an array a[]such that a[i] describes the coverage limit of ith fountain. A fountain can cover the range from the position max(i – a[i], 1) to min(i + a[i], N). In beginning, all the fountains are switched off. The task is to find the minimum number of fountains needed to be activated such that the whole N-length garden can be covered by water.\n",
    "\n",
    "Examples:\n",
    "\n",
    "Input: a[] = {1, 2, 1}\n",
    "Output: 1\n",
    "Explanation:\n",
    "For position 1: a[1] = 1, range = 1 to 2\n",
    "For position 2: a[2] = 2, range = 1 to 3\n",
    "For position 3: a[3] = 1, range = 2 to 3\n",
    "Therefore, the fountain at position a[2] covers the whole garden.\n",
    "Therefore, the required output is 1.\n",
    "\n",
    "Input: a[] = {2, 1, 1, 2, 1} \n",
    "Output: 2 "
   ]
  },
  {
   "cell_type": "code",
   "execution_count": null,
   "metadata": {},
   "outputs": [],
   "source": [
    "def minCntFoun(a, N):\n",
    " \n",
    "    # dp[i]: Stores the position of\n",
    "    # rightmost fountain that can\n",
    "    # be covered by water of leftmost\n",
    "    # fountain of the i-th fountain\n",
    "    dp = [0] * N\n",
    "    for i in range(N):\n",
    "      dp[i] = -1\n",
    " \n",
    "    # Traverse the array\n",
    "    for i in range(N):\n",
    "        idxLeft = max(i - a[i], 0)\n",
    "        idxRight = min(i + (a[i] + 1), N)\n",
    "        dp[idxLeft] = max(dp[idxLeft],\n",
    "                          idxRight)\n",
    " \n",
    "    # Stores count of fountains\n",
    "    # needed to be activated\n",
    "    cntfount = 1\n",
    " \n",
    "    idxRight = dp[0]\n",
    " \n",
    "    # Stores index of next fountain\n",
    "    # that needed to be activated\n",
    "    idxNext = 0\n",
    " \n",
    "    # Traverse dp[] array\n",
    "    for i in range(N):\n",
    "        idxNext = max(idxNext,\n",
    "                      dp[i])\n",
    " \n",
    "        # If left most fountain\n",
    "        # cover all its range\n",
    "        if (i == idxRight):\n",
    "            cntfount += 1\n",
    "            idxRight = idxNext\n",
    " \n",
    "    return cntfount\n",
    " \n",
    " \n",
    "# Driver code\n",
    "if __name__ == '__main__':\n",
    " \n",
    "    a = [1, 2, 1]\n",
    "    N = len(a)\n",
    " \n",
    "    print(minCntFoun(a, N))\n",
    " \n",
    "# This code is contributed by Shivam Singh"
   ]
  }
 ],
 "metadata": {
  "kernelspec": {
   "display_name": "Python 3",
   "language": "python",
   "name": "python3"
  },
  "language_info": {
   "codemirror_mode": {
    "name": "ipython",
    "version": 3
   },
   "file_extension": ".py",
   "mimetype": "text/x-python",
   "name": "python",
   "nbconvert_exporter": "python",
   "pygments_lexer": "ipython3",
   "version": "3.7.6"
  }
 },
 "nbformat": 4,
 "nbformat_minor": 4
}
