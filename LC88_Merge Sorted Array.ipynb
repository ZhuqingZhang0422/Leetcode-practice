{
 "cells": [
  {
   "cell_type": "markdown",
   "metadata": {},
   "source": [
    "### LC88_Merge Sorted Array\n",
    "Given two sorted integer arrays nums1 and nums2, merge nums2 into nums1 as one sorted array.\n",
    "\n",
    "Note:\n",
    "\n",
    "The number of elements initialized in nums1 and nums2 are m and n respectively.\n",
    "You may assume that nums1 has enough space (size that is equal to m + n) to hold additional elements from nums2.\n",
    "Example:\n",
    "\n",
    "Input:\n",
    "nums1 = [1,2,3,0,0,0], m = 3\n",
    "nums2 = [2,5,6],       n = 3\n",
    "\n",
    "Output: [1,2,2,3,5,6]"
   ]
  },
  {
   "cell_type": "code",
   "execution_count": null,
   "metadata": {},
   "outputs": [],
   "source": [
    "class Solution(object):\n",
    "    def merge(self, nums1, m, nums2, n):\n",
    "        \"\"\"\n",
    "        :type nums1: List[int]\n",
    "        :type m: int\n",
    "        :type nums2: List[int]\n",
    "        :type n: int\n",
    "        :rtype: None Do not return anything, modify nums1 in-place instead.\n",
    "        \"\"\"\n",
    "        nums1_copy = nums1[:m] \n",
    "        nums1[:] = []\n",
    "\n",
    "        # Two get pointers for nums1_copy and nums2.\n",
    "        p1 = 0 \n",
    "        p2 = 0\n",
    "        \n",
    "        # Compare elements from nums1_copy and nums2\n",
    "        # and add the smallest one into nums1.\n",
    "        while p1 < m and p2 < n: \n",
    "            if nums1_copy[p1] < nums2[p2]: \n",
    "                nums1.append(nums1_copy[p1])\n",
    "                p1 += 1\n",
    "            else:\n",
    "                nums1.append(nums2[p2])\n",
    "                p2 += 1\n",
    "\n",
    "        # if there are still elements to add\n",
    "        if p1 < m: \n",
    "            nums1[p1 + p2:] = nums1_copy[p1:]\n",
    "        if p2 < n:\n",
    "            nums1[p1 + p2:] = nums2[p2:]"
   ]
  }
 ],
 "metadata": {
  "kernelspec": {
   "display_name": "Python 3",
   "language": "python",
   "name": "python3"
  },
  "language_info": {
   "codemirror_mode": {
    "name": "ipython",
    "version": 3
   },
   "file_extension": ".py",
   "mimetype": "text/x-python",
   "name": "python",
   "nbconvert_exporter": "python",
   "pygments_lexer": "ipython3",
   "version": "3.7.6"
  }
 },
 "nbformat": 4,
 "nbformat_minor": 4
}
