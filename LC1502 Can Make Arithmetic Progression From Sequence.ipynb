{
 "cells": [
  {
   "cell_type": "markdown",
   "metadata": {},
   "source": [
    "### LC1502_Can Make Arithmetic Progression From Sequence\n",
    "Given an array of numbers arr. A sequence of numbers is called an arithmetic progression if the difference between any two consecutive elements is the same.\n",
    "\n",
    "Return true if the array can be rearranged to form an arithmetic progression, otherwise, return false.\n",
    "\n",
    " \n",
    "\n",
    "Example 1:\n",
    "Input: arr = [3,5,1]\n",
    "Output: true\n",
    "Explanation: We can reorder the elements as [1,3,5] or [5,3,1] with differences 2 and -2 respectively, between each consecutive elements.\n",
    "\n",
    "Example 2:\n",
    "Input: arr = [1,2,4]\n",
    "Output: false\n",
    "Explanation: There is no way to reorder the elements to obtain an arithmetic progression."
   ]
  },
  {
   "cell_type": "code",
   "execution_count": null,
   "metadata": {},
   "outputs": [],
   "source": [
    "class Solution:\n",
    "    def canMakeArithmeticProgression(self, arr: List[int]) -> bool:\n",
    "        nums = sorted (arr)\n",
    "        dis = nums[1] - nums[0]\n",
    "        i = 1\n",
    "        while i<len(arr)-1:\n",
    "            if nums[i+1] - nums[i] != dis:\n",
    "                return False\n",
    "            i += 1\n",
    "        return True"
   ]
  }
 ],
 "metadata": {
  "kernelspec": {
   "display_name": "Python 3",
   "language": "python",
   "name": "python3"
  },
  "language_info": {
   "codemirror_mode": {
    "name": "ipython",
    "version": 3
   },
   "file_extension": ".py",
   "mimetype": "text/x-python",
   "name": "python",
   "nbconvert_exporter": "python",
   "pygments_lexer": "ipython3",
   "version": "3.7.6"
  }
 },
 "nbformat": 4,
 "nbformat_minor": 4
}
