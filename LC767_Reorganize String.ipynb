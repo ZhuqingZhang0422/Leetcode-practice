{
 "cells": [
  {
   "cell_type": "code",
   "execution_count": null,
   "metadata": {},
   "outputs": [],
   "source": [
    "767. Reorganize String\n",
    "Medium\n",
    "\n",
    "1929\n",
    "\n",
    "86\n",
    "\n",
    "Add to List\n",
    "\n",
    "Share\n",
    "Given a string S, check if the letters can be rearranged so that two characters that are adjacent to each other are not the same.\n",
    "\n",
    "If possible, output any possible result.  If not possible, return the empty string.\n",
    "\n",
    "Example 1:\n",
    "\n",
    "Input: S = \"aab\"\n",
    "Output: \"aba\"\n",
    "Example 2:\n",
    "\n",
    "Input: S = \"aaab\"\n",
    "Output: \"\""
   ]
  },
  {
   "cell_type": "code",
   "execution_count": null,
   "metadata": {},
   "outputs": [],
   "source": [
    "from heapq import *\n",
    "from collections import deque\n",
    "class Solution:\n",
    "    def reorganizeString(self, S: str) -> str:\n",
    "        char_dic = Counter(S)\n",
    "        maxheap = []\n",
    "        res = []\n",
    "        counter = 0\n",
    "        for item in char_dic.items():\n",
    "            heappush(maxheap,(-item[1],item[0]))\n",
    "        while maxheap:\n",
    "            wait = []\n",
    "            k = 2\n",
    "            while k>0 and maxheap:\n",
    "                item = heappop(maxheap)\n",
    "                res.append(item[1])\n",
    "                if -item[0] > 1:\n",
    "                    wait.append((item[0]+1,item[1]))\n",
    "                k -= 1\n",
    "                counter +=1\n",
    "\n",
    "            for item in wait:\n",
    "                heappush(maxheap,item)\n",
    "            \n",
    "            if maxheap:\n",
    "                counter += k\n",
    "        if counter > len(S):\n",
    "            return \"\"\n",
    "        else:\n",
    "            return ''.join(res)"
   ]
  }
 ],
 "metadata": {
  "kernelspec": {
   "display_name": "Python 3",
   "language": "python",
   "name": "python3"
  },
  "language_info": {
   "codemirror_mode": {
    "name": "ipython",
    "version": 3
   },
   "file_extension": ".py",
   "mimetype": "text/x-python",
   "name": "python",
   "nbconvert_exporter": "python",
   "pygments_lexer": "ipython3",
   "version": "3.7.6"
  }
 },
 "nbformat": 4,
 "nbformat_minor": 4
}
