{
 "cells": [
  {
   "cell_type": "markdown",
   "metadata": {},
   "source": [
    "### LC1200_Minimum Absolute Difference\n",
    "Given an array of distinct integers arr, find all pairs of elements with the minimum absolute difference of any two elements. \n",
    "\n",
    "Return a list of pairs in ascending order(with respect to pairs), each pair [a, b] follows\n",
    "\n",
    "a, b are from arr\n",
    "a < b\n",
    "b - a equals to the minimum absolute difference of any two elements in arr\n",
    " \n",
    "\n",
    "Example 1:\n",
    "\n",
    "Input: arr = [4,2,1,3]\n",
    "Output: [[1,2],[2,3],[3,4]]\n",
    "Explanation: The minimum absolute difference is 1. List all pairs with difference equal to 1 in ascending order.\n",
    "Example 2:\n",
    "\n",
    "Input: arr = [1,3,6,10,15]\n",
    "Output: [[1,3]]\n",
    "Example 3:\n",
    "\n",
    "Input: arr = [3,8,-10,23,19,-4,-14,27]\n",
    "Output: [[-14,-10],[19,23],[23,27]]\n",
    " \n",
    "\n",
    "Constraints:\n",
    "\n",
    "2 <= arr.length <= 10^5\n",
    "-10^6 <= arr[i] <= 10^6"
   ]
  },
  {
   "cell_type": "code",
   "execution_count": null,
   "metadata": {},
   "outputs": [],
   "source": [
    "class Solution:\n",
    "    def minimumAbsDifference(self, arr: List[int]) -> List[List[int]]:\n",
    "        arr.sort()\n",
    "        dic = defaultdict(list)\n",
    "        for i in range (len(arr)-1):\n",
    "            key = abs(arr[i]-arr[i+1])\n",
    "            dic[key].append([arr[i],arr[i+1]])\n",
    "        res_k = min(dic.keys())\n",
    "        return dic[res_k]"
   ]
  },
  {
   "cell_type": "code",
   "execution_count": null,
   "metadata": {},
   "outputs": [],
   "source": [
    "class Solution:\n",
    "    def minimumAbsDifference(self, arr: List[int]) -> List[List[int]]:\n",
    "        arr.sort()\n",
    "        ans = []\n",
    "        minabs = arr[1]-arr[0]\n",
    "        for i in range(1,len(arr)):\n",
    "            if arr[i] - arr[i-1] == minabs:\n",
    "                ans.append((arr[i-1],arr[i]))\n",
    "            elif arr[i] - arr[i-1] < minabs:\n",
    "                ans = [(arr[i-1],arr[i])]\n",
    "                minabs = arr[i] - arr[i-1]\n",
    "        return ans "
   ]
  },
  {
   "cell_type": "code",
   "execution_count": null,
   "metadata": {},
   "outputs": [],
   "source": []
  }
 ],
 "metadata": {
  "kernelspec": {
   "display_name": "Python 3",
   "language": "python",
   "name": "python3"
  },
  "language_info": {
   "codemirror_mode": {
    "name": "ipython",
    "version": 3
   },
   "file_extension": ".py",
   "mimetype": "text/x-python",
   "name": "python",
   "nbconvert_exporter": "python",
   "pygments_lexer": "ipython3",
   "version": "3.8.5"
  }
 },
 "nbformat": 4,
 "nbformat_minor": 4
}
