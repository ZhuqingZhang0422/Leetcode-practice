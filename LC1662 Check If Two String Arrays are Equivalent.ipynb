{
 "cells": [
  {
   "cell_type": "markdown",
   "metadata": {},
   "source": [
    "### LC1662_Check If Two String Arrays are Equivalent\n",
    "Given two string arrays word1 and word2, return true if the two arrays represent the same string, and false otherwise.\n",
    "\n",
    "A string is represented by an array if the array elements concatenated in order forms the string.\n",
    "\n",
    " \n",
    "\n",
    "Example 1:\n",
    "\n",
    "Input: word1 = [\"ab\", \"c\"], word2 = [\"a\", \"bc\"]\n",
    "Output: true\n",
    "Explanation:\n",
    "word1 represents string \"ab\" + \"c\" -> \"abc\"\n",
    "word2 represents string \"a\" + \"bc\" -> \"abc\"\n",
    "The strings are the same, so return true.\n",
    "Example 2:\n",
    "\n",
    "Input: word1 = [\"a\", \"cb\"], word2 = [\"ab\", \"c\"]\n",
    "Output: false\n",
    "Example 3:\n",
    "\n",
    "Input: word1  = [\"abc\", \"d\", \"defg\"], word2 = [\"abcddefg\"]\n",
    "Output: true\n"
   ]
  },
  {
   "cell_type": "code",
   "execution_count": null,
   "metadata": {},
   "outputs": [],
   "source": [
    "class Solution:\n",
    "    def arrayStringsAreEqual(self, word1: List[str], word2: List[str]) -> bool:\n",
    "        return ''.join(word1) == ''.join(word2)"
   ]
  }
 ],
 "metadata": {
  "kernelspec": {
   "display_name": "Python 3",
   "language": "python",
   "name": "python3"
  },
  "language_info": {
   "codemirror_mode": {
    "name": "ipython",
    "version": 3
   },
   "file_extension": ".py",
   "mimetype": "text/x-python",
   "name": "python",
   "nbconvert_exporter": "python",
   "pygments_lexer": "ipython3",
   "version": "3.7.6"
  }
 },
 "nbformat": 4,
 "nbformat_minor": 4
}
