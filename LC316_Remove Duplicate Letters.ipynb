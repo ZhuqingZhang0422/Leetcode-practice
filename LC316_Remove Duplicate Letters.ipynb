{
 "cells": [
  {
   "cell_type": "markdown",
   "metadata": {},
   "source": [
    "### LC316. Remove Duplicate Letters\n",
    "Given a string s, remove duplicate letters so that every letter appears once and only once. You must make sure your result is the smallest in lexicographical order among all possible results.\n",
    "\n",
    "Note: This question is the same as 1081: https://leetcode.com/problems/smallest-subsequence-of-distinct-characters/\n",
    "\n",
    "Example 1:\n",
    "\n",
    "Input: s = \"bcabc\"\n",
    "Output: \"abc\"\n",
    "Example 2:\n",
    "\n",
    "Input: s = \"cbacdcbc\"\n",
    "Output: \"acdb\""
   ]
  },
  {
   "cell_type": "code",
   "execution_count": null,
   "metadata": {},
   "outputs": [],
   "source": [
    "class Solution:\n",
    "    def removeDuplicateLetters(self, s: str) -> str:\n",
    "        dic = Counter(s)\n",
    "        stack = []\n",
    "        for char in s:\n",
    "            while stack:\n",
    "                if char < stack[-1]:\n",
    "                    if char not in stack:\n",
    "                        if dic[stack[-1]] > 1:\n",
    "                            top = stack.pop()\n",
    "                            dic[top] -= 1\n",
    "                        else:\n",
    "                            break\n",
    "                    else:\n",
    "                        break\n",
    "                else:\n",
    "                    break\n",
    "            if char not in stack:\n",
    "                stack.append(char)\n",
    "            else:\n",
    "                dic[char] -=1 \n",
    "        return ''.join(stack)"
   ]
  }
 ],
 "metadata": {
  "kernelspec": {
   "display_name": "Python 3",
   "language": "python",
   "name": "python3"
  },
  "language_info": {
   "codemirror_mode": {
    "name": "ipython",
    "version": 3
   },
   "file_extension": ".py",
   "mimetype": "text/x-python",
   "name": "python",
   "nbconvert_exporter": "python",
   "pygments_lexer": "ipython3",
   "version": "3.7.6"
  }
 },
 "nbformat": 4,
 "nbformat_minor": 4
}
