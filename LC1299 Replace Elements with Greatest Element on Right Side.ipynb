{
 "cells": [
  {
   "cell_type": "markdown",
   "metadata": {},
   "source": [
    "### LC1299_Replace Elements with Greatest Element on Right Side\n",
    "Given an array arr, replace every element in that array with the greatest element among the elements to its right, and replace the last element with -1.\n",
    "\n",
    "After doing so, return the array.\n",
    "\n",
    " \n",
    "\n",
    "Example 1:\n",
    "\n",
    "Input: arr = [17,18,5,4,6,1]\n",
    "Output: [18,6,6,6,1,-1]\n",
    " \n",
    "\n",
    "Constraints:\n",
    "\n",
    "1 <= arr.length <= 10^4\n",
    "1 <= arr[i] <= 10^5"
   ]
  },
  {
   "cell_type": "code",
   "execution_count": null,
   "metadata": {},
   "outputs": [],
   "source": [
    "class Solution:\n",
    "    def replaceElements(self, arr: List[int]) -> List[int]:\n",
    "        r_max = arr[-1]\n",
    "        res = []\n",
    "        for i in range(2,len(arr)+1):\n",
    "            r_max = max(r_max,arr[-i+1])\n",
    "            res.append(r_max)\n",
    "        return res[::-1]+[-1]"
   ]
  }
 ],
 "metadata": {
  "kernelspec": {
   "display_name": "Python 3",
   "language": "python",
   "name": "python3"
  },
  "language_info": {
   "codemirror_mode": {
    "name": "ipython",
    "version": 3
   },
   "file_extension": ".py",
   "mimetype": "text/x-python",
   "name": "python",
   "nbconvert_exporter": "python",
   "pygments_lexer": "ipython3",
   "version": "3.7.6"
  }
 },
 "nbformat": 4,
 "nbformat_minor": 4
}
