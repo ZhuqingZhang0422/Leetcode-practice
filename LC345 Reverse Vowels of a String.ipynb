{
 "cells": [
  {
   "cell_type": "markdown",
   "metadata": {},
   "source": [
    "### LC345_Reverse Vowels of a String\n",
    "Write a function that takes a string as input and reverse only the vowels of a string.\n",
    "\n",
    "Example 1:\n",
    "\n",
    "Input: \"hello\"\n",
    "Output: \"holle\"\n",
    "Example 2:\n",
    "\n",
    "Input: \"leetcode\"\n",
    "Output: \"leotcede\"\n",
    "Note:\n",
    "The vowels does not include the letter \"y\"."
   ]
  },
  {
   "cell_type": "code",
   "execution_count": null,
   "metadata": {},
   "outputs": [],
   "source": [
    "class Solution:\n",
    "    def reverseVowels(self, s: str) -> str:\n",
    "        vow = ['a','e','i','o','u','A','E','I','O','U']\n",
    "        res = list(s)\n",
    "        start = 0\n",
    "        end = len(s)-1\n",
    "        while start <= end:\n",
    "            if s[start] not in vow:\n",
    "                start += 1\n",
    "            elif s[end] not in vow:\n",
    "                end -= 1\n",
    "            else:\n",
    "                res[start],res[end] = res[end],res[start]\n",
    "                start += 1\n",
    "                end -= 1\n",
    "        return ''.join(res)"
   ]
  }
 ],
 "metadata": {
  "kernelspec": {
   "display_name": "Python 3",
   "language": "python",
   "name": "python3"
  },
  "language_info": {
   "codemirror_mode": {
    "name": "ipython",
    "version": 3
   },
   "file_extension": ".py",
   "mimetype": "text/x-python",
   "name": "python",
   "nbconvert_exporter": "python",
   "pygments_lexer": "ipython3",
   "version": "3.7.6"
  }
 },
 "nbformat": 4,
 "nbformat_minor": 4
}
