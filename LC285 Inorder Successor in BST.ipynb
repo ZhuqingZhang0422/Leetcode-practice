{
 "cells": [
  {
   "cell_type": "markdown",
   "metadata": {},
   "source": [
    "### LC285_Inorder Successor in BST\n",
    "Given a binary search tree and a node in it, find the in-order successor of that node in the BST.\n",
    "\n",
    "The successor of a node p is the node with the smallest key greater than p.val.\n",
    "\n",
    " \n",
    "\n",
    "Example 1:\n",
    "\n",
    "\n",
    "Input: root = [2,1,3], p = 1\n",
    "Output: 2\n",
    "Explanation: 1's in-order successor node is 2. Note that both p and the return value is of TreeNode type.\n",
    "Example 2:\n",
    "\n",
    "\n",
    "Input: root = [5,3,6,2,4,null,null,1], p = 6\n",
    "Output: null\n",
    "Explanation: There is no in-order successor of the current node, so the answer is null.\n",
    " \n",
    "\n",
    "Note:\n",
    "\n",
    "If the given node has no in-order successor in the tree, return null.\n",
    "It's guaranteed that the values of the tree are unique."
   ]
  },
  {
   "cell_type": "code",
   "execution_count": null,
   "metadata": {},
   "outputs": [],
   "source": [
    "class Solution:\n",
    "    def inorderSuccessor(self, root: 'TreeNode', p: 'TreeNode') -> 'TreeNode':\n",
    "        def inorder(node):\n",
    "            if node:\n",
    "                inorder(node.left)\n",
    "                self.res.append(node)\n",
    "                inorder(node.right)\n",
    "                \n",
    "        self.res = []\n",
    "        inorder(root)\n",
    "        for i in range (len(self.res)):\n",
    "            node = self.res[i]\n",
    "            if node == p:\n",
    "                if i + 1 < len(self.res):\n",
    "                    return self.res[i+1]\n",
    "                else:\n",
    "                    return None"
   ]
  },
  {
   "cell_type": "code",
   "execution_count": null,
   "metadata": {},
   "outputs": [],
   "source": [
    "# Improvement stop at the middle"
   ]
  }
 ],
 "metadata": {
  "kernelspec": {
   "display_name": "Python 3",
   "language": "python",
   "name": "python3"
  },
  "language_info": {
   "codemirror_mode": {
    "name": "ipython",
    "version": 3
   },
   "file_extension": ".py",
   "mimetype": "text/x-python",
   "name": "python",
   "nbconvert_exporter": "python",
   "pygments_lexer": "ipython3",
   "version": "3.8.5"
  }
 },
 "nbformat": 4,
 "nbformat_minor": 4
}
