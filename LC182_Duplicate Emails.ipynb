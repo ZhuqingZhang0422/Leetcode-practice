{
 "cells": [
  {
   "cell_type": "markdown",
   "metadata": {},
   "source": [
    "### LC182_Duplicate Emails\n",
    "SQL Schema\n",
    "Write a SQL query to find all duplicate emails in a table named Person.\n",
    "\n",
    "+----+---------+\n",
    "| Id | Email   |\n",
    "+----+---------+\n",
    "| 1  | a@b.com |\n",
    "| 2  | c@d.com |\n",
    "| 3  | a@b.com |\n",
    "+----+---------+\n",
    "For example, your query should return the following for the above table:\n",
    "\n",
    "+---------+\n",
    "| Email   |\n",
    "+---------+\n",
    "| a@b.com |\n",
    "+---------+\n",
    "Note: All emails are in lowercase.\n",
    "\n",
    "Accepted\n",
    "215,990\n",
    "Submissions\n",
    "336,538\n",
    "Seen this question in a real interview before?\n",
    "\n",
    "Yes\n",
    "\n",
    "No\n"
   ]
  }
 ],
 "metadata": {
  "kernelspec": {
   "display_name": "Python 3",
   "language": "python",
   "name": "python3"
  },
  "language_info": {
   "codemirror_mode": {
    "name": "ipython",
    "version": 3
   },
   "file_extension": ".py",
   "mimetype": "text/x-python",
   "name": "python",
   "nbconvert_exporter": "python",
   "pygments_lexer": "ipython3",
   "version": "3.8.5"
  }
 },
 "nbformat": 4,
 "nbformat_minor": 4
}
