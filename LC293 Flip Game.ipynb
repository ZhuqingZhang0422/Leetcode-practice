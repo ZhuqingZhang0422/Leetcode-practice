{
 "cells": [
  {
   "cell_type": "markdown",
   "metadata": {},
   "source": [
    "### LC293_Flip Game\n",
    "You are playing the following Flip Game with your friend: Given a string that contains only these two characters: + and -, you and your friend take turns to flip two consecutive \"++\" into \"--\". The game ends when a person can no longer make a move and therefore the other person will be the winner.\n",
    "\n",
    "Write a function to compute all possible states of the string after one valid move.\n",
    "\n",
    "Example:\n",
    "\n",
    "Input: s = \"++++\"\n",
    "Output: \n",
    "[\n",
    "  \"--++\",\n",
    "  \"+--+\",\n",
    "  \"++--\"\n",
    "]\n",
    "Note: If there is no valid move, return an empty list [].\n",
    "\n"
   ]
  },
  {
   "cell_type": "code",
   "execution_count": null,
   "metadata": {},
   "outputs": [],
   "source": [
    "class Solution:\n",
    "    def generatePossibleNextMoves(self, s: str) -> List[str]:\n",
    "        n = len(s)\n",
    "        res = []\n",
    "        for i in range(n-1):\n",
    "            if s[i]+s[i+1] == \"++\":\n",
    "                res.append(s[:i:]+\"--\"+s[i+2::])\n",
    "        return res"
   ]
  }
 ],
 "metadata": {
  "kernelspec": {
   "display_name": "Python 3",
   "language": "python",
   "name": "python3"
  },
  "language_info": {
   "codemirror_mode": {
    "name": "ipython",
    "version": 3
   },
   "file_extension": ".py",
   "mimetype": "text/x-python",
   "name": "python",
   "nbconvert_exporter": "python",
   "pygments_lexer": "ipython3",
   "version": "3.8.5"
  }
 },
 "nbformat": 4,
 "nbformat_minor": 4
}
