{
 "cells": [
  {
   "cell_type": "markdown",
   "metadata": {},
   "source": [
    "### LC1232_Check If It Is a Straight Line\n",
    "You are given an array coordinates, coordinates[i] = [x, y], where [x, y] represents the coordinate of a point. Check if these points make a straight line in the XY plane.\n",
    "\n",
    " \n",
    "\n",
    " \n",
    "\n",
    "Example 1:\n",
    "\n",
    "\n",
    "\n",
    "Input: coordinates = [[1,2],[2,3],[3,4],[4,5],[5,6],[6,7]]\n",
    "Output: true\n",
    "Example 2:\n",
    "\n",
    "\n",
    "\n",
    "Input: coordinates = [[1,1],[2,2],[3,4],[4,5],[5,6],[7,7]]\n",
    "Output: false\n",
    " \n",
    "\n",
    "Constraints:\n",
    "\n",
    "2 <= coordinates.length <= 1000\n",
    "coordinates[i].length == 2\n",
    "-10^4 <= coordinates[i][0], coordinates[i][1] <= 10^4\n",
    "coordinates contains no duplicate point.\n",
    "Accepted\n",
    "87,618\n",
    "Submissions\n",
    "199,419"
   ]
  },
  {
   "cell_type": "code",
   "execution_count": null,
   "metadata": {},
   "outputs": [],
   "source": [
    "class Solution:\n",
    "    def checkStraightLine(self, coordinates: List[List[int]]) -> bool:\n",
    "        if (coordinates[-1][0]-coordinates[0][0]) != 0:\n",
    "            k = (coordinates[-1][1]-coordinates[0][1]) / (coordinates[-1][0]-coordinates[0][0])\n",
    "            for i in range(1,len(coordinates)):\n",
    "                if (coordinates[i][0]-coordinates[0][0]) != 0:\n",
    "                    tan = (coordinates[i][1]-coordinates[0][1])/ (coordinates[i][0]-coordinates[0][0])\n",
    "                    if tan != k:\n",
    "                        return False\n",
    "                else:\n",
    "                    return False\n",
    "        else:\n",
    "            for i in range(1,len(coordinates)):\n",
    "                if (coordinates[i][0]-coordinates[0][0]) != 0:\n",
    "                    return False\n",
    "        return True\n",
    "            "
   ]
  }
 ],
 "metadata": {
  "kernelspec": {
   "display_name": "Python 3",
   "language": "python",
   "name": "python3"
  },
  "language_info": {
   "codemirror_mode": {
    "name": "ipython",
    "version": 3
   },
   "file_extension": ".py",
   "mimetype": "text/x-python",
   "name": "python",
   "nbconvert_exporter": "python",
   "pygments_lexer": "ipython3",
   "version": "3.7.6"
  }
 },
 "nbformat": 4,
 "nbformat_minor": 4
}
