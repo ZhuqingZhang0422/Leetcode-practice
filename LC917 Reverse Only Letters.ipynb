{
 "cells": [
  {
   "cell_type": "markdown",
   "metadata": {},
   "source": [
    "### LC917_Reverse Only Letters\n",
    "Given a string S, return the \"reversed\" string where all characters that are not a letter stay in the same place, and all letters reverse their positions.\n",
    "\n",
    "\n",
    "Example 1:\n",
    "Input: \"ab-cd\"\n",
    "Output: \"dc-ba\"\n",
    "\n",
    "Example 2:\n",
    "Input: \"a-bC-dEf-ghIj\"\n",
    "Output: \"j-Ih-gfE-dCba\"\n",
    "\n",
    "Example 3:\n",
    "Input: \"Test1ng-Leet=code-Q!\"\n",
    "Output: \"Qedo1ct-eeLg=ntse-T!\"\n",
    " \n",
    "Note:\n",
    "\n",
    "S.length <= 100\n",
    "33 <= S[i].ASCIIcode <= 122 \n",
    "S doesn't contain \\ or \""
   ]
  },
  {
   "cell_type": "code",
   "execution_count": null,
   "metadata": {},
   "outputs": [],
   "source": [
    "class Solution:\n",
    "    def reverseOnlyLetters(self, S: str) -> str:\n",
    "        S = list(S)\n",
    "        left, right = 0, len(S)-1\n",
    "        while left < right:\n",
    "            \n",
    "            while left < len(S) and S[left].isalpha() == False:\n",
    "                left += 1\n",
    "            while right >= 0 and S[right].isalpha() == False:\n",
    "                right -= 1\n",
    "                \n",
    "            if left == len(S) or right <= 0:\n",
    "                break\n",
    "            S[left], S[right] = S[right], S[left]\n",
    "            left += 1\n",
    "            right -= 1\n",
    "            \n",
    "            while left < len(S) and S[left].isalpha() == False:\n",
    "                left += 1\n",
    "            while right >= 0 and S[right].isalpha() == False:\n",
    "                right -= 1\n",
    "                \n",
    "        return ''.join(S)"
   ]
  }
 ],
 "metadata": {
  "kernelspec": {
   "display_name": "Python 3",
   "language": "python",
   "name": "python3"
  },
  "language_info": {
   "codemirror_mode": {
    "name": "ipython",
    "version": 3
   },
   "file_extension": ".py",
   "mimetype": "text/x-python",
   "name": "python",
   "nbconvert_exporter": "python",
   "pygments_lexer": "ipython3",
   "version": "3.8.5"
  }
 },
 "nbformat": 4,
 "nbformat_minor": 4
}
