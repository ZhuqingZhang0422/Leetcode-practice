{
 "cells": [
  {
   "cell_type": "markdown",
   "metadata": {},
   "source": [
    "### LC_621.Task Scheduler\n",
    "\n",
    "Given a characters array tasks, representing the tasks a CPU needs to do, where each letter represents a different task. Tasks could be done in any order. Each task is done in one unit of time. For each unit of time, the CPU could complete either one task or just be idle.\n",
    "\n",
    "However, there is a non-negative integer n that represents the cooldown period between two same tasks (the same letter in the array), that is that there must be at least n units of time between any two same tasks.\n",
    "\n",
    "Return the least number of units of times that the CPU will take to finish all the given tasks.\n",
    "\n",
    " \n",
    "\n",
    "Example 1:\n",
    "\n",
    "Input: tasks = [\"A\",\"A\",\"A\",\"B\",\"B\",\"B\"], n = 2\n",
    "Output: 8\n",
    "Explanation: \n",
    "A -> B -> idle -> A -> B -> idle -> A -> B\n",
    "There is at least 2 units of time between any two same tasks."
   ]
  },
  {
   "cell_type": "code",
   "execution_count": null,
   "metadata": {},
   "outputs": [],
   "source": [
    "class Solution:\n",
    "    def leastInterval(self, tasks: List[str], n: int) -> int:\n",
    "        res = 0\n",
    "        maxheap = []\n",
    "        for item in Counter(tasks).items():\n",
    "            heappush(maxheap,(-item[1],item[0]))\n",
    " \n",
    "        while maxheap:\n",
    "            k = n + 1\n",
    "            wait_list = []\n",
    "            while k > 0 and maxheap:\n",
    "                res += 1\n",
    "                freq, task = heappop(maxheap)\n",
    "                if -freq > 1:\n",
    "                    wait_list.append((freq + 1, task))\n",
    "                k -= 1\n",
    "                \n",
    "            for item in wait_list:\n",
    "                heappush(maxheap,item)\n",
    "                \n",
    "            if maxheap:\n",
    "                res += k\n",
    "        return res"
   ]
  }
 ],
 "metadata": {
  "kernelspec": {
   "display_name": "Python 3",
   "language": "python",
   "name": "python3"
  },
  "language_info": {
   "codemirror_mode": {
    "name": "ipython",
    "version": 3
   },
   "file_extension": ".py",
   "mimetype": "text/x-python",
   "name": "python",
   "nbconvert_exporter": "python",
   "pygments_lexer": "ipython3",
   "version": "3.7.6"
  }
 },
 "nbformat": 4,
 "nbformat_minor": 4
}
