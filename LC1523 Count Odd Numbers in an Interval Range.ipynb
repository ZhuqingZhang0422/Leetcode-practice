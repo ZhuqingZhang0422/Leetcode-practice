{
 "cells": [
  {
   "cell_type": "markdown",
   "id": "eight-playlist",
   "metadata": {},
   "source": [
    "### LC1523_Count Odd Numbers in an Interval Range\n",
    "\n",
    "Given two non-negative integers low and high. Return the count of odd numbers between low and high (inclusive).\n",
    "\n",
    "\n",
    "Example 1:\n",
    "Input: low = 3, high = 7\n",
    "Output: 3\n",
    "Explanation: The odd numbers between 3 and 7 are [3,5,7].\n",
    "\n",
    "Example 2:\n",
    "Input: low = 8, high = 10\n",
    "Output: 1\n",
    "Explanation: The odd numbers between 8 and 10 are [9].\n",
    " \n",
    "Constraints:\n",
    "\n",
    "0 <= low <= high <= 10^9"
   ]
  },
  {
   "cell_type": "code",
   "execution_count": null,
   "id": "constant-nickel",
   "metadata": {},
   "outputs": [],
   "source": [
    "class Solution:\n",
    "    def countOdds(self, low: int, high: int) -> int:\n",
    "        res = 0\n",
    "        if low % 2 == 1:\n",
    "            res += 1\n",
    "        if high % 2 == 1:\n",
    "            res += 1\n",
    "        if low % 2 == 1 and high %2 == 1:\n",
    "            res += (high - low) // 2 - 1\n",
    "        else:\n",
    "            res += (high - low) // 2\n",
    "        return res"
   ]
  },
  {
   "cell_type": "code",
   "execution_count": null,
   "id": "resistant-kansas",
   "metadata": {},
   "outputs": [],
   "source": [
    "class Solution:\n",
    "    def countOdds(self, low: int, high: int) -> int:\n",
    "        return ((high if high % 2 else high - 1) - (low if low % 2 else low + 1)) // 2 + 1"
   ]
  }
 ],
 "metadata": {
  "kernelspec": {
   "display_name": "Python 3",
   "language": "python",
   "name": "python3"
  },
  "language_info": {
   "codemirror_mode": {
    "name": "ipython",
    "version": 3
   },
   "file_extension": ".py",
   "mimetype": "text/x-python",
   "name": "python",
   "nbconvert_exporter": "python",
   "pygments_lexer": "ipython3",
   "version": "3.6.13"
  }
 },
 "nbformat": 4,
 "nbformat_minor": 5
}
