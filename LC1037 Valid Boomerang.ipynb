{
 "cells": [
  {
   "cell_type": "markdown",
   "metadata": {},
   "source": [
    "### LC1037_Valid Boomerang\n",
    "A boomerang is a set of 3 points that are all distinct and not in a straight line.\n",
    "\n",
    "Given a list of three points in the plane, return whether these points are a boomerang.\n",
    "\n",
    " \n",
    "\n",
    "Example 1:\n",
    "\n",
    "Input: [[1,1],[2,3],[3,2]]\n",
    "Output: true\n",
    "Example 2:\n",
    "\n",
    "Input: [[1,1],[2,2],[3,3]]\n",
    "Output: false\n",
    " \n",
    "\n",
    "Note:\n",
    "\n",
    "points.length == 3\n",
    "points[i].length == 2\n",
    "0 <= points[i][j] <= 100"
   ]
  },
  {
   "cell_type": "code",
   "execution_count": null,
   "metadata": {},
   "outputs": [],
   "source": [
    "class Solution:\n",
    "    def isBoomerang(self, points: List[List[int]]) -> bool:\n",
    "        if (points[1][1] == points[0][1] and points[1][0] == points[0][0]) or (points[2][1]-points[1][1] == 0 and points[2][0] == points[1][0]) or (points[0][1]== points[2][1] and points[0][0] == points[2][0]):\n",
    "            return False\n",
    "        if points[1][0]-points[0][0] != 0 and points[2][0]-points[1][0] !=0:\n",
    "            tan1 = (points[1][1]-points[0][1])/(points[1][0]-points[0][0])\n",
    "            tan2 = (points[2][1]-points[1][1])/(points[2][0]-points[1][0])\n",
    "            return not (tan1 == tan2)\n",
    "        else:\n",
    "            if points[1][0]-points[0][0] == points[2][0]-points[1][0] == 0:\n",
    "                return False\n",
    "            else:\n",
    "                return True"
   ]
  }
 ],
 "metadata": {
  "kernelspec": {
   "display_name": "Python 3",
   "language": "python",
   "name": "python3"
  },
  "language_info": {
   "codemirror_mode": {
    "name": "ipython",
    "version": 3
   },
   "file_extension": ".py",
   "mimetype": "text/x-python",
   "name": "python",
   "nbconvert_exporter": "python",
   "pygments_lexer": "ipython3",
   "version": "3.7.6"
  }
 },
 "nbformat": 4,
 "nbformat_minor": 4
}
