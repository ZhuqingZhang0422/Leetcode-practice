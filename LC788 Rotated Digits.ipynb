{
 "cells": [
  {
   "cell_type": "markdown",
   "metadata": {},
   "source": [
    "### LC788_Rotated Digits\n",
    "X is a good number if after rotating each digit individually by 180 degrees, we get a valid number that is different from X.  Each digit must be rotated - we cannot choose to leave it alone.\n",
    "\n",
    "A number is valid if each digit remains a digit after rotation. 0, 1, and 8 rotate to themselves; 2 and 5 rotate to each other (on this case they are rotated in a different direction, in other words 2 or 5 gets mirrored); 6 and 9 rotate to each other, and the rest of the numbers do not rotate to any other number and become invalid.\n",
    "\n",
    "Now given a positive number N, how many numbers X from 1 to N are good?\n",
    "\n",
    "Example:\n",
    "Input: 10\n",
    "Output: 4\n",
    "Explanation: \n",
    "There are four good numbers in the range [1, 10] : 2, 5, 6, 9.\n",
    "Note that 1 and 10 are not good numbers, since they remain unchanged after rotating.\n",
    "Note:\n",
    "\n",
    "N  will be in range [1, 10000]."
   ]
  },
  {
   "cell_type": "code",
   "execution_count": null,
   "metadata": {},
   "outputs": [],
   "source": [
    "class Solution:\n",
    "    def rotatedDigits(self, N: int) -> int:\n",
    "        dict = {}\n",
    "        for num in range(10):\n",
    "            dict[num] = None\n",
    "        dict[1], dict[0], dict[8] = '1', '0', '8'\n",
    "        dict[2], dict[5] = '5', '2'\n",
    "        dict[6], dict[9] = '9', '6'\n",
    "        \n",
    "        def helper(num):\n",
    "            res = \"\"\n",
    "            for char in str(num):\n",
    "                if dict[int(char)] == None:\n",
    "                    return False\n",
    "                else:\n",
    "                    res += dict[int(char)]\n",
    "            return res != str(num)\n",
    "        \n",
    "        ans = 0\n",
    "        for i in range(N+1):\n",
    "            if helper(i):\n",
    "                ans += 1\n",
    "        return ans"
   ]
  }
 ],
 "metadata": {
  "kernelspec": {
   "display_name": "Python 3",
   "language": "python",
   "name": "python3"
  },
  "language_info": {
   "codemirror_mode": {
    "name": "ipython",
    "version": 3
   },
   "file_extension": ".py",
   "mimetype": "text/x-python",
   "name": "python",
   "nbconvert_exporter": "python",
   "pygments_lexer": "ipython3",
   "version": "3.7.6"
  }
 },
 "nbformat": 4,
 "nbformat_minor": 4
}
