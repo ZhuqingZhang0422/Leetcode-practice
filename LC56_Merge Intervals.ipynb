{
 "cells": [
  {
   "cell_type": "markdown",
   "metadata": {},
   "source": [
    "### LC56_Merge Intervals\n",
    "Given a collection of intervals, merge all overlapping intervals.\n",
    "\n",
    "Example 1:\n",
    "\n",
    "Input: intervals = [[1,3],[2,6],[8,10],[15,18]]\n",
    "Output: [[1,6],[8,10],[15,18]]\n",
    "Explanation: Since intervals [1,3] and [2,6] overlaps, merge them into [1,6].\n",
    "Example 2:\n",
    "\n",
    "Input: intervals = [[1,4],[4,5]]\n",
    "Output: [[1,5]]\n",
    "Explanation: Intervals [1,4] and [4,5] are considered overlapping.\n",
    "NOTE: input types have been changed on April 15, 2019. Please reset to default code definition to get new method signature."
   ]
  },
  {
   "cell_type": "code",
   "execution_count": null,
   "metadata": {},
   "outputs": [],
   "source": [
    "class Solution(object):\n",
    "    def merge(self, intervals):\n",
    "        \"\"\"\n",
    "        :type intervals: List[List[int]]\n",
    "        :rtype: List[List[int]]\n",
    "        \"\"\"\n",
    "        result = []\n",
    "        if len(intervals) < 2:\n",
    "            return intervals\n",
    "        intervals.sort (key = lambda x:x[0])\n",
    "        cur_start = intervals[0][0]\n",
    "        cur_end = intervals[0][1]\n",
    "        for i in range (1,len(intervals)):\n",
    "            if cur_end >= intervals[i][0]:\n",
    "                cur_end = max(cur_end,intervals[i][1])\n",
    "            else:\n",
    "                result.append([cur_start,cur_end])\n",
    "                cur_start = intervals[i][0]\n",
    "                cur_end = intervals[i][1]\n",
    "        result.append([cur_start,cur_end])\n",
    "        return result"
   ]
  }
 ],
 "metadata": {
  "kernelspec": {
   "display_name": "Python 3",
   "language": "python",
   "name": "python3"
  },
  "language_info": {
   "codemirror_mode": {
    "name": "ipython",
    "version": 3
   },
   "file_extension": ".py",
   "mimetype": "text/x-python",
   "name": "python",
   "nbconvert_exporter": "python",
   "pygments_lexer": "ipython3",
   "version": "3.7.6"
  }
 },
 "nbformat": 4,
 "nbformat_minor": 4
}
