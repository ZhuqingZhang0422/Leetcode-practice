{
 "cells": [
  {
   "cell_type": "markdown",
   "metadata": {},
   "source": [
    "### LC1047_Remove All Adjacent Duplicates In String\n",
    "Given a string S of lowercase letters, a duplicate removal consists of choosing two adjacent and equal letters, and removing them.\n",
    "\n",
    "We repeatedly make duplicate removals on S until we no longer can.\n",
    "\n",
    "Return the final string after all such duplicate removals have been made.  It is guaranteed the answer is unique.\n",
    "\n",
    "Example 1:\n",
    "\n",
    "Input: \"abbaca\"\n",
    "Output: \"ca\"\n",
    "Explanation: \n",
    "For example, in \"abbaca\" we could remove \"bb\" since the letters are adjacent and equal, and this is the only possible move.  The result of this move is that the string is \"aaca\", of which only \"aa\" is possible, so the final string is \"ca\".\n",
    " \n",
    "\n",
    "Note:\n",
    "\n",
    "1 <= S.length <= 20000\n",
    "S consists only of English lowercase letters."
   ]
  },
  {
   "cell_type": "code",
   "execution_count": null,
   "metadata": {},
   "outputs": [],
   "source": [
    "class Solution:\n",
    "    def removeDuplicates(self, S: str) -> str:\n",
    "        stack = []\n",
    "        for char in S:\n",
    "            if stack == [] or char != stack[-1]:\n",
    "                stack.append(char)\n",
    "            else:\n",
    "                stack.pop()\n",
    "        return ''.join(stack)"
   ]
  }
 ],
 "metadata": {
  "kernelspec": {
   "display_name": "Python 3",
   "language": "python",
   "name": "python3"
  },
  "language_info": {
   "codemirror_mode": {
    "name": "ipython",
    "version": 3
   },
   "file_extension": ".py",
   "mimetype": "text/x-python",
   "name": "python",
   "nbconvert_exporter": "python",
   "pygments_lexer": "ipython3",
   "version": "3.7.6"
  }
 },
 "nbformat": 4,
 "nbformat_minor": 4
}
