{
 "cells": [
  {
   "cell_type": "markdown",
   "metadata": {},
   "source": [
    "### 1022. Sum of Root To Leaf Binary Numbers\n",
    "\n",
    "Given a binary tree, each node has value 0 or 1.  Each root-to-leaf path represents a binary number starting with the most significant bit.  For example, if the path is 0 -> 1 -> 1 -> 0 -> 1, then this could represent 01101 in binary, which is 13.\n",
    "\n",
    "For all leaves in the tree, consider the numbers represented by the path from the root to that leaf.\n",
    "\n",
    "Return the sum of these numbers.\n",
    "\n",
    " \n",
    "\n",
    "#### Example 1:\n",
    "\n",
    "\n",
    "\n",
    "Input: [1,0,1,0,1,0,1]\n",
    "Output: 22\n",
    "Explanation: (100) + (101) + (110) + (111) = 4 + 5 + 6 + 7 = 22"
   ]
  },
  {
   "cell_type": "code",
   "execution_count": null,
   "metadata": {},
   "outputs": [],
   "source": [
    "class Solution(object):\n",
    "    def sumRootToLeaf(self, root):\n",
    "        \"\"\"\n",
    "        :type root: TreeNode\n",
    "        :rtype: int\n",
    "        \"\"\"\n",
    "        res = []\n",
    "        sum_res = 0\n",
    "        self.sum_root_rec(root,[],res)\n",
    "        for li in res:\n",
    "            i = 0\n",
    "            num = 0\n",
    "            while li != []:\n",
    "                num += li.pop()*(2**i)\n",
    "                i += 1\n",
    "            sum_res += num\n",
    "        return sum_res\n",
    "    \n",
    "    def sum_root_rec(self,root,cur_lev,res):\n",
    "        if root is None:\n",
    "            return \n",
    "        cur_lev.append(root.val)\n",
    "        if root.left is None and root.right is None:\n",
    "            res.append(list(cur_lev))\n",
    "        else:\n",
    "            self.sum_root_rec(root.left,cur_lev,res)\n",
    "            self.sum_root_rec(root.right,cur_lev,res)\n",
    "        del cur_lev[-1]"
   ]
  }
 ],
 "metadata": {
  "kernelspec": {
   "display_name": "Python 3",
   "language": "python",
   "name": "python3"
  },
  "language_info": {
   "codemirror_mode": {
    "name": "ipython",
    "version": 3
   },
   "file_extension": ".py",
   "mimetype": "text/x-python",
   "name": "python",
   "nbconvert_exporter": "python",
   "pygments_lexer": "ipython3",
   "version": "3.7.6"
  }
 },
 "nbformat": 4,
 "nbformat_minor": 4
}
