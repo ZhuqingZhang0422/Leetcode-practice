{
 "cells": [
  {
   "cell_type": "markdown",
   "metadata": {},
   "source": [
    "### LC1672_Richest Customer Wealth\n",
    "You are given an m x n integer grid accounts where accounts[i][j] is the amount of money the i​​​​​​​​​​​th​​​​ customer has in the j​​​​​​​​​​​th​​​​ bank. Return the wealth that the richest customer has.\n",
    "\n",
    "A customer's wealth is the amount of money they have in all their bank accounts. The richest customer is the customer that has the maximum wealth.\n",
    "\n",
    "Example 1:\n",
    "Input: accounts = [[1,2,3],[3,2,1]]\n",
    "Output: 6\n",
    "Explanation:\n",
    "1st customer has wealth = 1 + 2 + 3 = 6\n",
    "2nd customer has wealth = 3 + 2 + 1 = 6\n",
    "Both customers are considered the richest with a wealth of 6 each, so return 6.\n",
    "\n",
    "Example 2:\n",
    "Input: accounts = [[1,5],[7,3],[3,5]]\n",
    "Output: 10\n",
    "Explanation: \n",
    "1st customer has wealth = 6\n",
    "2nd customer has wealth = 10 \n",
    "3rd customer has wealth = 8\n",
    "The 2nd customer is the richest with a wealth of 10.\n",
    "\n",
    "Example 3:\n",
    "Input: accounts = [[2,8,7],[7,1,3],[1,9,5]]\n",
    "Output: 17\n",
    " \n",
    "\n",
    "Constraints:\n",
    "m == accounts.length\n",
    "n == accounts[i].length\n",
    "1 <= m, n <= 50\n",
    "1 <= accounts[i][j] <= 100\n"
   ]
  },
  {
   "cell_type": "code",
   "execution_count": null,
   "metadata": {},
   "outputs": [],
   "source": [
    "class Solution:\n",
    "    def maximumWealth(self, accounts: List[List[int]]) -> int:\n",
    "        return max([sum(i) for i in accounts])"
   ]
  }
 ],
 "metadata": {
  "kernelspec": {
   "display_name": "Python 3",
   "language": "python",
   "name": "python3"
  },
  "language_info": {
   "codemirror_mode": {
    "name": "ipython",
    "version": 3
   },
   "file_extension": ".py",
   "mimetype": "text/x-python",
   "name": "python",
   "nbconvert_exporter": "python",
   "pygments_lexer": "ipython3",
   "version": "3.8.5"
  }
 },
 "nbformat": 4,
 "nbformat_minor": 4
}
